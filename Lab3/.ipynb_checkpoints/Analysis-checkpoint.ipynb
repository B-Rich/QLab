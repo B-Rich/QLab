{
 "cells": [
  {
   "cell_type": "code",
   "execution_count": 67,
   "metadata": {
    "collapsed": true
   },
   "outputs": [],
   "source": [
    "import pandas as pd\n",
    "import numpy as np\n",
    "import numpy.ma as ma\n",
    "import matplotlib.pyplot as plt\n",
    "from scipy.optimize import curve_fit  # import the curve fitting function\n",
    "%matplotlib inline"
   ]
  },
  {
   "cell_type": "markdown",
   "metadata": {},
   "source": [
    "### Read-In"
   ]
  },
  {
   "cell_type": "code",
   "execution_count": 68,
   "metadata": {
    "collapsed": true
   },
   "outputs": [],
   "source": [
    "df = pd.read_excel('Data.xlsx', sheetname=None)"
   ]
  },
  {
   "cell_type": "code",
   "execution_count": 69,
   "metadata": {
    "collapsed": false
   },
   "outputs": [
    {
     "data": {
      "text/html": [
       "<div>\n",
       "<table border=\"1\" class=\"dataframe\">\n",
       "  <thead>\n",
       "    <tr style=\"text-align: right;\">\n",
       "      <th></th>\n",
       "      <th>t_f (s)</th>\n",
       "      <th>t_u (s)</th>\n",
       "      <th>t_d (s)</th>\n",
       "    </tr>\n",
       "  </thead>\n",
       "  <tbody>\n",
       "    <tr>\n",
       "      <th>0</th>\n",
       "      <td>13.60</td>\n",
       "      <td>3.79</td>\n",
       "      <td>2.89</td>\n",
       "    </tr>\n",
       "    <tr>\n",
       "      <th>1</th>\n",
       "      <td>14.57</td>\n",
       "      <td>2.82</td>\n",
       "      <td>2.65</td>\n",
       "    </tr>\n",
       "    <tr>\n",
       "      <th>2</th>\n",
       "      <td>14.60</td>\n",
       "      <td>4.37</td>\n",
       "      <td>2.73</td>\n",
       "    </tr>\n",
       "    <tr>\n",
       "      <th>3</th>\n",
       "      <td>15.51</td>\n",
       "      <td>4.36</td>\n",
       "      <td>2.80</td>\n",
       "    </tr>\n",
       "    <tr>\n",
       "      <th>4</th>\n",
       "      <td>13.69</td>\n",
       "      <td>4.67</td>\n",
       "      <td>2.34</td>\n",
       "    </tr>\n",
       "    <tr>\n",
       "      <th>5</th>\n",
       "      <td>14.80</td>\n",
       "      <td>4.51</td>\n",
       "      <td>2.45</td>\n",
       "    </tr>\n",
       "    <tr>\n",
       "      <th>6</th>\n",
       "      <td>13.78</td>\n",
       "      <td>4.64</td>\n",
       "      <td>2.45</td>\n",
       "    </tr>\n",
       "    <tr>\n",
       "      <th>7</th>\n",
       "      <td>14.60</td>\n",
       "      <td>4.12</td>\n",
       "      <td>2.21</td>\n",
       "    </tr>\n",
       "    <tr>\n",
       "      <th>8</th>\n",
       "      <td>13.90</td>\n",
       "      <td>4.43</td>\n",
       "      <td>2.60</td>\n",
       "    </tr>\n",
       "    <tr>\n",
       "      <th>9</th>\n",
       "      <td>14.09</td>\n",
       "      <td>7.90</td>\n",
       "      <td>2.37</td>\n",
       "    </tr>\n",
       "  </tbody>\n",
       "</table>\n",
       "</div>"
      ],
      "text/plain": [
       "   t_f (s)  t_u (s)  t_d (s)\n",
       "0    13.60     3.79     2.89\n",
       "1    14.57     2.82     2.65\n",
       "2    14.60     4.37     2.73\n",
       "3    15.51     4.36     2.80\n",
       "4    13.69     4.67     2.34\n",
       "5    14.80     4.51     2.45\n",
       "6    13.78     4.64     2.45\n",
       "7    14.60     4.12     2.21\n",
       "8    13.90     4.43     2.60\n",
       "9    14.09     7.90     2.37"
      ]
     },
     "execution_count": 69,
     "metadata": {},
     "output_type": "execute_result"
    }
   ],
   "source": [
    "df['Run 1']"
   ]
  },
  {
   "cell_type": "code",
   "execution_count": 70,
   "metadata": {
    "collapsed": true
   },
   "outputs": [],
   "source": [
    "keys = ['Run 1', 'Run 2', 'Run 3', 'Run 4']"
   ]
  },
  {
   "cell_type": "code",
   "execution_count": 71,
   "metadata": {
    "collapsed": false
   },
   "outputs": [
    {
     "data": {
      "text/plain": [
       "array([[ 13.6 ,  14.57,  14.6 ,  15.51,  13.69,  14.8 ,  13.78,  14.6 ,\n",
       "         13.9 ,  14.09],\n",
       "       [  7.19,   7.43,   6.74,   7.31,   7.2 ,   7.28,   6.96,   7.95,\n",
       "          7.22,   7.61],\n",
       "       [ 17.14,  18.35,  17.09,  17.41,  18.25,  17.28,  17.75,  16.53,\n",
       "         15.18,  16.33],\n",
       "       [  7.91,   7.83,   8.43,   7.92,   8.27,   8.17,   7.82,   8.67,\n",
       "          8.15,   7.87]])"
      ]
     },
     "execution_count": 71,
     "metadata": {},
     "output_type": "execute_result"
    }
   ],
   "source": [
    "# Fall time in seconds when V = 0\n",
    "tf = np.array([df[key]['t_f (s)'] for key in keys])\n",
    "tf"
   ]
  },
  {
   "cell_type": "code",
   "execution_count": 72,
   "metadata": {
    "collapsed": false
   },
   "outputs": [
    {
     "data": {
      "text/plain": [
       "array([ 14.314,   7.289,  17.131,   8.104])"
      ]
     },
     "execution_count": 72,
     "metadata": {},
     "output_type": "execute_result"
    }
   ],
   "source": [
    "# Average Fall times for each run (seconds)\n",
    "avg_tf = np.array([np.mean(entry) for entry in tf]) \n",
    "avg_tf"
   ]
  },
  {
   "cell_type": "code",
   "execution_count": 73,
   "metadata": {
    "collapsed": false
   },
   "outputs": [
    {
     "data": {
      "text/plain": [
       "array([ 0.57459899,  0.31503809,  0.89623044,  0.27251422])"
      ]
     },
     "execution_count": 73,
     "metadata": {},
     "output_type": "execute_result"
    }
   ],
   "source": [
    "# Standard Deviation Fall times for each run (seconds)\n",
    "std_tf = np.array([np.std(entry) for entry in tf])\n",
    "std_tf"
   ]
  },
  {
   "cell_type": "markdown",
   "metadata": {},
   "source": [
    "### Mask points that lie outside 2.5$\\sigma$"
   ]
  },
  {
   "cell_type": "code",
   "execution_count": 74,
   "metadata": {
    "collapsed": true
   },
   "outputs": [],
   "source": [
    "tf = np.array([ma.masked_outside(entry, np.mean(entry) - 2.5*np.std(entry), np.mean(entry) + 2.5*np.std(entry)) \n",
    "                     for entry in tf])"
   ]
  },
  {
   "cell_type": "markdown",
   "metadata": {},
   "source": [
    "### Uncertainty"
   ]
  },
  {
   "cell_type": "code",
   "execution_count": 75,
   "metadata": {
    "collapsed": false
   },
   "outputs": [
    {
     "data": {
      "text/plain": [
       "array([ 0.18170416,  0.09962379,  0.28341295,  0.08617656])"
      ]
     },
     "execution_count": 75,
     "metadata": {},
     "output_type": "execute_result"
    }
   ],
   "source": [
    "# Standard deviation of the mean (seconds)\n",
    "tf_u = np.array([std_tf[i]/np.sqrt(len(tf[i])) for i in np.arange(4)])\n",
    "\n",
    "tf_u"
   ]
  },
  {
   "cell_type": "markdown",
   "metadata": {},
   "source": [
    "### Fall Speed"
   ]
  },
  {
   "cell_type": "markdown",
   "metadata": {},
   "source": [
    "All measurements were of the time to travel .5mm"
   ]
  },
  {
   "cell_type": "code",
   "execution_count": 76,
   "metadata": {
    "collapsed": false
   },
   "outputs": [
    {
     "data": {
      "text/plain": [
       "array([  3.49308369e-05,   6.85965153e-05,   2.91868542e-05,\n",
       "         6.16979269e-05])"
      ]
     },
     "execution_count": 76,
     "metadata": {},
     "output_type": "execute_result"
    }
   ],
   "source": [
    "# Units of m/s\n",
    "speeds = np.array([(.5*1e-3)/entry for entry in avg_tf ])\n",
    "speeds"
   ]
  },
  {
   "cell_type": "markdown",
   "metadata": {},
   "source": [
    "\\begin{equation}\n",
    "    v = \\frac{h}{t} \n",
    "\\end{equation}"
   ]
  },
  {
   "cell_type": "markdown",
   "metadata": {},
   "source": [
    "\\begin{equation}\n",
    "    \\delta v = \\frac{h}{t^2} \\delta t \n",
    "\\end{equation}"
   ]
  },
  {
   "cell_type": "code",
   "execution_count": 77,
   "metadata": {
    "collapsed": false
   },
   "outputs": [
    {
     "data": {
      "text/plain": [
       "array([  4.43417508e-07,   9.37555905e-07,   4.82863373e-07,\n",
       "         6.56085302e-07])"
      ]
     },
     "execution_count": 77,
     "metadata": {},
     "output_type": "execute_result"
    }
   ],
   "source": [
    "#Units of m/s\n",
    "speeds_u = np.array([((.5*1e-3)/avg_tf[i]**2)*tf_u[i] for i in np.arange(4)])\n",
    "speeds_u"
   ]
  },
  {
   "cell_type": "markdown",
   "metadata": {},
   "source": [
    "### E Field"
   ]
  },
  {
   "cell_type": "code",
   "execution_count": 78,
   "metadata": {
    "collapsed": false
   },
   "outputs": [
    {
     "data": {
      "text/plain": [
       "39554.39056356488"
      ]
     },
     "execution_count": 78,
     "metadata": {},
     "output_type": "execute_result"
    }
   ],
   "source": [
    "d = 7.63*1e-3 #Electrode spacer thickness in meters\n",
    "V = 301.8 #Volts. Constant through all measurements\n",
    "\n",
    "E = V/d #V/m\n",
    "E"
   ]
  },
  {
   "cell_type": "markdown",
   "metadata": {},
   "source": [
    "### Air Viscosity"
   ]
  },
  {
   "cell_type": "code",
   "execution_count": 79,
   "metadata": {
    "collapsed": true
   },
   "outputs": [],
   "source": [
    "Resistances = np.array([2.065, 2.011, 1.957, 1.959])*1e6 #From thermistor. Used to find temperature. Ohms"
   ]
  },
  {
   "cell_type": "code",
   "execution_count": 80,
   "metadata": {
    "collapsed": true
   },
   "outputs": [],
   "source": [
    "temperatures = np.array([24, 25, 26, 26]) #From Thermistor table. Celcius"
   ]
  },
  {
   "cell_type": "code",
   "execution_count": 81,
   "metadata": {
    "collapsed": true
   },
   "outputs": [],
   "source": [
    "rho = 885 #kg/m^3. Density of oil drop.\n",
    "g = 9.80 #gravity"
   ]
  },
  {
   "cell_type": "code",
   "execution_count": 82,
   "metadata": {
    "collapsed": true
   },
   "outputs": [],
   "source": [
    "def viscosity(T):\n",
    "    #Returns the viscosity of air for a given temp in celsius\n",
    "    # Viscosity units [Ns/m^2]\n",
    "    return (1.8 + (T-15)/209)*1e-5"
   ]
  },
  {
   "cell_type": "code",
   "execution_count": 83,
   "metadata": {
    "collapsed": false
   },
   "outputs": [
    {
     "data": {
      "text/plain": [
       "array([  1.84306220e-05,   1.84784689e-05,   1.85263158e-05,\n",
       "         1.85263158e-05])"
      ]
     },
     "execution_count": 83,
     "metadata": {},
     "output_type": "execute_result"
    }
   ],
   "source": [
    "viscosities = np.array([viscosity(entry) for entry in temperatures])\n",
    "viscosities"
   ]
  },
  {
   "cell_type": "markdown",
   "metadata": {},
   "source": [
    "### Drop Radius"
   ]
  },
  {
   "cell_type": "code",
   "execution_count": 84,
   "metadata": {
    "collapsed": true
   },
   "outputs": [],
   "source": [
    "def radius(speed,visc):\n",
    "    return np.sqrt(9*visc*speed/(2*g*rho))"
   ]
  },
  {
   "cell_type": "code",
   "execution_count": 85,
   "metadata": {
    "collapsed": false
   },
   "outputs": [
    {
     "data": {
      "text/plain": [
       "array([  5.77957729e-07,   8.10971519e-07,   5.29675347e-07,\n",
       "         7.70107585e-07])"
      ]
     },
     "execution_count": 85,
     "metadata": {},
     "output_type": "execute_result"
    }
   ],
   "source": [
    "radii = np.array([radius(speeds[i],viscosities[i]) for i in np.arange(4)]) #Blob radius in meters\n",
    "radii"
   ]
  },
  {
   "cell_type": "markdown",
   "metadata": {},
   "source": [
    "### Droplet Mass"
   ]
  },
  {
   "cell_type": "code",
   "execution_count": 86,
   "metadata": {
    "collapsed": true
   },
   "outputs": [],
   "source": [
    "def mass(r):\n",
    "    return (4/3)*np.pi*rho*r**3"
   ]
  },
  {
   "cell_type": "code",
   "execution_count": 87,
   "metadata": {
    "collapsed": false
   },
   "outputs": [
    {
     "data": {
      "text/plain": [
       "array([  7.15682020e-16,   1.97719128e-15,   5.50885268e-16,\n",
       "         1.69311354e-15])"
      ]
     },
     "execution_count": 87,
     "metadata": {},
     "output_type": "execute_result"
    }
   ],
   "source": [
    "masses = np.array([mass(entry) for entry in radii])\n",
    "masses"
   ]
  },
  {
   "cell_type": "markdown",
   "metadata": {},
   "source": [
    "\\begin{equation}\n",
    "    m = \\frac{4}{3} \\pi r^3 \\rho \n",
    "\\end{equation}"
   ]
  },
  {
   "cell_type": "markdown",
   "metadata": {},
   "source": [
    "\\begin{equation}\n",
    "    \\delta m = 4 \\pi r^2 \\rho \\delta r\n",
    "\\end{equation}"
   ]
  },
  {
   "cell_type": "markdown",
   "metadata": {},
   "source": [
    "\\begin{equation}\n",
    "    r = \\sqrt{\\frac{9 \\eta v_f}{2 g \\rho}}\n",
    "\\end{equation}"
   ]
  },
  {
   "cell_type": "markdown",
   "metadata": {},
   "source": [
    "\\begin{equation}\n",
    "    \\delta r = \\frac{1}{2}\\sqrt{\\frac{9 \\eta}{2 g \\rho}} \\frac{\\delta v_f}{\\sqrt{v_f}}\n",
    "\\end{equation}"
   ]
  },
  {
   "cell_type": "markdown",
   "metadata": {},
   "source": [
    "\\begin{equation}\n",
    "    \\delta m =  \\pi r^2 \\sqrt{\\frac{18 \\eta \\rho}{ g}} \\frac{\\delta v_f}{\\sqrt{v_f}}\n",
    "\\end{equation}"
   ]
  },
  {
   "cell_type": "code",
   "execution_count": 88,
   "metadata": {
    "collapsed": false
   },
   "outputs": [
    {
     "data": {
      "text/plain": [
       "array([  1.36274693e-17,   4.05354563e-17,   1.36706572e-17,\n",
       "         2.70064238e-17])"
      ]
     },
     "execution_count": 88,
     "metadata": {},
     "output_type": "execute_result"
    }
   ],
   "source": [
    "masses_u = np.array([np.pi*(radii[i]**2)*np.sqrt(18*viscosities[i]*rho/g)*np.sqrt(1/speeds[i])*speeds_u[i] for i in np.arange(4)])\n",
    "masses_u"
   ]
  },
  {
   "cell_type": "markdown",
   "metadata": {},
   "source": [
    "### Correction Factor"
   ]
  },
  {
   "cell_type": "code",
   "execution_count": 89,
   "metadata": {
    "collapsed": true
   },
   "outputs": [],
   "source": [
    "def gamma(r):\n",
    "    b = .082*1e-7\n",
    "    return (1+b/r)**(-3/2)"
   ]
  },
  {
   "cell_type": "code",
   "execution_count": 90,
   "metadata": {
    "collapsed": false
   },
   "outputs": [
    {
     "data": {
      "text/plain": [
       "array([ 0.97908945,  0.98502247,  0.97721963,  0.98423818])"
      ]
     },
     "execution_count": 90,
     "metadata": {},
     "output_type": "execute_result"
    }
   ],
   "source": [
    "gammas = np.array([gamma(entry) for entry in radii])\n",
    "gammas"
   ]
  },
  {
   "cell_type": "markdown",
   "metadata": {},
   "source": [
    "### Upward Movement"
   ]
  },
  {
   "cell_type": "code",
   "execution_count": 91,
   "metadata": {
    "collapsed": false
   },
   "outputs": [
    {
     "data": {
      "text/plain": [
       "array([[  3.79,   2.82,   4.37,   4.36,   4.67,   4.51,   4.64,   4.12,\n",
       "          4.43,   7.9 ],\n",
       "       [  6.04,   6.29,   9.16,   9.38,   6.12,   5.89,   5.98,   5.98,\n",
       "          5.95,   6.04],\n",
       "       [  5.12,   9.15,   8.3 ,   4.83,   8.81,   4.94,   5.22,   5.42,\n",
       "          3.42,   3.64],\n",
       "       [ 11.53,  11.27,  11.38,  12.36,  10.46,  11.65,  11.49,  12.61,\n",
       "         10.91,  12.1 ]])"
      ]
     },
     "execution_count": 91,
     "metadata": {},
     "output_type": "execute_result"
    }
   ],
   "source": [
    "# Rise time in seconds when V = +\n",
    "tu = np.array([df[key]['t_u (s)'] for key in keys])\n",
    "tu"
   ]
  },
  {
   "cell_type": "code",
   "execution_count": 92,
   "metadata": {
    "collapsed": true
   },
   "outputs": [],
   "source": [
    "#### tu0: Time Up 0'th drop.\n",
    "#### Average Time\n",
    "#### Std of Times\n",
    "#### Resulting Speed\n",
    "#### Speed Uncertainty\n",
    "\n",
    "tu0 = ma.masked_array(tu[0],mask=[0,0,0,0,0,0,0,0,0,1])\n",
    "avg_tu0 = np.mean(tu0)\n",
    "std_tu0 = np.std(tu0)\n",
    "tu0_speed = .5*1e-3/avg_tu0\n",
    "tu0_speed_u = .5*1e-3/(avg_tu0**2)*std_tu0/np.sqrt(len(tu0))\n",
    "\n",
    "tu1 = ma.masked_array(tu[1],mask=[0,0,1,1,0,0,0,0,0,0])\n",
    "avg_tu1 = np.mean(tu1)\n",
    "std_tu1 = np.std(tu1)\n",
    "tu1_speed = .5*1e-3/avg_tu1\n",
    "tu1_speed_u = .5*1e-3/(avg_tu1**2)*std_tu1/np.sqrt(len(tu1))\n",
    "\n",
    "tu2_1 = ma.masked_array(tu[2],mask=[0,1,1,0,1,0,0,0,0,0])\n",
    "avg_tu2_1 = np.mean(tu2_1)\n",
    "std_tu2_1 = np.std(tu2_1)\n",
    "tu2_1_speed = .5*1e-3/avg_tu2_1\n",
    "tu2_1_speed_u = .5*1e-3/(avg_tu2_1**2)*std_tu2_1/np.sqrt(len(tu2_1))\n",
    "\n",
    "tu2_2 = ma.masked_array(tu[2],mask=[1,0,0,1,0,1,1,1,1,1])\n",
    "avg_tu2_2 = np.mean(tu2_2)\n",
    "std_tu2_2 = np.std(tu2_2)\n",
    "tu2_2_speed = .5*1e-3/avg_tu2_2\n",
    "tu2_2_speed_u = .5*1e-3/(avg_tu2_2**2)*std_tu2_2/np.sqrt(len(tu2_2))\n",
    "\n",
    "tu3 = tu[3]\n",
    "avg_tu3 = np.mean(tu3)\n",
    "std_tu3 = np.std(tu3)\n",
    "tu3_speed = .5*1e-3/avg_tu3\n",
    "tu3_speed_u = .5*1e-3/(avg_tu3**2)*std_tu3/np.sqrt(len(tu3))\n",
    "\n",
    "\n",
    "\n",
    "#This data can't be used unless the free fall time data is analyzed\n",
    "tu4 = np.array([4.20, 3.51, 3.44, 3.21, 3.56, 3.27, 3.25]) #This data from an extra column not entered into excel\n",
    "avg_tu4 = np.mean(tu4)\n",
    "std_tu4 = np.std(tu4)\n",
    "tu4_speed = .5*1e-3/avg_tu4\n",
    "tu4_speed_u = .5*1e-3/(avg_tu4**2)*std_tu4/np.sqrt(len(tu4))"
   ]
  },
  {
   "cell_type": "code",
   "execution_count": 93,
   "metadata": {
    "collapsed": false
   },
   "outputs": [],
   "source": [
    "def up_charge(vu,vf,gamma,mass):\n",
    "    return gamma*mass*g*((vu/vf) + 1)/E  "
   ]
  },
  {
   "cell_type": "code",
   "execution_count": 94,
   "metadata": {
    "collapsed": false
   },
   "outputs": [
    {
     "data": {
      "text/plain": [
       "array([  7.6669998 ,  10.65207829,   6.24151668,   3.94410288,   7.01914548])"
      ]
     },
     "execution_count": 94,
     "metadata": {},
     "output_type": "execute_result"
    }
   ],
   "source": [
    "qu0 = up_charge(tu0_speed, speeds[0], gammas[0], masses[0])\n",
    "qu1 = up_charge(tu1_speed, speeds[1], gammas[1], masses[1])\n",
    "qu2_1 = up_charge(tu2_1_speed, speeds[2], gammas[2], masses[2])\n",
    "qu2_2 = up_charge(tu2_2_speed, speeds[2], gammas[2], masses[2])\n",
    "qu3 = up_charge(tu3_speed, speeds[3], gammas[3], masses[3])\n",
    "qu = np.array([qu0,qu1,qu2_1,qu2_2,qu3])\n",
    "qu*1e19"
   ]
  },
  {
   "cell_type": "markdown",
   "metadata": {},
   "source": [
    "### Drop Charge"
   ]
  },
  {
   "cell_type": "markdown",
   "metadata": {},
   "source": [
    "\\begin{equation}\n",
    "    \\frac{\\delta q_u}{q_u} =  \\sqrt{(\\frac{\\delta m}{m})^2 + (\\frac{\\delta v_u}{v_u})^2 + (\\frac{\\delta v_f}{v_f})^2 }\n",
    "\\end{equation}"
   ]
  },
  {
   "cell_type": "code",
   "execution_count": 95,
   "metadata": {
    "collapsed": true
   },
   "outputs": [],
   "source": [
    "def delta_qu(qu,dm, m, dvu, vu, dvf, vf):\n",
    "    return np.sqrt((dm/m)**2 + (dvu/(vu+vf))**2 + ((vu/vf)*dvf/(vf+vu))**2)*qu"
   ]
  },
  {
   "cell_type": "code",
   "execution_count": 96,
   "metadata": {
    "collapsed": false
   },
   "outputs": [
    {
     "data": {
      "text/plain": [
       "array([ 0.2949583 ,  0.23510696,  0.30118702,  0.11193648,  0.12587898])"
      ]
     },
     "execution_count": 96,
     "metadata": {},
     "output_type": "execute_result"
    }
   ],
   "source": [
    "qu0_u = delta_qu(qu0,masses_u[0],masses[0],tu0_speed_u, tu0_speed, speeds_u[0], speeds[0])\n",
    "qu1_u = delta_qu(qu1,masses_u[1],masses[1],tu1_speed_u, tu1_speed, speeds_u[1], speeds[1])\n",
    "qu2_1_u = delta_qu(qu2_1,masses_u[2],masses[2],tu2_1_speed_u, tu2_1_speed, speeds_u[2], speeds[2])\n",
    "qu2_2_u = delta_qu(qu2_2,masses_u[2],masses[2],tu2_2_speed_u, tu2_2_speed, speeds_u[2], speeds[2])\n",
    "qu3_u = delta_qu(qu3,masses_u[3],masses[3],tu3_speed_u, tu3_speed, speeds_u[3], speeds[3])\n",
    "qu_u = np.array([qu0_u,qu1_u,qu2_1_u,qu2_2_u,qu3_u])\n",
    "qu_u*1e19"
   ]
  },
  {
   "cell_type": "markdown",
   "metadata": {},
   "source": [
    "### Downward Movement"
   ]
  },
  {
   "cell_type": "code",
   "execution_count": 97,
   "metadata": {
    "collapsed": false
   },
   "outputs": [
    {
     "data": {
      "text/html": [
       "<div>\n",
       "<table border=\"1\" class=\"dataframe\">\n",
       "  <thead>\n",
       "    <tr style=\"text-align: right;\">\n",
       "      <th></th>\n",
       "      <th>t_f (s)</th>\n",
       "      <th>t_u (s)</th>\n",
       "      <th>t_d (s)</th>\n",
       "    </tr>\n",
       "  </thead>\n",
       "  <tbody>\n",
       "    <tr>\n",
       "      <th>0</th>\n",
       "      <td>13.60</td>\n",
       "      <td>3.79</td>\n",
       "      <td>2.89</td>\n",
       "    </tr>\n",
       "    <tr>\n",
       "      <th>1</th>\n",
       "      <td>14.57</td>\n",
       "      <td>2.82</td>\n",
       "      <td>2.65</td>\n",
       "    </tr>\n",
       "    <tr>\n",
       "      <th>2</th>\n",
       "      <td>14.60</td>\n",
       "      <td>4.37</td>\n",
       "      <td>2.73</td>\n",
       "    </tr>\n",
       "    <tr>\n",
       "      <th>3</th>\n",
       "      <td>15.51</td>\n",
       "      <td>4.36</td>\n",
       "      <td>2.80</td>\n",
       "    </tr>\n",
       "    <tr>\n",
       "      <th>4</th>\n",
       "      <td>13.69</td>\n",
       "      <td>4.67</td>\n",
       "      <td>2.34</td>\n",
       "    </tr>\n",
       "    <tr>\n",
       "      <th>5</th>\n",
       "      <td>14.80</td>\n",
       "      <td>4.51</td>\n",
       "      <td>2.45</td>\n",
       "    </tr>\n",
       "    <tr>\n",
       "      <th>6</th>\n",
       "      <td>13.78</td>\n",
       "      <td>4.64</td>\n",
       "      <td>2.45</td>\n",
       "    </tr>\n",
       "    <tr>\n",
       "      <th>7</th>\n",
       "      <td>14.60</td>\n",
       "      <td>4.12</td>\n",
       "      <td>2.21</td>\n",
       "    </tr>\n",
       "    <tr>\n",
       "      <th>8</th>\n",
       "      <td>13.90</td>\n",
       "      <td>4.43</td>\n",
       "      <td>2.60</td>\n",
       "    </tr>\n",
       "    <tr>\n",
       "      <th>9</th>\n",
       "      <td>14.09</td>\n",
       "      <td>7.90</td>\n",
       "      <td>2.37</td>\n",
       "    </tr>\n",
       "  </tbody>\n",
       "</table>\n",
       "</div>"
      ],
      "text/plain": [
       "   t_f (s)  t_u (s)  t_d (s)\n",
       "0    13.60     3.79     2.89\n",
       "1    14.57     2.82     2.65\n",
       "2    14.60     4.37     2.73\n",
       "3    15.51     4.36     2.80\n",
       "4    13.69     4.67     2.34\n",
       "5    14.80     4.51     2.45\n",
       "6    13.78     4.64     2.45\n",
       "7    14.60     4.12     2.21\n",
       "8    13.90     4.43     2.60\n",
       "9    14.09     7.90     2.37"
      ]
     },
     "execution_count": 97,
     "metadata": {},
     "output_type": "execute_result"
    }
   ],
   "source": [
    "df['Run 1']"
   ]
  },
  {
   "cell_type": "code",
   "execution_count": 98,
   "metadata": {
    "collapsed": false
   },
   "outputs": [
    {
     "data": {
      "text/plain": [
       "array([[ 2.66,  2.55,  2.53,  2.18,  2.55,  2.43,  2.67,  2.55,  2.52,\n",
       "         2.54],\n",
       "       [ 2.79,  3.02,  2.85,  2.85,  2.87,  2.67,  2.97,  3.  ,  3.02,\n",
       "         3.09],\n",
       "       [ 2.14,  2.39,  2.34,  2.35,  2.24,  2.26,  2.23,  2.26,  2.15,\n",
       "         2.13],\n",
       "       [ 2.89,  2.65,  2.73,  2.8 ,  2.34,  2.45,  2.45,  2.21,  2.6 ,\n",
       "         2.37]])"
      ]
     },
     "execution_count": 98,
     "metadata": {},
     "output_type": "execute_result"
    }
   ],
   "source": [
    "# Fall time in seconds when V = -\n",
    "td = np.array([df[entry]['t_d (s)'] for entry in df])\n",
    "td"
   ]
  },
  {
   "cell_type": "code",
   "execution_count": 99,
   "metadata": {
    "collapsed": true
   },
   "outputs": [],
   "source": [
    "#### tu0: Time Up 0'th drop.\n",
    "#### Average Time\n",
    "#### Std of Times\n",
    "#### Resulting Speed\n",
    "#### Speed Uncertainty\n",
    "\n",
    "\n",
    "\n",
    "td0 = td[0] #All values here are about the same\n",
    "avg_td0 = np.mean(td0)\n",
    "std_td0 = np.std(td0)\n",
    "td0_speed = .5*1e-3/avg_td0\n",
    "td0_speed_u = .5*1e-3/(avg_td0**2)*std_td0/np.sqrt(len(td0))\n",
    "\n",
    "td1 = np.array([td[1]]) #All values here are about the same\n",
    "avg_td1 = np.mean(td1)\n",
    "std_td1 = np.std(td1)\n",
    "td1_speed = .5*1e-3/avg_td1\n",
    "td1_speed_u = .5*1e-3/(avg_td1**2)*std_td1/np.sqrt(len(td1))\n",
    "\n",
    "td2 = np.array([td[2]]) #All values here are about the same\n",
    "avg_td2 = np.mean(td2)\n",
    "std_td2 = np.std(td2)\n",
    "td2_speed = .5*1e-3/avg_td2\n",
    "td2_speed_u = .5*1e-3/(avg_td2**2)*std_td2/np.sqrt(len(td2))\n",
    "\n",
    "\n",
    "td3 = td[3] #All values here are about the same\n",
    "avg_td3 = np.mean(td3)\n",
    "std_td3 = np.std(td3)\n",
    "td3_speed = .5*1e-3/avg_td3\n",
    "td3_speed_u = .5*1e-3/(avg_td3**2)*std_td3/np.sqrt(len(td3))"
   ]
  },
  {
   "cell_type": "markdown",
   "metadata": {},
   "source": [
    "### Drop Charge"
   ]
  },
  {
   "cell_type": "code",
   "execution_count": 100,
   "metadata": {
    "collapsed": true
   },
   "outputs": [],
   "source": [
    "def delta_qd(qu,dm, m, dvu, vu, dvf, vf):\n",
    "    return np.sqrt((dm/m)**2 + (dvu/(vu-vf))**2 + ((vu/vf)*dvf/(vf-vu))**2)*qu"
   ]
  },
  {
   "cell_type": "code",
   "execution_count": 101,
   "metadata": {
    "collapsed": true
   },
   "outputs": [],
   "source": [
    "def down_charge(vd,vf,gamma,mass):\n",
    "    return gamma*mass*g*((vd/vf) - 1)/E  "
   ]
  },
  {
   "cell_type": "code",
   "execution_count": 102,
   "metadata": {
    "collapsed": false
   },
   "outputs": [
    {
     "data": {
      "text/plain": [
       "array([ 8.13303972,  7.24874849,  8.82585041,  8.99770802])"
      ]
     },
     "execution_count": 102,
     "metadata": {},
     "output_type": "execute_result"
    }
   ],
   "source": [
    "qd0 = down_charge(td0_speed, speeds[0], gammas[0], masses[0])\n",
    "qd1 = down_charge(td1_speed, speeds[1], gammas[1], masses[1])\n",
    "qd2 = down_charge(td2_speed, speeds[2], gammas[2], masses[2])\n",
    "qd3 = down_charge(td3_speed, speeds[3], gammas[3], masses[3])\n",
    "qd = np.array([qd0,qd1,qd2,qd3])\n",
    "qd*1e19"
   ]
  },
  {
   "cell_type": "code",
   "execution_count": 103,
   "metadata": {
    "collapsed": false
   },
   "outputs": [
    {
     "data": {
      "text/plain": [
       "array([ 0.25619003,  0.55255703,  0.4785896 ,  0.39428766])"
      ]
     },
     "execution_count": 103,
     "metadata": {},
     "output_type": "execute_result"
    }
   ],
   "source": [
    "qd0_u = delta_qd(qd0,masses_u[0],masses[0],td0_speed_u, td0_speed, speeds_u[0], speeds[0])\n",
    "qd1_u = delta_qd(qd1,masses_u[1],masses[1],td1_speed_u, td1_speed, speeds_u[1], speeds[1])\n",
    "qd2_u = delta_qd(qd2,masses_u[2],masses[2],td2_speed_u, td2_speed, speeds_u[2], speeds[2])\n",
    "qd3_u = delta_qd(qd3,masses_u[3],masses[3],td3_speed_u, td3_speed, speeds_u[3], speeds[3])\n",
    "qd_u = np.array([qd0_u,qd1_u,qd2_u,qd3_u])\n",
    "qd_u*1e19"
   ]
  },
  {
   "cell_type": "markdown",
   "metadata": {},
   "source": [
    "### Search for Charge Unit"
   ]
  },
  {
   "cell_type": "markdown",
   "metadata": {},
   "source": [
    "#### Upwards Charge"
   ]
  },
  {
   "cell_type": "code",
   "execution_count": 104,
   "metadata": {
    "collapsed": false
   },
   "outputs": [
    {
     "data": {
      "text/plain": [
       "array([  7.6669998 ,  10.65207829,   6.24151668,   3.94410288,   7.01914548])"
      ]
     },
     "execution_count": 104,
     "metadata": {},
     "output_type": "execute_result"
    }
   ],
   "source": [
    "qu*1e19"
   ]
  },
  {
   "cell_type": "code",
   "execution_count": 105,
   "metadata": {
    "collapsed": false
   },
   "outputs": [
    {
     "data": {
      "text/plain": [
       "array([ 4.79187487,  6.65754893,  3.90094792,  2.4650643 ,  4.38696593])"
      ]
     },
     "execution_count": 105,
     "metadata": {},
     "output_type": "execute_result"
    }
   ],
   "source": [
    "#Check with known e\n",
    "np.array([qu[0]/1.6, qu[1]/1.6, qu[2]/1.6, qu[3]/1.6,qu[4]/1.6])*1e19"
   ]
  },
  {
   "cell_type": "code",
   "execution_count": 106,
   "metadata": {
    "collapsed": false
   },
   "outputs": [
    {
     "data": {
      "text/plain": [
       "array([ 1.53339996,  1.52172547,  1.56037917,  1.97205144,  1.75478637])"
      ]
     },
     "execution_count": 106,
     "metadata": {},
     "output_type": "execute_result"
    }
   ],
   "source": [
    "up_e = np.array([qu[0]/5, qu[1]/7, qu[2]/4, qu[3]/2,qu[4]/4])\n",
    "up_e*1e19"
   ]
  },
  {
   "cell_type": "markdown",
   "metadata": {},
   "source": [
    "#### Upwards Uncer"
   ]
  },
  {
   "cell_type": "code",
   "execution_count": 107,
   "metadata": {
    "collapsed": false
   },
   "outputs": [
    {
     "data": {
      "text/plain": [
       "array([ 0.2949583 ,  0.23510696,  0.30118702,  0.11193648,  0.12587898])"
      ]
     },
     "execution_count": 107,
     "metadata": {},
     "output_type": "execute_result"
    }
   ],
   "source": [
    "qu_u*1e19"
   ]
  },
  {
   "cell_type": "code",
   "execution_count": 108,
   "metadata": {
    "collapsed": false
   },
   "outputs": [
    {
     "data": {
      "text/plain": [
       "array([ 0.04915972,  0.03918449,  0.07529675,  0.03731216,  0.03146975])"
      ]
     },
     "execution_count": 108,
     "metadata": {},
     "output_type": "execute_result"
    }
   ],
   "source": [
    "up_e_u = np.array([qu_u[0]/6, qu_u[1]/6, qu_u[2]/4, qu_u[3]/3,qu_u[4]/4])\n",
    "up_e_u*1e19"
   ]
  },
  {
   "cell_type": "markdown",
   "metadata": {},
   "source": [
    "#### Down Charge"
   ]
  },
  {
   "cell_type": "code",
   "execution_count": 109,
   "metadata": {
    "collapsed": false
   },
   "outputs": [
    {
     "data": {
      "text/plain": [
       "array([ 8.13303972,  7.24874849,  8.82585041,  8.99770802])"
      ]
     },
     "execution_count": 109,
     "metadata": {},
     "output_type": "execute_result"
    }
   ],
   "source": [
    "qd*1e19"
   ]
  },
  {
   "cell_type": "code",
   "execution_count": 110,
   "metadata": {
    "collapsed": false
   },
   "outputs": [
    {
     "data": {
      "text/plain": [
       "array([ 5.08314982,  4.5304678 ,  5.51615651,  5.62356751])"
      ]
     },
     "execution_count": 110,
     "metadata": {},
     "output_type": "execute_result"
    }
   ],
   "source": [
    "#Check with known e\n",
    "np.array([qd[0]/1.6, qd[1]/1.6, qd[2]/1.6, qd[3]/1.6])*1e19"
   ]
  },
  {
   "cell_type": "code",
   "execution_count": 111,
   "metadata": {
    "collapsed": false
   },
   "outputs": [
    {
     "data": {
      "text/plain": [
       "array([ 1.62660794,  1.20812475,  1.76517008,  1.7995416 ])"
      ]
     },
     "execution_count": 111,
     "metadata": {},
     "output_type": "execute_result"
    }
   ],
   "source": [
    "down_e = np.array([qd[0]/5, qd[1]/6, qd[2]/5, qd[3]/5])\n",
    "down_e*1e19"
   ]
  },
  {
   "cell_type": "markdown",
   "metadata": {},
   "source": [
    "#### Down Uncer"
   ]
  },
  {
   "cell_type": "code",
   "execution_count": 112,
   "metadata": {
    "collapsed": false
   },
   "outputs": [
    {
     "data": {
      "text/plain": [
       "array([ 0.25619003,  0.55255703,  0.4785896 ,  0.39428766])"
      ]
     },
     "execution_count": 112,
     "metadata": {},
     "output_type": "execute_result"
    }
   ],
   "source": [
    "qd_u*1e19"
   ]
  },
  {
   "cell_type": "code",
   "execution_count": 113,
   "metadata": {
    "collapsed": false
   },
   "outputs": [
    {
     "data": {
      "text/plain": [
       "array([ 0.05123801,  0.07893672,  0.09571792,  0.07885753])"
      ]
     },
     "execution_count": 113,
     "metadata": {},
     "output_type": "execute_result"
    }
   ],
   "source": [
    "down_e_u = np.array([qd_u[0]/5, qd_u[1]/7, qd_u[2]/5, qd_u[3]/5])\n",
    "down_e_u*1e19"
   ]
  },
  {
   "cell_type": "markdown",
   "metadata": {},
   "source": [
    "### Determine Electron Charge"
   ]
  },
  {
   "cell_type": "code",
   "execution_count": 114,
   "metadata": {
    "collapsed": false
   },
   "outputs": [
    {
     "data": {
      "text/plain": [
       "array([ 1.53339996,  1.52172547,  1.56037917,  1.97205144,  1.75478637,\n",
       "        1.62660794,  1.20812475,  1.76517008,  1.7995416 ])"
      ]
     },
     "execution_count": 114,
     "metadata": {},
     "output_type": "execute_result"
    }
   ],
   "source": [
    "Charges = np.hstack((up_e,down_e))\n",
    "Charges*1e19"
   ]
  },
  {
   "cell_type": "code",
   "execution_count": 115,
   "metadata": {
    "collapsed": false
   },
   "outputs": [
    {
     "data": {
      "text/plain": [
       "1.6379763095428086"
      ]
     },
     "execution_count": 115,
     "metadata": {},
     "output_type": "execute_result"
    }
   ],
   "source": [
    "Charge_Best = np.mean(Charges)\n",
    "Charge_Best*1e19"
   ]
  },
  {
   "cell_type": "code",
   "execution_count": 116,
   "metadata": {
    "collapsed": false
   },
   "outputs": [
    {
     "data": {
      "text/plain": [
       "array([ 0.04915972,  0.03918449,  0.07529675,  0.03731216,  0.03146975,\n",
       "        0.05123801,  0.07893672,  0.09571792,  0.07885753])"
      ]
     },
     "execution_count": 116,
     "metadata": {},
     "output_type": "execute_result"
    }
   ],
   "source": [
    "Charges_u = np.hstack((up_e_u,down_e_u))\n",
    "Charges_u*1e19"
   ]
  },
  {
   "cell_type": "code",
   "execution_count": 117,
   "metadata": {
    "collapsed": false
   },
   "outputs": [],
   "source": [
    "delta_e_ran = np.std(Charges)\n",
    "\n",
    "delta_e_meas = np.sqrt(np.sum(np.array([(Charges_u[i]/Charges[i])**2 for i in np.arange(len(Charges))])))*Charge_Best"
   ]
  },
  {
   "cell_type": "code",
   "execution_count": 118,
   "metadata": {
    "collapsed": true
   },
   "outputs": [],
   "source": [
    "delta_e = np.sqrt(delta_e_ran**2 + delta_e_meas**2)"
   ]
  },
  {
   "cell_type": "code",
   "execution_count": 119,
   "metadata": {
    "collapsed": false
   },
   "outputs": [
    {
     "data": {
      "text/plain": [
       "0.28689647269293728"
      ]
     },
     "execution_count": 119,
     "metadata": {},
     "output_type": "execute_result"
    }
   ],
   "source": [
    "delta_e*1e19"
   ]
  },
  {
   "cell_type": "markdown",
   "metadata": {},
   "source": [
    "### Charge to Mass Ratio"
   ]
  },
  {
   "cell_type": "markdown",
   "metadata": {},
   "source": [
    "e/m = (1.648 +/- 0.287)x10^11 C/kg"
   ]
  },
  {
   "cell_type": "code",
   "execution_count": 120,
   "metadata": {
    "collapsed": true
   },
   "outputs": [],
   "source": [
    "# From a previous lab\n",
    "eperm = 1.648*1e11 #C/kg\n",
    "eperm_u = .287*1e11"
   ]
  },
  {
   "cell_type": "code",
   "execution_count": 121,
   "metadata": {
    "collapsed": false
   },
   "outputs": [
    {
     "data": {
      "text/plain": [
       "9.9391766355752951e-31"
      ]
     },
     "execution_count": 121,
     "metadata": {},
     "output_type": "execute_result"
    }
   ],
   "source": [
    "m = Charge_Best/eperm\n",
    "m"
   ]
  },
  {
   "cell_type": "code",
   "execution_count": 122,
   "metadata": {
    "collapsed": false
   },
   "outputs": [
    {
     "data": {
      "text/plain": [
       "2.4549357196670121e-31"
      ]
     },
     "execution_count": 122,
     "metadata": {},
     "output_type": "execute_result"
    }
   ],
   "source": [
    "dm = np.sqrt( (delta_e/Charge_Best)**2 + (eperm_u/eperm)**2 )*m\n",
    "dm"
   ]
  },
  {
   "cell_type": "markdown",
   "metadata": {},
   "source": [
    "### Plank Constant"
   ]
  },
  {
   "cell_type": "code",
   "execution_count": 123,
   "metadata": {
    "collapsed": true
   },
   "outputs": [],
   "source": [
    "eo = 8.854*1e-12"
   ]
  },
  {
   "cell_type": "code",
   "execution_count": 124,
   "metadata": {
    "collapsed": true
   },
   "outputs": [],
   "source": [
    "E_r = 13.77 #eV\n",
    "E_r = E_r*1.602*1e-19\n",
    "dE_r = .01 #Ev"
   ]
  },
  {
   "cell_type": "code",
   "execution_count": 125,
   "metadata": {
    "collapsed": false
   },
   "outputs": [
    {
     "data": {
      "text/plain": [
       "7.1913048509086976e-34"
      ]
     },
     "execution_count": 125,
     "metadata": {},
     "output_type": "execute_result"
    }
   ],
   "source": [
    "h = np.sqrt(m * Charge_Best**4/(8*eo**2 * E_r))\n",
    "h"
   ]
  },
  {
   "cell_type": "code",
   "execution_count": 126,
   "metadata": {
    "collapsed": false
   },
   "outputs": [
    {
     "data": {
      "text/plain": [
       "2.1775060819191653e-34"
      ]
     },
     "execution_count": 126,
     "metadata": {},
     "output_type": "execute_result"
    }
   ],
   "source": [
    "dh = np.sqrt((dm/m)**2 + (.01/13.77)**2 + (delta_e/Charge_Best)**2)*h\n",
    "dh"
   ]
  }
 ],
 "metadata": {
  "kernelspec": {
   "display_name": "Python 3",
   "language": "python",
   "name": "python3"
  },
  "language_info": {
   "codemirror_mode": {
    "name": "ipython",
    "version": 3
   },
   "file_extension": ".py",
   "mimetype": "text/x-python",
   "name": "python",
   "nbconvert_exporter": "python",
   "pygments_lexer": "ipython3",
   "version": "3.4.4"
  }
 },
 "nbformat": 4,
 "nbformat_minor": 0
}
