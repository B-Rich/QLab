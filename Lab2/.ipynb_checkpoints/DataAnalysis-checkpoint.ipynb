{
 "cells": [
  {
   "cell_type": "code",
   "execution_count": 1,
   "metadata": {
    "collapsed": true
   },
   "outputs": [],
   "source": [
    "import pandas as pd\n",
    "import numpy as np\n",
    "import matplotlib.pyplot as plt\n",
    "from scipy.optimize import curve_fit  # import the curve fitting function\n",
    "%matplotlib inline"
   ]
  },
  {
   "cell_type": "markdown",
   "metadata": {},
   "source": [
    "### Read-in"
   ]
  },
  {
   "cell_type": "code",
   "execution_count": 2,
   "metadata": {
    "collapsed": true
   },
   "outputs": [],
   "source": [
    "df = pd.read_excel('SpectralData.xlsx', sheetname=None)"
   ]
  },
  {
   "cell_type": "code",
   "execution_count": 3,
   "metadata": {
    "collapsed": false
   },
   "outputs": [
    {
     "data": {
      "text/html": [
       "<div>\n",
       "<table border=\"1\" class=\"dataframe\">\n",
       "  <thead>\n",
       "    <tr style=\"text-align: right;\">\n",
       "      <th></th>\n",
       "      <th>Color</th>\n",
       "      <th>Angles</th>\n",
       "      <th>Minute</th>\n",
       "      <th>CCW</th>\n",
       "      <th>AnglesCCW</th>\n",
       "      <th>MinuteCCW</th>\n",
       "    </tr>\n",
       "  </thead>\n",
       "  <tbody>\n",
       "    <tr>\n",
       "      <th>0</th>\n",
       "      <td>Red</td>\n",
       "      <td>191</td>\n",
       "      <td>12</td>\n",
       "      <td>Red</td>\n",
       "      <td>168</td>\n",
       "      <td>47</td>\n",
       "    </tr>\n",
       "    <tr>\n",
       "      <th>1</th>\n",
       "      <td>Teal</td>\n",
       "      <td>188</td>\n",
       "      <td>16</td>\n",
       "      <td>Teal</td>\n",
       "      <td>171</td>\n",
       "      <td>43</td>\n",
       "    </tr>\n",
       "    <tr>\n",
       "      <th>2</th>\n",
       "      <td>Violet</td>\n",
       "      <td>187</td>\n",
       "      <td>24</td>\n",
       "      <td>Violet</td>\n",
       "      <td>172</td>\n",
       "      <td>35</td>\n",
       "    </tr>\n",
       "    <tr>\n",
       "      <th>3</th>\n",
       "      <td>Red</td>\n",
       "      <td>191</td>\n",
       "      <td>15</td>\n",
       "      <td>Red</td>\n",
       "      <td>168</td>\n",
       "      <td>51</td>\n",
       "    </tr>\n",
       "    <tr>\n",
       "      <th>4</th>\n",
       "      <td>Teal</td>\n",
       "      <td>188</td>\n",
       "      <td>18</td>\n",
       "      <td>Teal</td>\n",
       "      <td>171</td>\n",
       "      <td>45</td>\n",
       "    </tr>\n",
       "    <tr>\n",
       "      <th>5</th>\n",
       "      <td>Violet</td>\n",
       "      <td>187</td>\n",
       "      <td>23</td>\n",
       "      <td>Violet</td>\n",
       "      <td>172</td>\n",
       "      <td>42</td>\n",
       "    </tr>\n",
       "    <tr>\n",
       "      <th>6</th>\n",
       "      <td>Red</td>\n",
       "      <td>191</td>\n",
       "      <td>14</td>\n",
       "      <td>Red</td>\n",
       "      <td>168</td>\n",
       "      <td>46</td>\n",
       "    </tr>\n",
       "    <tr>\n",
       "      <th>7</th>\n",
       "      <td>Teal</td>\n",
       "      <td>188</td>\n",
       "      <td>21</td>\n",
       "      <td>Teal</td>\n",
       "      <td>171</td>\n",
       "      <td>40</td>\n",
       "    </tr>\n",
       "    <tr>\n",
       "      <th>8</th>\n",
       "      <td>Violet</td>\n",
       "      <td>187</td>\n",
       "      <td>25</td>\n",
       "      <td>Violet</td>\n",
       "      <td>172</td>\n",
       "      <td>37</td>\n",
       "    </tr>\n",
       "  </tbody>\n",
       "</table>\n",
       "</div>"
      ],
      "text/plain": [
       "    Color  Angles  Minute     CCW  AnglesCCW  MinuteCCW\n",
       "0     Red     191      12     Red        168         47\n",
       "1    Teal     188      16    Teal        171         43\n",
       "2  Violet     187      24  Violet        172         35\n",
       "3     Red     191      15     Red        168         51\n",
       "4    Teal     188      18    Teal        171         45\n",
       "5  Violet     187      23  Violet        172         42\n",
       "6     Red     191      14     Red        168         46\n",
       "7    Teal     188      21    Teal        171         40\n",
       "8  Violet     187      25  Violet        172         37"
      ]
     },
     "execution_count": 3,
     "metadata": {},
     "output_type": "execute_result"
    }
   ],
   "source": [
    "df['Hydrogen']"
   ]
  },
  {
   "cell_type": "code",
   "execution_count": 4,
   "metadata": {
    "collapsed": false
   },
   "outputs": [
    {
     "data": {
      "text/html": [
       "<div>\n",
       "<table border=\"1\" class=\"dataframe\">\n",
       "  <thead>\n",
       "    <tr style=\"text-align: right;\">\n",
       "      <th></th>\n",
       "      <th>Color</th>\n",
       "      <th>Angles</th>\n",
       "      <th>Minute</th>\n",
       "      <th>CCW</th>\n",
       "      <th>AnglesCCW</th>\n",
       "      <th>MinuteCCW</th>\n",
       "    </tr>\n",
       "  </thead>\n",
       "  <tbody>\n",
       "    <tr>\n",
       "      <th>0</th>\n",
       "      <td>Yellow1</td>\n",
       "      <td>189</td>\n",
       "      <td>49</td>\n",
       "      <td>Yellow1</td>\n",
       "      <td>170</td>\n",
       "      <td>4</td>\n",
       "    </tr>\n",
       "    <tr>\n",
       "      <th>1</th>\n",
       "      <td>Yellow2</td>\n",
       "      <td>189</td>\n",
       "      <td>47</td>\n",
       "      <td>Yellow2</td>\n",
       "      <td>170</td>\n",
       "      <td>6</td>\n",
       "    </tr>\n",
       "    <tr>\n",
       "      <th>2</th>\n",
       "      <td>Green</td>\n",
       "      <td>189</td>\n",
       "      <td>14</td>\n",
       "      <td>Green</td>\n",
       "      <td>170</td>\n",
       "      <td>36</td>\n",
       "    </tr>\n",
       "    <tr>\n",
       "      <th>3</th>\n",
       "      <td>Blue</td>\n",
       "      <td>188</td>\n",
       "      <td>21</td>\n",
       "      <td>Blue</td>\n",
       "      <td>171</td>\n",
       "      <td>33</td>\n",
       "    </tr>\n",
       "    <tr>\n",
       "      <th>4</th>\n",
       "      <td>Violet</td>\n",
       "      <td>187</td>\n",
       "      <td>22</td>\n",
       "      <td>Violet</td>\n",
       "      <td>172</td>\n",
       "      <td>30</td>\n",
       "    </tr>\n",
       "    <tr>\n",
       "      <th>5</th>\n",
       "      <td>Yellow1</td>\n",
       "      <td>189</td>\n",
       "      <td>51</td>\n",
       "      <td>Yellow1</td>\n",
       "      <td>170</td>\n",
       "      <td>5</td>\n",
       "    </tr>\n",
       "    <tr>\n",
       "      <th>6</th>\n",
       "      <td>Yellow2</td>\n",
       "      <td>189</td>\n",
       "      <td>50</td>\n",
       "      <td>Yellow2</td>\n",
       "      <td>170</td>\n",
       "      <td>7</td>\n",
       "    </tr>\n",
       "    <tr>\n",
       "      <th>7</th>\n",
       "      <td>Green</td>\n",
       "      <td>189</td>\n",
       "      <td>20</td>\n",
       "      <td>Green</td>\n",
       "      <td>170</td>\n",
       "      <td>40</td>\n",
       "    </tr>\n",
       "    <tr>\n",
       "      <th>8</th>\n",
       "      <td>Blue</td>\n",
       "      <td>188</td>\n",
       "      <td>26</td>\n",
       "      <td>Blue</td>\n",
       "      <td>171</td>\n",
       "      <td>37</td>\n",
       "    </tr>\n",
       "    <tr>\n",
       "      <th>9</th>\n",
       "      <td>Violet</td>\n",
       "      <td>187</td>\n",
       "      <td>27</td>\n",
       "      <td>Violet</td>\n",
       "      <td>172</td>\n",
       "      <td>39</td>\n",
       "    </tr>\n",
       "  </tbody>\n",
       "</table>\n",
       "</div>"
      ],
      "text/plain": [
       "     Color  Angles  Minute      CCW  AnglesCCW  MinuteCCW\n",
       "0  Yellow1     189      49  Yellow1        170          4\n",
       "1  Yellow2     189      47  Yellow2        170          6\n",
       "2    Green     189      14    Green        170         36\n",
       "3     Blue     188      21     Blue        171         33\n",
       "4   Violet     187      22   Violet        172         30\n",
       "5  Yellow1     189      51  Yellow1        170          5\n",
       "6  Yellow2     189      50  Yellow2        170          7\n",
       "7    Green     189      20    Green        170         40\n",
       "8     Blue     188      26     Blue        171         37\n",
       "9   Violet     187      27   Violet        172         39"
      ]
     },
     "execution_count": 4,
     "metadata": {},
     "output_type": "execute_result"
    }
   ],
   "source": [
    "df['Mercury']"
   ]
  },
  {
   "cell_type": "markdown",
   "metadata": {},
   "source": [
    "### Hydrogen"
   ]
  },
  {
   "cell_type": "code",
   "execution_count": 5,
   "metadata": {
    "collapsed": false
   },
   "outputs": [],
   "source": [
    "#Degrees\n",
    "HRed = np.array([df['Hydrogen']['Angles'][i] for i in np.arange(0,len(df['Hydrogen']['Angles']),3) ])\n",
    "HTeal = np.array([df['Hydrogen']['Angles'][i] for i in np.arange(1,len(df['Hydrogen']['Angles']),3) ])\n",
    "HViolet = np.array([df['Hydrogen']['Angles'][i] for i in np.arange(2,len(df['Hydrogen']['Angles']),3) ])\n",
    "\n",
    "#Add Minutes\n",
    "HRed = HRed + np.array([df['Hydrogen']['Minute'][i] for i in np.arange(0,len(df['Hydrogen']['Minute']),3) ])/60\n",
    "HTeal = HTeal + np.array([df['Hydrogen']['Minute'][i] for i in np.arange(1,len(df['Hydrogen']['Minute']),3) ])/60\n",
    "HViolet = HViolet + np.array([df['Hydrogen']['Minute'][i] for i in np.arange(2,len(df['Hydrogen']['Minute']),3) ])/60\n",
    "\n",
    "# Averaging\n",
    "HRed = np.mean(HRed)\n",
    "HTeal = np.mean(HTeal)\n",
    "HViolet = np.mean(HViolet)\n",
    "\n",
    "# True angle is difference from 180\n",
    "HRed = abs(HRed - 180)\n",
    "HTeal = abs(HTeal - 180)\n",
    "HViolet = abs(HViolet-180)"
   ]
  },
  {
   "cell_type": "code",
   "execution_count": 6,
   "metadata": {
    "collapsed": true
   },
   "outputs": [],
   "source": [
    "#Degrees\n",
    "HRedCCW = np.array([df['Hydrogen']['AnglesCCW'][i] for i in np.arange(0,len(df['Hydrogen']['AnglesCCW']),3) ])\n",
    "HTealCCW = np.array([df['Hydrogen']['AnglesCCW'][i] for i in np.arange(1,len(df['Hydrogen']['AnglesCCW']),3) ])\n",
    "HVioletCCW = np.array([df['Hydrogen']['AnglesCCW'][i] for i in np.arange(2,len(df['Hydrogen']['AnglesCCW']),3) ])\n",
    "\n",
    "#Add Minutes\n",
    "HRedCCW = HRedCCW + np.array([df['Hydrogen']['MinuteCCW'][i] for i in np.arange(0,len(df['Hydrogen']['MinuteCCW']),3) ])/60\n",
    "HTealCCW = HTealCCW + np.array([df['Hydrogen']['MinuteCCW'][i] for i in np.arange(1,len(df['Hydrogen']['MinuteCCW']),3) ])/60\n",
    "HVioletCCW = HVioletCCW + np.array([df['Hydrogen']['MinuteCCW'][i] for i in np.arange(2,len(df['Hydrogen']['MinuteCCW']),3) ])/60\n",
    "\n",
    "#Averaging\n",
    "HRedCCW = np.mean(HRedCCW)\n",
    "HTealCCW = np.mean(HTealCCW)\n",
    "HVioletCCW = np.mean(HVioletCCW)\n",
    "\n",
    "# True angle is difference from 180\n",
    "HRedCCW = abs(HRedCCW - 180)\n",
    "HTealCCW = abs(HTealCCW - 180)\n",
    "HVioletCCW = abs(HVioletCCW-180)"
   ]
  },
  {
   "cell_type": "code",
   "execution_count": 7,
   "metadata": {
    "collapsed": false
   },
   "outputs": [
    {
     "name": "stdout",
     "output_type": "stream",
     "text": [
      "11.2138888889\n",
      "8.29722222222\n",
      "7.38333333333\n"
     ]
    }
   ],
   "source": [
    "# Average CW and CCW\n",
    "HRed = (HRed + HRedCCW)/2\n",
    "HTeal = (HTeal + HTealCCW)/2\n",
    "HViolet = (HViolet + HVioletCCW)/2\n",
    "\n",
    "print(HRed)\n",
    "print(HTeal)\n",
    "print(HViolet)"
   ]
  },
  {
   "cell_type": "markdown",
   "metadata": {},
   "source": [
    "### Mercury"
   ]
  },
  {
   "cell_type": "code",
   "execution_count": 8,
   "metadata": {
    "collapsed": false
   },
   "outputs": [],
   "source": [
    "#Degrees\n",
    "HgY1 = np.array([df['Mercury']['Angles'][i] for i in np.arange(0,len(df['Mercury']['Angles']),5) ])\n",
    "HgY2 = np.array([df['Mercury']['Angles'][i] for i in np.arange(1,len(df['Mercury']['Angles']),5) ])\n",
    "HgG = np.array([df['Mercury']['Angles'][i] for i in np.arange(2,len(df['Mercury']['Angles']),5) ])\n",
    "HgB = np.array([df['Mercury']['Angles'][i] for i in np.arange(3,len(df['Mercury']['Angles']),5) ])\n",
    "HgV = np.array([df['Mercury']['Angles'][i] for i in np.arange(4,len(df['Mercury']['Angles']),5) ])\n",
    "\n",
    "#Add Minutes\n",
    "HgY1 = HgY1 + np.array([df['Mercury']['Minute'][i] for i in np.arange(0,len(df['Mercury']['Minute']),5) ])/60\n",
    "HgY2 = HgY2 + np.array([df['Mercury']['Minute'][i] for i in np.arange(1,len(df['Mercury']['Minute']),5) ])/60\n",
    "HgG = HgG + np.array([df['Mercury']['Minute'][i] for i in np.arange(2,len(df['Mercury']['Minute']),5) ])/60\n",
    "HgB = HgB + np.array([df['Mercury']['Minute'][i] for i in np.arange(3,len(df['Mercury']['Minute']),5) ])/60\n",
    "HgV = HgV + np.array([df['Mercury']['Minute'][i] for i in np.arange(4,len(df['Mercury']['Minute']),5) ])/60\n",
    "\n",
    "# Averaging\n",
    "HgY1 = np.mean(HgY1)\n",
    "HgY2 = np.mean(HgY2)\n",
    "HgG = np.mean(HgG)\n",
    "HgB = np.mean(HgB)\n",
    "HgV = np.mean(HgV)\n",
    "\n",
    "# True angle is difference from 180\n",
    "HgY1 = abs(HgY1-180)\n",
    "HgY2 = abs(HgY2 - 180)\n",
    "HgG = abs(HgG-180)\n",
    "HgB = abs(HgB-180)\n",
    "HgV = abs(HgV-180)"
   ]
  },
  {
   "cell_type": "code",
   "execution_count": 12,
   "metadata": {
    "collapsed": false
   },
   "outputs": [],
   "source": [
    "#Degrees\n",
    "HgY1CCW = np.array([df['Mercury']['AnglesCCW'][i] for i in np.arange(0,len(df['Mercury']['AnglesCCW']),5) ])\n",
    "HgY2CCW = np.array([df['Mercury']['AnglesCCW'][i] for i in np.arange(1,len(df['Mercury']['AnglesCCW']),5) ])\n",
    "HgGCCW = np.array([df['Mercury']['AnglesCCW'][i] for i in np.arange(2,len(df['Mercury']['AnglesCCW']),5) ])\n",
    "HgBCCW = np.array([df['Mercury']['AnglesCCW'][i] for i in np.arange(3,len(df['Mercury']['AnglesCCW']),5) ])\n",
    "HgVCCW = np.array([df['Mercury']['AnglesCCW'][i] for i in np.arange(4,len(df['Mercury']['AnglesCCW']),5) ])\n",
    "\n",
    "#Add Minutes\n",
    "\n",
    "HgY1CCW = HgY1CCW + np.array([df['Mercury']['MinuteCCW'][i] for i in np.arange(0,len(df['Mercury']['MinuteCCW']),5) ])/60\n",
    "HgY2CCW = HgY2CCW + np.array([df['Mercury']['MinuteCCW'][i] for i in np.arange(1,len(df['Mercury']['MinuteCCW']),5) ])/60\n",
    "HgGCCW = HgGCCW + np.array([df['Mercury']['MinuteCCW'][i] for i in np.arange(2,len(df['Mercury']['MinuteCCW']),5) ])/60\n",
    "HgBCCW = HgBCCW + np.array([df['Mercury']['MinuteCCW'][i] for i in np.arange(3,len(df['Mercury']['MinuteCCW']),5) ])/60\n",
    "HgVCCW = HgVCCW + np.array([df['Mercury']['MinuteCCW'][i] for i in np.arange(4,len(df['Mercury']['MinuteCCW']),5) ])/60\n",
    "\n",
    "# Averaging\n",
    "HgY1CCW = np.mean(HgY1CCW)\n",
    "HgY2CCW = np.mean(HgY2CCW)\n",
    "HgGCCW = np.mean(HgGCCW)\n",
    "HgBCCW = np.mean(HgBCCW)\n",
    "HgVCCW = np.mean(HgVCCW)\n",
    "\n",
    "# True angle is difference from 180\n",
    "HgY1CCW = abs(HgY1CCW-180)\n",
    "HgY2CCW = abs(HgY2CCW -180)\n",
    "HgGCCW = abs(HgGCCW-180)\n",
    "HgBCCW = abs(HgBCCW-180)\n",
    "HgVCCW = abs(HgVCCW-180)"
   ]
  },
  {
   "cell_type": "code",
   "execution_count": 13,
   "metadata": {
    "collapsed": false
   },
   "outputs": [
    {
     "name": "stdout",
     "output_type": "stream",
     "text": [
      "9.87916666667\n",
      "9.85\n",
      "9.325\n",
      "8.40416666667\n",
      "7.41666666667\n"
     ]
    }
   ],
   "source": [
    "# Average CW and CCW\n",
    "HgYellow1 = (HgY1 + HgY1CCW)/2\n",
    "HgYellow2 = (HgY2 + HgY2CCW)/2\n",
    "HgGreen = (HgG + HgGCCW)/2\n",
    "HgBlue = (HgB + HgBCCW)/2\n",
    "HgViolet = (HgV + HgVCCW)/2\n",
    "\n",
    "print(HgYellow1)\n",
    "print(HgYellow2)\n",
    "print(HgGreen)\n",
    "print(HgBlue)\n",
    "print(HgViolet)"
   ]
  },
  {
   "cell_type": "code",
   "execution_count": null,
   "metadata": {
    "collapsed": true
   },
   "outputs": [],
   "source": []
  }
 ],
 "metadata": {
  "kernelspec": {
   "display_name": "Python 3",
   "language": "python",
   "name": "python3"
  },
  "language_info": {
   "codemirror_mode": {
    "name": "ipython",
    "version": 3
   },
   "file_extension": ".py",
   "mimetype": "text/x-python",
   "name": "python",
   "nbconvert_exporter": "python",
   "pygments_lexer": "ipython3",
   "version": "3.4.4"
  }
 },
 "nbformat": 4,
 "nbformat_minor": 0
}
