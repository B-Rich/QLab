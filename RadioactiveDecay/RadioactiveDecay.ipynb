{
 "cells": [
  {
   "cell_type": "code",
   "execution_count": 1,
   "metadata": {
    "collapsed": true
   },
   "outputs": [],
   "source": [
    "import pandas as pd\n",
    "import numpy as np\n",
    "import matplotlib.pyplot as plt\n",
    "from scipy.optimize import curve_fit  # import the curve fitting function\n",
    "%matplotlib inline"
   ]
  },
  {
   "cell_type": "markdown",
   "metadata": {},
   "source": [
    "# Indium-116m"
   ]
  },
  {
   "cell_type": "code",
   "execution_count": 2,
   "metadata": {
    "collapsed": true
   },
   "outputs": [],
   "source": [
    "t = 60 #One minute"
   ]
  },
  {
   "cell_type": "code",
   "execution_count": 3,
   "metadata": {
    "collapsed": false
   },
   "outputs": [
    {
     "data": {
      "text/plain": [
       "4.6904157598234297"
      ]
     },
     "execution_count": 3,
     "metadata": {},
     "output_type": "execute_result"
    }
   ],
   "source": [
    "Cbkd = 22 #Average background count\n",
    "dCbkd = np.sqrt(Cbkd)\n",
    "dCbkd"
   ]
  },
  {
   "cell_type": "code",
   "execution_count": 4,
   "metadata": {
    "collapsed": true
   },
   "outputs": [],
   "source": [
    "Ctot = np.array([2184,1887,1782,1465,1278,1076,990,874,785,678,595,507,458])"
   ]
  },
  {
   "cell_type": "code",
   "execution_count": 5,
   "metadata": {
    "collapsed": false
   },
   "outputs": [
    {
     "data": {
      "text/plain": [
       "array([2162, 1865, 1760, 1443, 1256, 1054,  968,  852,  763,  656,  573,\n",
       "        485,  436])"
      ]
     },
     "execution_count": 5,
     "metadata": {},
     "output_type": "execute_result"
    }
   ],
   "source": [
    "Cnet = Ctot - Cbkd\n",
    "Cnet"
   ]
  },
  {
   "cell_type": "code",
   "execution_count": 6,
   "metadata": {
    "collapsed": false
   },
   "outputs": [
    {
     "data": {
      "text/plain": [
       "0.36666666666666664"
      ]
     },
     "execution_count": 6,
     "metadata": {},
     "output_type": "execute_result"
    }
   ],
   "source": [
    "Rbkd = Cbkd/t\n",
    "Rbkd"
   ]
  },
  {
   "cell_type": "code",
   "execution_count": 7,
   "metadata": {
    "collapsed": false
   },
   "outputs": [
    {
     "data": {
      "text/plain": [
       "0.21320071635561041"
      ]
     },
     "execution_count": 7,
     "metadata": {},
     "output_type": "execute_result"
    }
   ],
   "source": [
    "dRbkd = 1/np.sqrt(Cbkd)\n",
    "dRbkd"
   ]
  },
  {
   "cell_type": "code",
   "execution_count": 8,
   "metadata": {
    "collapsed": false
   },
   "outputs": [
    {
     "data": {
      "text/plain": [
       "array([ 36.4       ,  31.45      ,  29.7       ,  24.41666667,\n",
       "        21.3       ,  17.93333333,  16.5       ,  14.56666667,\n",
       "        13.08333333,  11.3       ,   9.91666667,   8.45      ,   7.63333333])"
      ]
     },
     "execution_count": 8,
     "metadata": {},
     "output_type": "execute_result"
    }
   ],
   "source": [
    "R = np.array([entry/t for entry in Ctot])\n",
    "R"
   ]
  },
  {
   "cell_type": "code",
   "execution_count": 9,
   "metadata": {
    "collapsed": false
   },
   "outputs": [
    {
     "data": {
      "text/plain": [
       "array([ 0.7749552 ,  0.71976076,  0.6992059 ,  0.633114  ,  0.59066817,\n",
       "        0.54108944,  0.51854497,  0.48648398,  0.46037424,  0.42687495,\n",
       "        0.39895697,  0.36704526,  0.34801022])"
      ]
     },
     "execution_count": 9,
     "metadata": {},
     "output_type": "execute_result"
    }
   ],
   "source": [
    "dR = np.array([np.sqrt(entry)/t for entry in Cnet])\n",
    "dR"
   ]
  },
  {
   "cell_type": "code",
   "execution_count": 10,
   "metadata": {
    "collapsed": false
   },
   "outputs": [
    {
     "data": {
      "text/plain": [
       "array([ 36.03333333,  31.08333333,  29.33333333,  24.05      ,\n",
       "        20.93333333,  17.56666667,  16.13333333,  14.2       ,\n",
       "        12.71666667,  10.93333333,   9.55      ,   8.08333333,   7.26666667])"
      ]
     },
     "execution_count": 10,
     "metadata": {},
     "output_type": "execute_result"
    }
   ],
   "source": [
    "Rnet = np.array([entry - Rbkd for entry in R])\n",
    "Rnet"
   ]
  },
  {
   "cell_type": "code",
   "execution_count": 11,
   "metadata": {
    "collapsed": false
   },
   "outputs": [
    {
     "data": {
      "text/plain": [
       "array([ 0.80374754,  0.7506731 ,  0.73098799,  0.66804781,  0.6279677 ,\n",
       "        0.58157744,  0.56066339,  0.53115084,  0.50734504,  0.47715487,\n",
       "        0.45235076,  0.42447234,  0.40812456])"
      ]
     },
     "execution_count": 11,
     "metadata": {},
     "output_type": "execute_result"
    }
   ],
   "source": [
    "dRnet = np.sqrt(dR**2 + dRbkd**2)\n",
    "dRnet"
   ]
  },
  {
   "cell_type": "code",
   "execution_count": 12,
   "metadata": {
    "collapsed": false
   },
   "outputs": [
    {
     "data": {
      "text/plain": [
       "array([ 48.22485214,  45.04038592,  43.85927911,  40.08286871,\n",
       "        37.6780621 ,  34.89464663,  33.63980326,  31.86905025,\n",
       "        30.44070242,  28.62929206,  27.14104574,  25.46834042,  24.48747361])"
      ]
     },
     "execution_count": 12,
     "metadata": {},
     "output_type": "execute_result"
    }
   ],
   "source": [
    "dCnet = dRnet*t\n",
    "dCnet"
   ]
  },
  {
   "cell_type": "markdown",
   "metadata": {},
   "source": [
    "### #1"
   ]
  },
  {
   "cell_type": "code",
   "execution_count": 13,
   "metadata": {
    "collapsed": false
   },
   "outputs": [
    {
     "data": {
      "text/plain": [
       "array([2162, 1865, 1760, 1443, 1256, 1054,  968,  852,  763,  656,  573,\n",
       "        485,  436])"
      ]
     },
     "execution_count": 13,
     "metadata": {},
     "output_type": "execute_result"
    }
   ],
   "source": [
    "Cnet"
   ]
  },
  {
   "cell_type": "code",
   "execution_count": 14,
   "metadata": {
    "collapsed": false
   },
   "outputs": [
    {
     "data": {
      "text/plain": [
       "array([ 48.22485214,  45.04038592,  43.85927911,  40.08286871,\n",
       "        37.6780621 ,  34.89464663,  33.63980326,  31.86905025,\n",
       "        30.44070242,  28.62929206,  27.14104574,  25.46834042,  24.48747361])"
      ]
     },
     "execution_count": 14,
     "metadata": {},
     "output_type": "execute_result"
    }
   ],
   "source": [
    "dCnet"
   ]
  },
  {
   "cell_type": "code",
   "execution_count": 15,
   "metadata": {
    "collapsed": true
   },
   "outputs": [],
   "source": [
    "T = np.array([0,10,20,30,40,50,60,70,80,90,100,110,120])"
   ]
  },
  {
   "cell_type": "code",
   "execution_count": 89,
   "metadata": {
    "collapsed": false
   },
   "outputs": [
    {
     "data": {
      "image/png": "[encoded data removed]",
      "text/plain": [
       "<matplotlib.figure.Figure at 0x22441ec00f0>"
      ]
     },
     "metadata": {},
     "output_type": "display_data"
    }
   ],
   "source": [
    "plt.figure(figsize=(9,4))\n",
    "plt.errorbar(T, Cnet, yerr=dCnet,ls=\"None\",marker='.');\n",
    "plt.xlim(0,125);\n",
    "plt.xlabel('Time Elapsed (minutes)',size=18);\n",
    "plt.ylabel('Decay Counts',size=18);\n",
    "plt.xticks(size = 11);\n",
    "plt.yticks(size = 11);\n",
    "plt.savefig('IndiumCounts.png')"
   ]
  },
  {
   "cell_type": "markdown",
   "metadata": {},
   "source": [
    "### #2"
   ]
  },
  {
   "cell_type": "code",
   "execution_count": 17,
   "metadata": {
    "collapsed": true
   },
   "outputs": [],
   "source": [
    "y = np.array([np.log(entry) for entry in Cnet])\n",
    "dy = np.array([1/np.sqrt(entry) for entry in Cnet])"
   ]
  },
  {
   "cell_type": "code",
   "execution_count": 18,
   "metadata": {
    "collapsed": false
   },
   "outputs": [
    {
     "data": {
      "text/plain": [
       "array([ 0.02150662,  0.02315584,  0.02383656,  0.02632491,  0.02821663,\n",
       "        0.03080206,  0.03214122,  0.03425944,  0.03620243,  0.03904344,\n",
       "        0.0417756 ,  0.04540766,  0.04789131])"
      ]
     },
     "execution_count": 18,
     "metadata": {},
     "output_type": "execute_result"
    }
   ],
   "source": [
    "dy #All positive"
   ]
  },
  {
   "cell_type": "markdown",
   "metadata": {},
   "source": [
    "### #3"
   ]
  },
  {
   "cell_type": "code",
   "execution_count": 19,
   "metadata": {
    "collapsed": true
   },
   "outputs": [],
   "source": [
    "def myfun(t,C_o,tau):\n",
    "    ans = np.log(C_o) - t/tau  # this is y, \"the function to be fit\"\n",
    "    return ans"
   ]
  },
  {
   "cell_type": "code",
   "execution_count": 20,
   "metadata": {
    "collapsed": true
   },
   "outputs": [],
   "source": [
    "p0 = [2200,60]"
   ]
  },
  {
   "cell_type": "code",
   "execution_count": 21,
   "metadata": {
    "collapsed": false
   },
   "outputs": [
    {
     "name": "stdout",
     "output_type": "stream",
     "text": [
      "C_o = 2174 +/- 28\n",
      "tau = 74.5 +/- 1.3\n"
     ]
    }
   ],
   "source": [
    "xlots = np.linspace(0,120)  # need lots of data points for smooth curve\n",
    "yfit = np.zeros((len(T),xlots.size))\n",
    "\n",
    "plsq, pcov = curve_fit(myfun, T, y, p0,dy)  # curve fit returns p and covariance matrix\n",
    "# these give the parameters and the uncertainties\n",
    "C_o = plsq[0]\n",
    "eC_o = np.sqrt(pcov[0,0])\n",
    "tau = plsq[1]\n",
    "etau = np.sqrt(pcov[1,1])\n",
    "\n",
    "\n",
    "yfit = myfun(xlots,plsq[0],plsq[1])  # use fit results for a, b, c\n",
    "    \n",
    "print('C_o = %.0f +/- %.0f' % (plsq[0], np.sqrt(pcov[0,0])))\n",
    "print('tau = %.1f +/- %.1f' % (plsq[1], np.sqrt(pcov[1,1])))"
   ]
  },
  {
   "cell_type": "code",
   "execution_count": 98,
   "metadata": {
    "collapsed": false
   },
   "outputs": [
    {
     "data": {
      "image/png": "[encoded data removed]",
      "text/plain": [
       "<matplotlib.figure.Figure at 0x2243fff2550>"
      ]
     },
     "metadata": {},
     "output_type": "display_data"
    }
   ],
   "source": [
    "plt.figure(figsize=(9,4))\n",
    "plt.errorbar(T, y, yerr=dy,ls=\"None\",marker='.');\n",
    "plt.xlim(0,120);\n",
    "plt.ylim(5.5,8.1)\n",
    "plt.xlabel('Time Elapsed (minutes)',size=18);\n",
    "plt.ylabel('Ln(Decay Counts)',size=18);\n",
    "plt.xticks(size = 11);\n",
    "plt.yticks(size = 11);\n",
    "plt.plot(xlots,yfit);\n",
    "plt.legend(['Fit','Data'])\n",
    "plt.savefig('IndiumFit')"
   ]
  },
  {
   "cell_type": "markdown",
   "metadata": {},
   "source": [
    "### #4"
   ]
  },
  {
   "cell_type": "code",
   "execution_count": 23,
   "metadata": {
    "collapsed": false
   },
   "outputs": [
    {
     "data": {
      "text/plain": [
       "51.612089523116637"
      ]
     },
     "execution_count": 23,
     "metadata": {},
     "output_type": "execute_result"
    }
   ],
   "source": [
    "Thalf = tau*np.log(2)\n",
    "Thalf"
   ]
  },
  {
   "cell_type": "code",
   "execution_count": 24,
   "metadata": {
    "collapsed": false
   },
   "outputs": [
    {
     "data": {
      "text/plain": [
       "0.90956843016693822"
      ]
     },
     "execution_count": 24,
     "metadata": {},
     "output_type": "execute_result"
    }
   ],
   "source": [
    "dThalf = etau*np.log(2)\n",
    "dThalf"
   ]
  },
  {
   "cell_type": "markdown",
   "metadata": {},
   "source": [
    "From wiki, the half life of Indium-116m is 54.29 minutes"
   ]
  },
  {
   "cell_type": "markdown",
   "metadata": {
    "collapsed": true
   },
   "source": [
    "### Silver"
   ]
  },
  {
   "cell_type": "code",
   "execution_count": 25,
   "metadata": {
    "collapsed": false
   },
   "outputs": [
    {
     "data": {
      "text/plain": [
       "array([ 289.,  298.,  279.,  257.,  264.,  215.,  191.,  210.,  191.,\n",
       "        170.,  151.,  134.,  141.,  129.,  124.,  107.,  122.,  108.,\n",
       "         89.,  101.,   89.,  113.,   91.,   79.,   78.,   78.,   63.,\n",
       "         81.,   73.,   57.,   81.,   66.,   83.,   65.,   65.,   71.,\n",
       "         49.,   56.,   62.,   58.,   50.,   55.,   44.,   52.,   48.,\n",
       "         41.,   48.,   45.,   38.,   43.,   47.,   49.,   39.,   35.,\n",
       "         37.,   39.,   35.,   34.,   33.,   46.,   37.,   20.,   32.,\n",
       "         28.,   33.,   31.,   31.,   31.,   32.,   29.,   25.,   27.,\n",
       "         34.,   20.,   27.,   21.,   31.,   23.,   28.,   14.,   29.,\n",
       "         24.,   30.,   23.,   18.,   27.,   25.,   17.,   18.,   23.,\n",
       "         22.,   31.,   21.,   20.,   11.,   18.,   24.,   17.,   30.,\n",
       "         21.,   17.,   13.,   18.,   14.,   11.,   24.,   13.,   21.,\n",
       "         18.,   16.,   19.,   12.,   15.,   14.,   13.,   20.,   20.,\n",
       "         14.,   12.,   13.,   12.,   10.,   11.,    6.,    5.,    5.,\n",
       "          8.,    8.,   16.,    7.,   11.,    8.,    8.,   12.,   10.,\n",
       "          6.,    9.,   10.,    8.,   10.,   11.,   12.,    5.,   10.,\n",
       "          9.,    3.,    7.,    6.,    6.,    9.,    7.,    8.,   11.,\n",
       "          7.,    8.,    4.,    6.,    8.,    7.,    3.,    4.,    6.,\n",
       "          6.,    5.,    7.,    6.,    4.,    6.,    7.,    4.,    3.,\n",
       "          4.,    4.,    2.,    2.,    3.,    3.,    3.,    2.,    4.,\n",
       "          4.,    4.,    7.,    4.,    1.,    5.,    5.,    8.,    2.,\n",
       "          1.,    4.,    5.,    1.,    7.,    4.,    2.,    4.,    2.,\n",
       "          2.,    4.,    4.,    1.,    2.,    1.,    2.,    2.,    2.,\n",
       "          4.,    2.,    4.,    0.,    2.,    5.,    4.,    3.,    2.,\n",
       "          4.,    1.,    1.,    2.,    2.,    1.,    6.,    3.,    1.,\n",
       "          4.,    0.,    1.,    3.,    2.,    2.,    4.,    3.,    4.,\n",
       "          2.,    2.,    2.,    3.,    2.,    2.,    2.,    2.,    1.,\n",
       "          4.,    0.,    2.,    1.,    1.,    0.,    2.,    1.,    2.,\n",
       "          3.,    4.,    1.,    2.])"
      ]
     },
     "execution_count": 25,
     "metadata": {},
     "output_type": "execute_result"
    }
   ],
   "source": [
    "Data = np.loadtxt(\"Silver.mca\")\n",
    "Data"
   ]
  },
  {
   "cell_type": "code",
   "execution_count": 26,
   "metadata": {
    "collapsed": false
   },
   "outputs": [
    {
     "data": {
      "text/plain": [
       "0.0"
      ]
     },
     "execution_count": 26,
     "metadata": {},
     "output_type": "execute_result"
    }
   ],
   "source": [
    "Data[210] #Signal is in the background"
   ]
  },
  {
   "cell_type": "code",
   "execution_count": 27,
   "metadata": {
    "collapsed": true
   },
   "outputs": [],
   "source": [
    "Data = Data[0:209]"
   ]
  },
  {
   "cell_type": "code",
   "execution_count": 28,
   "metadata": {
    "collapsed": false
   },
   "outputs": [
    {
     "data": {
      "text/plain": [
       "(209,)"
      ]
     },
     "execution_count": 28,
     "metadata": {},
     "output_type": "execute_result"
    }
   ],
   "source": [
    "Data.shape"
   ]
  },
  {
   "cell_type": "code",
   "execution_count": 29,
   "metadata": {
    "collapsed": false
   },
   "outputs": [
    {
     "data": {
      "text/plain": [
       "array([ 0.,  0.,  0.,  0.,  1.,  1.,  2.,  1.,  1.,  0.,  0.,  0.,  1.,\n",
       "        0.,  0.,  2.,  0.,  1.,  1.,  1.,  0.,  0.,  0.,  0.,  0.,  1.,\n",
       "        2.,  1.,  0.,  1.,  0.,  0.,  0.,  1.,  0.,  1.,  1.,  0.,  0.,\n",
       "        0.,  0.,  3.,  0.,  0.,  0.,  3.,  0.,  1.,  0.,  1.,  0.,  0.,\n",
       "        0.,  0.,  1.,  0.,  0.,  0.,  1.,  1.,  2.,  0.,  1.,  1.,  0.,\n",
       "        0.,  0.,  0.,  0.,  1.,  0.,  0.,  1.,  0.,  0.,  1.,  1.,  1.,\n",
       "        0.,  1.,  1.,  0.,  0.,  0.,  2.,  0.,  0.,  1.,  0.,  1.,  0.,\n",
       "        2.,  0.,  0.,  1.,  0.,  0.,  1.,  0.,  0.,  0.,  1.,  0.,  2.,\n",
       "        0.,  0.,  2.,  0.,  1.,  0.,  1.,  0.,  0.,  0.,  0.,  0.,  1.,\n",
       "        0.,  0.,  0.,  1.,  0.,  0.,  1.,  1.,  1.,  0.,  1.,  0.,  0.,\n",
       "        0.,  1.,  0.,  0.,  0.,  0.,  1.,  1.,  0.,  1.,  0.,  0.,  0.,\n",
       "        0.,  0.,  3.,  1.,  1.,  0.,  1.,  1.,  0.,  1.,  1.,  0.,  1.,\n",
       "        1.,  1.,  1.,  0.,  3.,  2.,  0.,  1.,  2.,  0.,  1.,  0.,  0.,\n",
       "        0.,  0.,  0.,  0.,  0.,  1.,  0.,  2.,  1.,  0.,  0.,  0.,  2.,\n",
       "        0.,  1.,  1.,  1.,  0.,  1.,  0.,  2.,  1.,  1.,  0.,  0.,  2.,\n",
       "        2.,  2.,  1.,  0.,  1.,  0.,  1.,  0.,  0.,  1.,  1.,  0.,  1.,\n",
       "        0.,  2.,  1.,  0.,  2.,  1.,  1.,  1.,  0.,  0.,  0.,  0.,  1.,\n",
       "        0.,  0.,  1.,  1.,  1.,  0.,  0.,  0.,  0.,  1.,  0.,  1.,  2.,\n",
       "        1.,  0.,  1.,  0.,  0.,  0.,  1.,  0.,  0.,  0.,  1.,  0.,  0.,\n",
       "        1.,  0.,  1.,  2.,  1.,  0.,  2.,  1.,  0.])"
      ]
     },
     "execution_count": 29,
     "metadata": {},
     "output_type": "execute_result"
    }
   ],
   "source": [
    "Bkd = np.loadtxt(\"Background.mca\")\n",
    "Bkd"
   ]
  },
  {
   "cell_type": "code",
   "execution_count": 30,
   "metadata": {
    "collapsed": false
   },
   "outputs": [
    {
     "data": {
      "text/plain": [
       "0.55859375"
      ]
     },
     "execution_count": 30,
     "metadata": {},
     "output_type": "execute_result"
    }
   ],
   "source": [
    "Cavgbkd = np.mean(Bkd)\n",
    "Cavgbkd"
   ]
  },
  {
   "cell_type": "code",
   "execution_count": 31,
   "metadata": {
    "collapsed": false
   },
   "outputs": [
    {
     "data": {
      "text/plain": [
       "0.74739129644383739"
      ]
     },
     "execution_count": 31,
     "metadata": {},
     "output_type": "execute_result"
    }
   ],
   "source": [
    "dCavgbkd = np.sqrt(Cavgbkd)\n",
    "dCavgbkd"
   ]
  },
  {
   "cell_type": "code",
   "execution_count": 32,
   "metadata": {
    "collapsed": true
   },
   "outputs": [],
   "source": [
    "Ravgbkd = Cavgbkd/4 #Four second channel\n",
    "dRavgbkd = np.sqrt(Cavgbkd)/4"
   ]
  },
  {
   "cell_type": "markdown",
   "metadata": {},
   "source": [
    "### #1"
   ]
  },
  {
   "cell_type": "code",
   "execution_count": 33,
   "metadata": {
    "collapsed": true
   },
   "outputs": [],
   "source": [
    "tau = 400*1e-6 #Dead time of geiger\n",
    "def Correction(Cobs):\n",
    "    Robs = Cobs/4 #4-second channels\n",
    "    return Cobs/(1-Robs*tau)"
   ]
  },
  {
   "cell_type": "code",
   "execution_count": 34,
   "metadata": {
    "collapsed": false
   },
   "outputs": [],
   "source": [
    "CorrectData = np.array([Correction(entry) for entry in Data])\n",
    "dCorrectData = np.array([np.sqrt(entry) for entry in CorrectData])"
   ]
  },
  {
   "cell_type": "code",
   "execution_count": 35,
   "metadata": {
    "collapsed": false
   },
   "outputs": [
    {
     "data": {
      "text/plain": [
       "(209,)"
      ]
     },
     "execution_count": 35,
     "metadata": {},
     "output_type": "execute_result"
    }
   ],
   "source": [
    "CorrectData.shape"
   ]
  },
  {
   "cell_type": "markdown",
   "metadata": {},
   "source": [
    "### #2"
   ]
  },
  {
   "cell_type": "code",
   "execution_count": 36,
   "metadata": {
    "collapsed": false
   },
   "outputs": [],
   "source": [
    "t = np.arange(0,4*len(Data),4) #seconds"
   ]
  },
  {
   "cell_type": "code",
   "execution_count": 37,
   "metadata": {
    "collapsed": false
   },
   "outputs": [
    {
     "data": {
      "text/plain": [
       "(209,)"
      ]
     },
     "execution_count": 37,
     "metadata": {},
     "output_type": "execute_result"
    }
   ],
   "source": [
    "t.shape"
   ]
  },
  {
   "cell_type": "code",
   "execution_count": 38,
   "metadata": {
    "collapsed": true
   },
   "outputs": [],
   "source": [
    "LnC = np.array([np.log(entry) for entry in CorrectData]) #y = Ln(Cnet)\n",
    "dLnC = np.array([1/np.sqrt(entry) for entry in CorrectData]) #dy = 1/root(Cnet)"
   ]
  },
  {
   "cell_type": "code",
   "execution_count": 39,
   "metadata": {
    "collapsed": false
   },
   "outputs": [
    {
     "data": {
      "text/plain": [
       "(209,)"
      ]
     },
     "execution_count": 39,
     "metadata": {},
     "output_type": "execute_result"
    }
   ],
   "source": [
    "LnC.shape"
   ]
  },
  {
   "cell_type": "code",
   "execution_count": 40,
   "metadata": {
    "collapsed": true
   },
   "outputs": [],
   "source": [
    "icut = 32 #cutoff index where second line begins"
   ]
  },
  {
   "cell_type": "code",
   "execution_count": 41,
   "metadata": {
    "collapsed": false
   },
   "outputs": [
    {
     "data": {
      "text/plain": [
       "128"
      ]
     },
     "execution_count": 41,
     "metadata": {},
     "output_type": "execute_result"
    }
   ],
   "source": [
    "t[icut] #Second line begins"
   ]
  },
  {
   "cell_type": "code",
   "execution_count": 87,
   "metadata": {
    "collapsed": false
   },
   "outputs": [
    {
     "data": {
      "image/png": "[encoded data removed]",
      "text/plain": [
       "<matplotlib.figure.Figure at 0x2243fffcda0>"
      ]
     },
     "metadata": {},
     "output_type": "display_data"
    }
   ],
   "source": [
    "plt.figure(figsize=(9,4))\n",
    "plt.scatter(icut*4,LnC[icut],color='red',s=40)\n",
    "plt.errorbar(t, LnC, yerr=dLnC,ls=\"None\",marker='.');\n",
    "plt.xlim(0,np.max(t));\n",
    "plt.ylim(0,np.max(LnC) + 0.5)\n",
    "plt.xlabel('Time Elapsed (Seconds)',size=18);\n",
    "plt.ylabel('Ln(Decay Counts)',size=18);\n",
    "plt.xticks(size = 11);\n",
    "plt.yticks(size = 11);\n",
    "plt.savefig('Silver Counts')"
   ]
  },
  {
   "cell_type": "markdown",
   "metadata": {},
   "source": [
    "### #3"
   ]
  },
  {
   "cell_type": "code",
   "execution_count": 43,
   "metadata": {
    "collapsed": true
   },
   "outputs": [],
   "source": [
    "def myfun(t,C_o,tau):\n",
    "    ans = np.log(C_o) - t/tau  # this is y, \"the function to be fit\"\n",
    "    return ans"
   ]
  },
  {
   "cell_type": "code",
   "execution_count": 44,
   "metadata": {
    "collapsed": true
   },
   "outputs": [],
   "source": [
    "p02 = [80,5*60]"
   ]
  },
  {
   "cell_type": "code",
   "execution_count": 45,
   "metadata": {
    "collapsed": false
   },
   "outputs": [
    {
     "name": "stdout",
     "output_type": "stream",
     "text": [
      "C_o = 110 +/- 4\n",
      "tau = 221.1 +/- 5.0\n"
     ]
    }
   ],
   "source": [
    "xlots2 = np.linspace(icut*4,np.max(t))  # need lots of data points for smooth curve\n",
    "\n",
    "plsq, pcov = curve_fit(myfun, t[icut:], LnC[icut:], p02, dLnC[icut:])  # curve fit returns p and covariance matrix\n",
    "# these give the parameters and the uncertainties\n",
    "C_o2 = plsq[0]\n",
    "dC_o2 = np.sqrt(pcov[0,0])\n",
    "tau2 = plsq[1]\n",
    "dtau2 = np.sqrt(pcov[1,1])\n",
    "\n",
    "\n",
    "yfit2 = myfun(xlots2,plsq[0],plsq[1])  # use fit results for a, b, c\n",
    "    \n",
    "print('C_o = %.0f +/- %.0f' % (plsq[0], np.sqrt(pcov[0,0])))\n",
    "print('tau = %.1f +/- %.1f' % (plsq[1], np.sqrt(pcov[1,1])))"
   ]
  },
  {
   "cell_type": "code",
   "execution_count": 70,
   "metadata": {
    "collapsed": false
   },
   "outputs": [
    {
     "data": {
      "text/plain": [
       "153.23044517886714"
      ]
     },
     "execution_count": 70,
     "metadata": {},
     "output_type": "execute_result"
    }
   ],
   "source": [
    "tau2*np.log(2)"
   ]
  },
  {
   "cell_type": "code",
   "execution_count": 71,
   "metadata": {
    "collapsed": false
   },
   "outputs": [
    {
     "data": {
      "text/plain": [
       "3.455527892375772"
      ]
     },
     "execution_count": 71,
     "metadata": {},
     "output_type": "execute_result"
    }
   ],
   "source": [
    "dtau2*np.log(2)"
   ]
  },
  {
   "cell_type": "code",
   "execution_count": 90,
   "metadata": {
    "collapsed": false
   },
   "outputs": [
    {
     "data": {
      "image/png": "[encoded data removed]",
      "text/plain": [
       "<matplotlib.figure.Figure at 0x224421d2828>"
      ]
     },
     "metadata": {},
     "output_type": "display_data"
    }
   ],
   "source": [
    "plt.figure(figsize=(9,4))\n",
    "plt.errorbar(t, LnC, yerr=dLnC,ls=\"None\",marker='.');\n",
    "plt.xlabel('Time Elapsed (seconds)',size=18);\n",
    "plt.ylabel('Ln(Decay Counts)',size=18);\n",
    "plt.xticks(size = 13);\n",
    "plt.yticks(size = 13);\n",
    "plt.plot(xlots2,yfit2);\n",
    "plt.savefig('Ag110Fit')"
   ]
  },
  {
   "cell_type": "markdown",
   "metadata": {},
   "source": [
    "### #4"
   ]
  },
  {
   "cell_type": "code",
   "execution_count": 47,
   "metadata": {
    "collapsed": true
   },
   "outputs": [],
   "source": [
    "def LongLivedCounts(t):\n",
    "    return C_o2*np.exp(-t/tau2)"
   ]
  },
  {
   "cell_type": "code",
   "execution_count": 55,
   "metadata": {
    "collapsed": false
   },
   "outputs": [],
   "source": [
    "ShortLivedCounts = CorrectData[0:icut] - LongLivedCounts(t[0:icut])\n",
    "\n",
    "ShortLivedCounts = ShortLivedCounts[0:-6] #Some entries in background\n",
    "\n",
    "LnSLC = np.log(ShortLivedCounts)\n",
    "\n",
    "dLnSLC = np.array([1/np.sqrt(entry) for entry in ShortLivedCounts])"
   ]
  },
  {
   "cell_type": "code",
   "execution_count": 56,
   "metadata": {
    "collapsed": false
   },
   "outputs": [
    {
     "data": {
      "text/plain": [
       "array([ 5.23600082,  5.2954953 ,  5.19972419,  5.07449082,  5.13068596,\n",
       "        4.78355108,  4.56767376,  4.76957976,  4.60333899,  4.37876671,\n",
       "        4.12367571,  3.82716465,  4.00260368,  3.78402439,  3.69928334,\n",
       "        3.20052322,  3.72313977,  3.35126858,  2.36132513,  3.18867898,\n",
       "        2.59672207,  3.67075518,  2.89981662,  1.98583135,  2.02372428,\n",
       "        2.17933532])"
      ]
     },
     "execution_count": 56,
     "metadata": {},
     "output_type": "execute_result"
    }
   ],
   "source": [
    "LnSLC"
   ]
  },
  {
   "cell_type": "code",
   "execution_count": 57,
   "metadata": {
    "collapsed": false
   },
   "outputs": [
    {
     "data": {
      "text/plain": [
       "(26,)"
      ]
     },
     "execution_count": 57,
     "metadata": {},
     "output_type": "execute_result"
    }
   ],
   "source": [
    "ShortLivedCounts.shape"
   ]
  },
  {
   "cell_type": "code",
   "execution_count": 58,
   "metadata": {
    "collapsed": false
   },
   "outputs": [
    {
     "data": {
      "text/plain": [
       "(32,)"
      ]
     },
     "execution_count": 58,
     "metadata": {},
     "output_type": "execute_result"
    }
   ],
   "source": [
    "t[0:icut].shape"
   ]
  },
  {
   "cell_type": "code",
   "execution_count": 59,
   "metadata": {
    "collapsed": false
   },
   "outputs": [
    {
     "data": {
      "image/png": "[encoded data removed]",
      "text/plain": [
       "<matplotlib.figure.Figure at 0x22441db4a58>"
      ]
     },
     "metadata": {},
     "output_type": "display_data"
    }
   ],
   "source": [
    "plt.figure(figsize=(9,4))\n",
    "plt.errorbar(t[0:len(LnSLC)], LnSLC, yerr=dLnSLC,ls=\"None\",marker='.');\n",
    "plt.xlim(0,len(LnSLC)*4);\n",
    "plt.ylim(0,np.max(LnC) + 0.5)\n",
    "plt.xlabel('Time Elapsed (Seconds)',size=20);\n",
    "plt.ylabel('Ln(Decay Counts)',size=20);\n",
    "plt.xticks(size = 13);\n",
    "plt.yticks(size = 13);"
   ]
  },
  {
   "cell_type": "code",
   "execution_count": 60,
   "metadata": {
    "collapsed": true
   },
   "outputs": [],
   "source": [
    "p03 = [ShortLivedCounts[0],60]"
   ]
  },
  {
   "cell_type": "code",
   "execution_count": 61,
   "metadata": {
    "collapsed": false
   },
   "outputs": [
    {
     "name": "stdout",
     "output_type": "stream",
     "text": [
      "C_o = 223 +/- 13\n",
      "tau = 34.1 +/- 2.0\n"
     ]
    }
   ],
   "source": [
    "xlots3 = np.linspace(0,len(LnSLC)*4)  # need lots of data points for smooth curve\n",
    "\n",
    "plsq, pcov = curve_fit(myfun, t[0:len(LnSLC)], LnSLC[0:len(LnSLC)], p03, dLnSLC[0:len(LnSLC)])  # curve fit returns p and covariance matrix\n",
    "# these give the parameters and the uncertainties\n",
    "C_o3 = plsq[0]\n",
    "dC_o3 = np.sqrt(pcov[0,0])\n",
    "tau3 = plsq[1]\n",
    "dtau3 = np.sqrt(pcov[1,1])\n",
    "\n",
    "\n",
    "yfit3 = myfun(xlots3,plsq[0],plsq[1])  # use fit results for a, b, c\n",
    "    \n",
    "print('C_o = %.0f +/- %.0f' % (plsq[0], np.sqrt(pcov[0,0])))\n",
    "print('tau = %.1f +/- %.1f' % (plsq[1], np.sqrt(pcov[1,1])))"
   ]
  },
  {
   "cell_type": "code",
   "execution_count": 68,
   "metadata": {
    "collapsed": false
   },
   "outputs": [
    {
     "data": {
      "text/plain": [
       "23.638056363262763"
      ]
     },
     "execution_count": 68,
     "metadata": {},
     "output_type": "execute_result"
    }
   ],
   "source": [
    "tau3*np.log(2)"
   ]
  },
  {
   "cell_type": "code",
   "execution_count": 69,
   "metadata": {
    "collapsed": false
   },
   "outputs": [
    {
     "data": {
      "text/plain": [
       "1.360651554060843"
      ]
     },
     "execution_count": 69,
     "metadata": {},
     "output_type": "execute_result"
    }
   ],
   "source": [
    "dtau3*np.log(2)"
   ]
  },
  {
   "cell_type": "code",
   "execution_count": 62,
   "metadata": {
    "collapsed": false
   },
   "outputs": [
    {
     "data": {
      "image/png": "[encoded data removed]",
      "text/plain": [
       "<matplotlib.figure.Figure at 0x22441e1ad30>"
      ]
     },
     "metadata": {},
     "output_type": "display_data"
    }
   ],
   "source": [
    "plt.figure(figsize=(9,4))\n",
    "plt.errorbar(t[0:len(LnSLC)], LnSLC, yerr=dLnSLC,ls=\"None\",marker='.');\n",
    "plt.xlabel('Time Elapsed (seconds)',size=20);\n",
    "plt.ylabel('Ln(Decay Counts)',size=20);\n",
    "plt.xticks(size = 13);\n",
    "plt.xlim(0,len(LnSLC)*4);\n",
    "plt.yticks(size = 13);\n",
    "plt.plot(xlots3,yfit3);"
   ]
  },
  {
   "cell_type": "markdown",
   "metadata": {},
   "source": [
    "### #5"
   ]
  },
  {
   "cell_type": "markdown",
   "metadata": {},
   "source": [
    "From wiki, the half life of Silver-108 is 2.37 minutes and From wiki, the half life of Silver-110 is 24.6 seconds"
   ]
  },
  {
   "cell_type": "markdown",
   "metadata": {},
   "source": [
    "### #6"
   ]
  },
  {
   "cell_type": "code",
   "execution_count": 92,
   "metadata": {
    "collapsed": false
   },
   "outputs": [
    {
     "data": {
      "image/png": "[encoded data removed]",
      "text/plain": [
       "<matplotlib.figure.Figure at 0x22441dc0048>"
      ]
     },
     "metadata": {},
     "output_type": "display_data"
    }
   ],
   "source": [
    "plt.figure(figsize=(9,4))\n",
    "plt.errorbar(t, CorrectData, yerr=dCorrectData,ls=\"None\",marker='.');\n",
    "plt.xlabel('Time Elapsed (Seconds)',size=18);\n",
    "plt.ylabel('Decay Counts',size=18);\n",
    "plt.xticks(size = 11);\n",
    "plt.yticks(size = 11);\n",
    "plt.savefig('SilverData.png')\n"
   ]
  },
  {
   "cell_type": "code",
   "execution_count": 64,
   "metadata": {
    "collapsed": true
   },
   "outputs": [],
   "source": [
    "def myfun2(t,C_o2,tau2,C_o3,tau3):\n",
    "    ans = C_o2*np.exp(-t/tau2) + C_o3*np.exp(-t/tau3)  # this is y, \"the function to be fit\"\n",
    "    return ans"
   ]
  },
  {
   "cell_type": "code",
   "execution_count": 65,
   "metadata": {
    "collapsed": true
   },
   "outputs": [],
   "source": [
    "p04 = [C_o2,tau2,C_o3,tau3]"
   ]
  },
  {
   "cell_type": "code",
   "execution_count": 75,
   "metadata": {
    "collapsed": false
   },
   "outputs": [
    {
     "name": "stdout",
     "output_type": "stream",
     "text": [
      "C_o2 = 110 +/- 5\n",
      "tau2 = 206.3 +/- 5.3\n",
      "C_o3 = 219 +/- 10\n",
      "tau3 = 34.5 +/- 2.5\n"
     ]
    }
   ],
   "source": [
    "xlots4 = np.linspace(0,np.max(t))  # need lots of data points for smooth curve\n",
    "\n",
    "plsq, pcov = curve_fit(myfun2, t, CorrectData, p04, dCorrectData)  # curve fit returns p and covariance matrix\n",
    "# these give the parameters and the uncertainties\n",
    "C_o22 = plsq[0]\n",
    "dC_o22 = np.sqrt(pcov[0,0])\n",
    "tau33 = plsq[1]\n",
    "dtau33 = np.sqrt(pcov[1,1])\n",
    "\n",
    "tau44 = plsq[3]\n",
    "dtau44 = np.sqrt(pcov[3,3])\n",
    "\n",
    "\n",
    "yfit4 = myfun2(xlots4,plsq[0],plsq[1],plsq[2],plsq[3])  # use fit results for a, b, c\n",
    "    \n",
    "print('C_o2 = %.0f +/- %.0f' % (plsq[0], np.sqrt(pcov[0,0])))\n",
    "print('tau2 = %.1f +/- %.1f' % (plsq[1], np.sqrt(pcov[1,1])))\n",
    "print('C_o3 = %.0f +/- %.0f' % (plsq[2], np.sqrt(pcov[2,2])))\n",
    "print('tau3 = %.1f +/- %.1f' % (plsq[3], np.sqrt(pcov[3,3])))"
   ]
  },
  {
   "cell_type": "code",
   "execution_count": 76,
   "metadata": {
    "collapsed": false
   },
   "outputs": [
    {
     "data": {
      "text/plain": [
       "143.00151562146277"
      ]
     },
     "execution_count": 76,
     "metadata": {},
     "output_type": "execute_result"
    }
   ],
   "source": [
    "tau33*np.log(2)"
   ]
  },
  {
   "cell_type": "code",
   "execution_count": 77,
   "metadata": {
    "collapsed": false
   },
   "outputs": [
    {
     "data": {
      "text/plain": [
       "3.6752151901404493"
      ]
     },
     "execution_count": 77,
     "metadata": {},
     "output_type": "execute_result"
    }
   ],
   "source": [
    "dtau33*np.log(2)"
   ]
  },
  {
   "cell_type": "code",
   "execution_count": 78,
   "metadata": {
    "collapsed": false
   },
   "outputs": [
    {
     "data": {
      "text/plain": [
       "1.7231897102042215"
      ]
     },
     "execution_count": 78,
     "metadata": {},
     "output_type": "execute_result"
    }
   ],
   "source": [
    "dtau44*np.log(2)"
   ]
  },
  {
   "cell_type": "code",
   "execution_count": 79,
   "metadata": {
    "collapsed": false
   },
   "outputs": [
    {
     "data": {
      "text/plain": [
       "23.907102696562031"
      ]
     },
     "execution_count": 79,
     "metadata": {},
     "output_type": "execute_result"
    }
   ],
   "source": [
    "tau44*np.log(2)"
   ]
  },
  {
   "cell_type": "code",
   "execution_count": 97,
   "metadata": {
    "collapsed": false
   },
   "outputs": [
    {
     "data": {
      "image/png": "[encoded data removed]",
      "text/plain": [
       "<matplotlib.figure.Figure at 0x224403801d0>"
      ]
     },
     "metadata": {},
     "output_type": "display_data"
    }
   ],
   "source": [
    "plt.figure(figsize=(9,4))\n",
    "plt.errorbar(t, CorrectData, yerr=dCorrectData,ls=\"None\",marker='.');\n",
    "plt.xlabel('Time Elapsed (Seconds)',size=18);\n",
    "plt.ylabel('Decay Counts',size=18);\n",
    "plt.xticks(size = 13);\n",
    "plt.yticks(size = 13);\n",
    "plt.plot(xlots4,yfit4);\n",
    "plt.legend(['Fit','Data'])\n",
    "plt.savefig('SecondaryFit')"
   ]
  },
  {
   "cell_type": "code",
   "execution_count": null,
   "metadata": {
    "collapsed": true
   },
   "outputs": [],
   "source": []
  }
 ],
 "metadata": {
  "anaconda-cloud": {},
  "kernelspec": {
   "display_name": "Python [default]",
   "language": "python",
   "name": "python3"
  },
  "language_info": {
   "codemirror_mode": {
    "name": "ipython",
    "version": 3
   },
   "file_extension": ".py",
   "mimetype": "text/x-python",
   "name": "python",
   "nbconvert_exporter": "python",
   "pygments_lexer": "ipython3",
   "version": "3.5.2"
  }
 },
 "nbformat": 4,
 "nbformat_minor": 1
}
