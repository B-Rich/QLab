{
 "cells": [
  {
   "cell_type": "code",
   "execution_count": 12,
   "metadata": {
    "collapsed": true
   },
   "outputs": [],
   "source": [
    "import pandas as pd\n",
    "import numpy as np\n",
    "import matplotlib.pyplot as plt\n",
    "from scipy.optimize import curve_fit  # import the curve fitting function\n",
    "%matplotlib inline"
   ]
  },
  {
   "cell_type": "markdown",
   "metadata": {},
   "source": [
    "### Read-in"
   ]
  },
  {
   "cell_type": "code",
   "execution_count": 13,
   "metadata": {
    "collapsed": true
   },
   "outputs": [],
   "source": [
    "df = pd.read_excel('SpectralData.xlsx', sheetname=None)"
   ]
  },
  {
   "cell_type": "code",
   "execution_count": 14,
   "metadata": {
    "collapsed": false
   },
   "outputs": [
    {
     "data": {
      "text/html": [
       "<div>\n",
       "<table border=\"1\" class=\"dataframe\">\n",
       "  <thead>\n",
       "    <tr style=\"text-align: right;\">\n",
       "      <th></th>\n",
       "      <th>Color</th>\n",
       "      <th>Angles</th>\n",
       "      <th>Minute</th>\n",
       "      <th>CCW</th>\n",
       "      <th>AnglesCCW</th>\n",
       "      <th>MinuteCCW</th>\n",
       "    </tr>\n",
       "  </thead>\n",
       "  <tbody>\n",
       "    <tr>\n",
       "      <th>0</th>\n",
       "      <td>Red</td>\n",
       "      <td>191</td>\n",
       "      <td>12</td>\n",
       "      <td>Red</td>\n",
       "      <td>168</td>\n",
       "      <td>47</td>\n",
       "    </tr>\n",
       "    <tr>\n",
       "      <th>1</th>\n",
       "      <td>Teal</td>\n",
       "      <td>188</td>\n",
       "      <td>16</td>\n",
       "      <td>Teal</td>\n",
       "      <td>171</td>\n",
       "      <td>43</td>\n",
       "    </tr>\n",
       "    <tr>\n",
       "      <th>2</th>\n",
       "      <td>Violet</td>\n",
       "      <td>187</td>\n",
       "      <td>24</td>\n",
       "      <td>Violet</td>\n",
       "      <td>172</td>\n",
       "      <td>35</td>\n",
       "    </tr>\n",
       "    <tr>\n",
       "      <th>3</th>\n",
       "      <td>Red</td>\n",
       "      <td>191</td>\n",
       "      <td>15</td>\n",
       "      <td>Red</td>\n",
       "      <td>168</td>\n",
       "      <td>51</td>\n",
       "    </tr>\n",
       "    <tr>\n",
       "      <th>4</th>\n",
       "      <td>Teal</td>\n",
       "      <td>188</td>\n",
       "      <td>18</td>\n",
       "      <td>Teal</td>\n",
       "      <td>171</td>\n",
       "      <td>45</td>\n",
       "    </tr>\n",
       "    <tr>\n",
       "      <th>5</th>\n",
       "      <td>Violet</td>\n",
       "      <td>187</td>\n",
       "      <td>23</td>\n",
       "      <td>Violet</td>\n",
       "      <td>172</td>\n",
       "      <td>42</td>\n",
       "    </tr>\n",
       "    <tr>\n",
       "      <th>6</th>\n",
       "      <td>Red</td>\n",
       "      <td>191</td>\n",
       "      <td>14</td>\n",
       "      <td>Red</td>\n",
       "      <td>168</td>\n",
       "      <td>46</td>\n",
       "    </tr>\n",
       "    <tr>\n",
       "      <th>7</th>\n",
       "      <td>Teal</td>\n",
       "      <td>188</td>\n",
       "      <td>21</td>\n",
       "      <td>Teal</td>\n",
       "      <td>171</td>\n",
       "      <td>40</td>\n",
       "    </tr>\n",
       "    <tr>\n",
       "      <th>8</th>\n",
       "      <td>Violet</td>\n",
       "      <td>187</td>\n",
       "      <td>25</td>\n",
       "      <td>Violet</td>\n",
       "      <td>172</td>\n",
       "      <td>37</td>\n",
       "    </tr>\n",
       "  </tbody>\n",
       "</table>\n",
       "</div>"
      ],
      "text/plain": [
       "    Color  Angles  Minute     CCW  AnglesCCW  MinuteCCW\n",
       "0     Red     191      12     Red        168         47\n",
       "1    Teal     188      16    Teal        171         43\n",
       "2  Violet     187      24  Violet        172         35\n",
       "3     Red     191      15     Red        168         51\n",
       "4    Teal     188      18    Teal        171         45\n",
       "5  Violet     187      23  Violet        172         42\n",
       "6     Red     191      14     Red        168         46\n",
       "7    Teal     188      21    Teal        171         40\n",
       "8  Violet     187      25  Violet        172         37"
      ]
     },
     "execution_count": 14,
     "metadata": {},
     "output_type": "execute_result"
    }
   ],
   "source": [
    "df['Hydrogen']"
   ]
  },
  {
   "cell_type": "code",
   "execution_count": 15,
   "metadata": {
    "collapsed": false
   },
   "outputs": [
    {
     "data": {
      "text/html": [
       "<div>\n",
       "<table border=\"1\" class=\"dataframe\">\n",
       "  <thead>\n",
       "    <tr style=\"text-align: right;\">\n",
       "      <th></th>\n",
       "      <th>Color</th>\n",
       "      <th>Angles</th>\n",
       "      <th>Minute</th>\n",
       "      <th>CCW</th>\n",
       "      <th>AnglesCCW</th>\n",
       "      <th>MinuteCCW</th>\n",
       "    </tr>\n",
       "  </thead>\n",
       "  <tbody>\n",
       "    <tr>\n",
       "      <th>0</th>\n",
       "      <td>Yellow1</td>\n",
       "      <td>189</td>\n",
       "      <td>49</td>\n",
       "      <td>Yellow1</td>\n",
       "      <td>170</td>\n",
       "      <td>4</td>\n",
       "    </tr>\n",
       "    <tr>\n",
       "      <th>1</th>\n",
       "      <td>Yellow2</td>\n",
       "      <td>189</td>\n",
       "      <td>47</td>\n",
       "      <td>Yellow2</td>\n",
       "      <td>170</td>\n",
       "      <td>6</td>\n",
       "    </tr>\n",
       "    <tr>\n",
       "      <th>2</th>\n",
       "      <td>Green</td>\n",
       "      <td>189</td>\n",
       "      <td>14</td>\n",
       "      <td>Green</td>\n",
       "      <td>170</td>\n",
       "      <td>36</td>\n",
       "    </tr>\n",
       "    <tr>\n",
       "      <th>3</th>\n",
       "      <td>Blue</td>\n",
       "      <td>188</td>\n",
       "      <td>21</td>\n",
       "      <td>Blue</td>\n",
       "      <td>171</td>\n",
       "      <td>33</td>\n",
       "    </tr>\n",
       "    <tr>\n",
       "      <th>4</th>\n",
       "      <td>Violet</td>\n",
       "      <td>187</td>\n",
       "      <td>22</td>\n",
       "      <td>Violet</td>\n",
       "      <td>172</td>\n",
       "      <td>30</td>\n",
       "    </tr>\n",
       "    <tr>\n",
       "      <th>5</th>\n",
       "      <td>Yellow1</td>\n",
       "      <td>189</td>\n",
       "      <td>51</td>\n",
       "      <td>Yellow1</td>\n",
       "      <td>170</td>\n",
       "      <td>5</td>\n",
       "    </tr>\n",
       "    <tr>\n",
       "      <th>6</th>\n",
       "      <td>Yellow2</td>\n",
       "      <td>189</td>\n",
       "      <td>50</td>\n",
       "      <td>Yellow2</td>\n",
       "      <td>170</td>\n",
       "      <td>7</td>\n",
       "    </tr>\n",
       "    <tr>\n",
       "      <th>7</th>\n",
       "      <td>Green</td>\n",
       "      <td>189</td>\n",
       "      <td>20</td>\n",
       "      <td>Green</td>\n",
       "      <td>170</td>\n",
       "      <td>40</td>\n",
       "    </tr>\n",
       "    <tr>\n",
       "      <th>8</th>\n",
       "      <td>Blue</td>\n",
       "      <td>188</td>\n",
       "      <td>26</td>\n",
       "      <td>Blue</td>\n",
       "      <td>171</td>\n",
       "      <td>37</td>\n",
       "    </tr>\n",
       "    <tr>\n",
       "      <th>9</th>\n",
       "      <td>Violet</td>\n",
       "      <td>187</td>\n",
       "      <td>27</td>\n",
       "      <td>Violet</td>\n",
       "      <td>172</td>\n",
       "      <td>39</td>\n",
       "    </tr>\n",
       "  </tbody>\n",
       "</table>\n",
       "</div>"
      ],
      "text/plain": [
       "     Color  Angles  Minute      CCW  AnglesCCW  MinuteCCW\n",
       "0  Yellow1     189      49  Yellow1        170          4\n",
       "1  Yellow2     189      47  Yellow2        170          6\n",
       "2    Green     189      14    Green        170         36\n",
       "3     Blue     188      21     Blue        171         33\n",
       "4   Violet     187      22   Violet        172         30\n",
       "5  Yellow1     189      51  Yellow1        170          5\n",
       "6  Yellow2     189      50  Yellow2        170          7\n",
       "7    Green     189      20    Green        170         40\n",
       "8     Blue     188      26     Blue        171         37\n",
       "9   Violet     187      27   Violet        172         39"
      ]
     },
     "execution_count": 15,
     "metadata": {},
     "output_type": "execute_result"
    }
   ],
   "source": [
    "df['Mercury']"
   ]
  },
  {
   "cell_type": "markdown",
   "metadata": {},
   "source": [
    "### Hydrogen"
   ]
  },
  {
   "cell_type": "code",
   "execution_count": 16,
   "metadata": {
    "collapsed": false
   },
   "outputs": [],
   "source": [
    "#Degrees\n",
    "HRed = np.array([df['Hydrogen']['Angles'][i] for i in np.arange(0,len(df['Hydrogen']['Angles']),3) ])\n",
    "HTeal = np.array([df['Hydrogen']['Angles'][i] for i in np.arange(1,len(df['Hydrogen']['Angles']),3) ])\n",
    "HViolet = np.array([df['Hydrogen']['Angles'][i] for i in np.arange(2,len(df['Hydrogen']['Angles']),3) ])\n",
    "\n",
    "#Add Minutes\n",
    "HRed = HRed + np.array([df['Hydrogen']['Minute'][i] for i in np.arange(0,len(df['Hydrogen']['Minute']),3) ])/60\n",
    "HTeal = HTeal + np.array([df['Hydrogen']['Minute'][i] for i in np.arange(1,len(df['Hydrogen']['Minute']),3) ])/60\n",
    "HViolet = HViolet + np.array([df['Hydrogen']['Minute'][i] for i in np.arange(2,len(df['Hydrogen']['Minute']),3) ])/60\n",
    "\n",
    "# Standard deviation of the mean\n",
    "HRedStd = np.std(HRed)/np.sqrt(3)\n",
    "HTealStd = np.std(HTeal)/np.sqrt(3)\n",
    "HVioletStd = np.std(HViolet)/np.sqrt(3)\n",
    "\n",
    "# Averaging\n",
    "HRed = np.mean(HRed)\n",
    "HTeal = np.mean(HTeal)\n",
    "HViolet = np.mean(HViolet)\n",
    "\n",
    "# True angle is difference from 180\n",
    "HRed = abs(HRed - 180)\n",
    "HTeal = abs(HTeal - 180)\n",
    "HViolet = abs(HViolet-180)"
   ]
  },
  {
   "cell_type": "code",
   "execution_count": 17,
   "metadata": {
    "collapsed": false
   },
   "outputs": [],
   "source": [
    "#Degrees\n",
    "HRedCCW = np.array([df['Hydrogen']['AnglesCCW'][i] for i in np.arange(0,len(df['Hydrogen']['AnglesCCW']),3) ])\n",
    "HTealCCW = np.array([df['Hydrogen']['AnglesCCW'][i] for i in np.arange(1,len(df['Hydrogen']['AnglesCCW']),3) ])\n",
    "HVioletCCW = np.array([df['Hydrogen']['AnglesCCW'][i] for i in np.arange(2,len(df['Hydrogen']['AnglesCCW']),3) ])\n",
    "\n",
    "#Add Minutes\n",
    "HRedCCW = HRedCCW + np.array([df['Hydrogen']['MinuteCCW'][i] for i in np.arange(0,len(df['Hydrogen']['MinuteCCW']),3) ])/60\n",
    "HTealCCW = HTealCCW + np.array([df['Hydrogen']['MinuteCCW'][i] for i in np.arange(1,len(df['Hydrogen']['MinuteCCW']),3) ])/60\n",
    "HVioletCCW = HVioletCCW + np.array([df['Hydrogen']['MinuteCCW'][i] for i in np.arange(2,len(df['Hydrogen']['MinuteCCW']),3) ])/60\n",
    "\n",
    "\n",
    "# Standard deviation of the mean\n",
    "HRedCCWStd = np.std(HRedCCW)/np.sqrt(3)\n",
    "HTealCCWStd = np.std(HTealCCW)/np.sqrt(3)\n",
    "HVioletCCWStd = np.std(HVioletCCW)/np.sqrt(3)\n",
    "\n",
    "#Averaging\n",
    "HRedCCW = np.mean(HRedCCW)\n",
    "HTealCCW = np.mean(HTealCCW)\n",
    "HVioletCCW = np.mean(HVioletCCW)\n",
    "\n",
    "# True angle is difference from 180\n",
    "HRedCCW = abs(HRedCCW - 180)\n",
    "HTealCCW = abs(HTealCCW - 180)\n",
    "HVioletCCW = abs(HVioletCCW-180)"
   ]
  },
  {
   "cell_type": "code",
   "execution_count": 18,
   "metadata": {
    "collapsed": false
   },
   "outputs": [
    {
     "data": {
      "text/plain": [
       "11.22777777777776"
      ]
     },
     "execution_count": 18,
     "metadata": {},
     "output_type": "execute_result"
    }
   ],
   "source": [
    "HRed"
   ]
  },
  {
   "cell_type": "code",
   "execution_count": 19,
   "metadata": {
    "collapsed": false
   },
   "outputs": [
    {
     "data": {
      "text/plain": [
       "0.012001371663720502"
      ]
     },
     "execution_count": 19,
     "metadata": {},
     "output_type": "execute_result"
    }
   ],
   "source": [
    "HRedStd"
   ]
  },
  {
   "cell_type": "code",
   "execution_count": 20,
   "metadata": {
    "collapsed": false
   },
   "outputs": [
    {
     "data": {
      "text/plain": [
       "0.020786985482073739"
      ]
     },
     "execution_count": 20,
     "metadata": {},
     "output_type": "execute_result"
    }
   ],
   "source": [
    "HRedCCWStd"
   ]
  },
  {
   "cell_type": "code",
   "execution_count": 7,
   "metadata": {
    "collapsed": false
   },
   "outputs": [
    {
     "name": "stdout",
     "output_type": "stream",
     "text": [
      "HRed = 0.1957193 +/-0.0002861 Radians\n",
      "HTeal = 0.1448138 +/-0.0003451 Radians\n",
      "HViolet = 0.1288635 +/-0.0003158 Radians\n"
     ]
    }
   ],
   "source": [
    "# Average CW and CCW\n",
    "HRed = (HRed + HRedCCW)/2\n",
    "HTeal = (HTeal + HTealCCW)/2\n",
    "HViolet = (HViolet + HVioletCCW)/2\n",
    "\n",
    "HRedStd = (HRedStd + HRedCCWStd)/2\n",
    "HTealStd = (HTealStd + HTealCCWStd)/2\n",
    "HVioletStd = (HVioletStd + HVioletCCWStd)/2\n",
    "\n",
    "# Convert to radians\n",
    "HRed = np.deg2rad(HRed)\n",
    "HTeal = np.deg2rad(HTeal)\n",
    "HViolet = np.deg2rad(HViolet)\n",
    "\n",
    "HRedStd = np.deg2rad(HRedStd)\n",
    "HTealStd = np.deg2rad(HTealStd)\n",
    "HVioletStd = np.deg2rad(HVioletStd)\n",
    "\n",
    "print('HRed = %.7f +/-%.7f Radians' % (HRed,HRedStd))\n",
    "print('HTeal = %.7f +/-%.7f Radians' % (HTeal,HTealStd))\n",
    "print('HViolet = %.7f +/-%.7f Radians' % (HViolet,HVioletStd))"
   ]
  },
  {
   "cell_type": "markdown",
   "metadata": {},
   "source": [
    "### Mercury"
   ]
  },
  {
   "cell_type": "code",
   "execution_count": 21,
   "metadata": {
    "collapsed": false
   },
   "outputs": [],
   "source": [
    "#Degrees\n",
    "HgY1 = np.array([df['Mercury']['Angles'][i] for i in np.arange(0,len(df['Mercury']['Angles']),5) ])\n",
    "HgY2 = np.array([df['Mercury']['Angles'][i] for i in np.arange(1,len(df['Mercury']['Angles']),5) ])\n",
    "HgG = np.array([df['Mercury']['Angles'][i] for i in np.arange(2,len(df['Mercury']['Angles']),5) ])\n",
    "HgB = np.array([df['Mercury']['Angles'][i] for i in np.arange(3,len(df['Mercury']['Angles']),5) ])\n",
    "HgV = np.array([df['Mercury']['Angles'][i] for i in np.arange(4,len(df['Mercury']['Angles']),5) ])\n",
    "\n",
    "#Add Minutes\n",
    "HgY1 = HgY1 + np.array([df['Mercury']['Minute'][i] for i in np.arange(0,len(df['Mercury']['Minute']),5) ])/60\n",
    "HgY2 = HgY2 + np.array([df['Mercury']['Minute'][i] for i in np.arange(1,len(df['Mercury']['Minute']),5) ])/60\n",
    "HgG = HgG + np.array([df['Mercury']['Minute'][i] for i in np.arange(2,len(df['Mercury']['Minute']),5) ])/60\n",
    "HgB = HgB + np.array([df['Mercury']['Minute'][i] for i in np.arange(3,len(df['Mercury']['Minute']),5) ])/60\n",
    "HgV = HgV + np.array([df['Mercury']['Minute'][i] for i in np.arange(4,len(df['Mercury']['Minute']),5) ])/60\n",
    "\n",
    "# Averaging\n",
    "HgY1 = np.mean(HgY1)\n",
    "HgY2 = np.mean(HgY2)\n",
    "HgG = np.mean(HgG)\n",
    "HgB = np.mean(HgB)\n",
    "HgV = np.mean(HgV)\n",
    "\n",
    "# True angle is difference from 180\n",
    "HgY1 = abs(HgY1-180)\n",
    "HgY2 = abs(HgY2 - 180)\n",
    "HgG = abs(HgG-180)\n",
    "HgB = abs(HgB-180)\n",
    "HgV = abs(HgV-180)"
   ]
  },
  {
   "cell_type": "code",
   "execution_count": 22,
   "metadata": {
    "collapsed": false
   },
   "outputs": [],
   "source": [
    "#Degrees\n",
    "HgY1CCW = np.array([df['Mercury']['AnglesCCW'][i] for i in np.arange(0,len(df['Mercury']['AnglesCCW']),5) ])\n",
    "HgY2CCW = np.array([df['Mercury']['AnglesCCW'][i] for i in np.arange(1,len(df['Mercury']['AnglesCCW']),5) ])\n",
    "HgGCCW = np.array([df['Mercury']['AnglesCCW'][i] for i in np.arange(2,len(df['Mercury']['AnglesCCW']),5) ])\n",
    "HgBCCW = np.array([df['Mercury']['AnglesCCW'][i] for i in np.arange(3,len(df['Mercury']['AnglesCCW']),5) ])\n",
    "HgVCCW = np.array([df['Mercury']['AnglesCCW'][i] for i in np.arange(4,len(df['Mercury']['AnglesCCW']),5) ])\n",
    "\n",
    "#Add Minutes\n",
    "\n",
    "HgY1CCW = HgY1CCW + np.array([df['Mercury']['MinuteCCW'][i] for i in np.arange(0,len(df['Mercury']['MinuteCCW']),5) ])/60\n",
    "HgY2CCW = HgY2CCW + np.array([df['Mercury']['MinuteCCW'][i] for i in np.arange(1,len(df['Mercury']['MinuteCCW']),5) ])/60\n",
    "HgGCCW = HgGCCW + np.array([df['Mercury']['MinuteCCW'][i] for i in np.arange(2,len(df['Mercury']['MinuteCCW']),5) ])/60\n",
    "HgBCCW = HgBCCW + np.array([df['Mercury']['MinuteCCW'][i] for i in np.arange(3,len(df['Mercury']['MinuteCCW']),5) ])/60\n",
    "HgVCCW = HgVCCW + np.array([df['Mercury']['MinuteCCW'][i] for i in np.arange(4,len(df['Mercury']['MinuteCCW']),5) ])/60\n",
    "\n",
    "# Averaging\n",
    "HgY1CCW = np.mean(HgY1CCW)\n",
    "HgY2CCW = np.mean(HgY2CCW)\n",
    "HgGCCW = np.mean(HgGCCW)\n",
    "HgBCCW = np.mean(HgBCCW)\n",
    "HgVCCW = np.mean(HgVCCW)\n",
    "\n",
    "# True angle is difference from 180\n",
    "HgY1CCW = abs(HgY1CCW-180)\n",
    "HgY2CCW = abs(HgY2CCW -180)\n",
    "HgGCCW = abs(HgGCCW-180)\n",
    "HgBCCW = abs(HgBCCW-180)\n",
    "HgVCCW = abs(HgVCCW-180)"
   ]
  },
  {
   "cell_type": "code",
   "execution_count": 49,
   "metadata": {
    "collapsed": false
   },
   "outputs": [
    {
     "data": {
      "text/plain": [
       "7.4250000000000114"
      ]
     },
     "execution_count": 49,
     "metadata": {},
     "output_type": "execute_result"
    }
   ],
   "source": [
    "HgVCCW"
   ]
  },
  {
   "cell_type": "code",
   "execution_count": 50,
   "metadata": {
    "collapsed": false
   },
   "outputs": [
    {
     "data": {
      "text/plain": [
       "0.028327886186621257"
      ]
     },
     "execution_count": 50,
     "metadata": {},
     "output_type": "execute_result"
    }
   ],
   "source": [
    "HVioletCCWStd"
   ]
  },
  {
   "cell_type": "code",
   "execution_count": 10,
   "metadata": {
    "collapsed": false
   },
   "outputs": [
    {
     "name": "stdout",
     "output_type": "stream",
     "text": [
      "HgYellow1 = 0.1724240 +/-0.0002861 Radians\n",
      "HgYellow2 = 0.1719149 +/-0.0002861 Radians\n",
      "HgGreen = 0.1627520 +/-0.0003451 Radians\n",
      "HgBlue = 0.1466804 +/-0.0003451 Radians\n",
      "HgViolet = 0.1294453 +/-0.0003158 Radians\n"
     ]
    }
   ],
   "source": [
    "# Average CW and CCW\n",
    "HgYellow1 = (HgY1 + HgY1CCW)/2\n",
    "HgYellow2 = (HgY2 + HgY2CCW)/2\n",
    "HgGreen = (HgG + HgGCCW)/2\n",
    "HgBlue = (HgB + HgBCCW)/2\n",
    "HgViolet = (HgV + HgVCCW)/2\n",
    "\n",
    "#Approximating uncertainty based on Hydrogen measurements.\n",
    "HgYellow1Std = HRedStd\n",
    "HgYellow2Std = HRedStd\n",
    "HgGreenStd =  HTealStd\n",
    "HgBlueStd = HTealStd\n",
    "HgVioletStd = HVioletStd\n",
    "\n",
    "# Convert to radians\n",
    "HgYellow1 = np.deg2rad(HgYellow1)\n",
    "HgYellow2 = np.deg2rad(HgYellow2)\n",
    "HgGreen = np.deg2rad(HgGreen)\n",
    "HgBlue = np.deg2rad(HgBlue)\n",
    "HgViolet = np.deg2rad(HgViolet)\n",
    "\n",
    "#Std are already in radians\n",
    "\n",
    "\n",
    "print('HgYellow1 = %.7f +/-%.7f Radians' % (HgYellow1,HgYellow1Std))\n",
    "print('HgYellow2 = %.7f +/-%.7f Radians' % (HgYellow2,HgYellow2Std))\n",
    "print('HgGreen = %.7f +/-%.7f Radians' % (HgGreen,HgGreenStd))\n",
    "print('HgBlue = %.7f +/-%.7f Radians' % (HgBlue,HgBlueStd))\n",
    "print('HgViolet = %.7f +/-%.7f Radians' % (HgViolet,HgVioletStd))"
   ]
  },
  {
   "cell_type": "markdown",
   "metadata": {},
   "source": [
    "### Calculating Wavelengths"
   ]
  },
  {
   "cell_type": "code",
   "execution_count": 11,
   "metadata": {
    "collapsed": true
   },
   "outputs": [],
   "source": [
    "d = 1/(3*1e5)"
   ]
  },
  {
   "cell_type": "code",
   "execution_count": 12,
   "metadata": {
    "collapsed": false
   },
   "outputs": [],
   "source": [
    "def wavelength(theta):\n",
    "    #Theta in radians\n",
    "    return d*np.sin(theta)"
   ]
  },
  {
   "cell_type": "code",
   "execution_count": 13,
   "metadata": {
    "collapsed": true
   },
   "outputs": [],
   "source": [
    "def uncertainty(theta):\n",
    "    delta_d = 1.2*1e-8 #From text\n",
    "    delta_theta = np.deg2rad(2/60) #Three minute uncertainty from Visual and Tool.\n",
    "    return abs(np.sin(theta)*delta_d) + abs(d*np.cos(theta)*delta_theta)"
   ]
  },
  {
   "cell_type": "markdown",
   "metadata": {},
   "source": [
    "### Hydrogen"
   ]
  },
  {
   "cell_type": "code",
   "execution_count": 14,
   "metadata": {
    "collapsed": false
   },
   "outputs": [
    {
     "data": {
      "text/plain": [
       "array([ 648.2404525 ,  481.02742422,  428.35708562])"
      ]
     },
     "execution_count": 14,
     "metadata": {},
     "output_type": "execute_result"
    }
   ],
   "source": [
    "HWave = np.array([\n",
    "        wavelength(HRed),\n",
    "        wavelength(HTeal),\n",
    "        wavelength(HViolet)\n",
    "    ])\n",
    "\n",
    "HWave = HWave*1e9 #Observed Hydrogen spectrum in nm\n",
    "HWave"
   ]
  },
  {
   "cell_type": "code",
   "execution_count": 15,
   "metadata": {
    "collapsed": false
   },
   "outputs": [],
   "source": [
    "HAngles = np.array([HRed,HTeal,HViolet])"
   ]
  },
  {
   "cell_type": "code",
   "execution_count": 16,
   "metadata": {
    "collapsed": false
   },
   "outputs": [
    {
     "data": {
      "text/plain": [
       "array([ 4.23589619,  3.65065486,  3.46526107])"
      ]
     },
     "execution_count": 16,
     "metadata": {},
     "output_type": "execute_result"
    }
   ],
   "source": [
    "HWaveu = np.array([uncertainty(entry) for entry in HAngles])*1e9\n",
    "HWaveu"
   ]
  },
  {
   "cell_type": "code",
   "execution_count": 17,
   "metadata": {
    "collapsed": false
   },
   "outputs": [
    {
     "data": {
      "text/plain": [
       "array([ 0.95377463,  1.15030967,  1.05256815])"
      ]
     },
     "execution_count": 17,
     "metadata": {},
     "output_type": "execute_result"
    }
   ],
   "source": [
    "HWaveStd = np.array([\n",
    "        wavelength(HRedStd),\n",
    "        wavelength(HTealStd),\n",
    "        wavelength(HVioletStd),\n",
    "\n",
    "    ])\n",
    "\n",
    "HWaveStd = HWaveStd*1e9 #Observed Hydrogen spectrum in nm\n",
    "HWaveStd"
   ]
  },
  {
   "cell_type": "markdown",
   "metadata": {},
   "source": [
    "### Mercury"
   ]
  },
  {
   "cell_type": "code",
   "execution_count": 18,
   "metadata": {
    "collapsed": false
   },
   "outputs": [
    {
     "data": {
      "text/plain": [
       "array([ 571.90297688,  570.2312162 ,  540.11467581,  487.18323363,\n",
       "        430.28018857])"
      ]
     },
     "execution_count": 18,
     "metadata": {},
     "output_type": "execute_result"
    }
   ],
   "source": [
    "HgWave = np.array([\n",
    "        wavelength(HgYellow1),\n",
    "        wavelength(HgYellow2),\n",
    "        wavelength(HgGreen),\n",
    "        wavelength(HgBlue),\n",
    "        wavelength(HgViolet)\n",
    "    ])\n",
    "\n",
    "HgWave = HgWave*1e9 #Observed Hydrogen spectrum in nm\n",
    "HgWave"
   ]
  },
  {
   "cell_type": "code",
   "execution_count": 19,
   "metadata": {
    "collapsed": true
   },
   "outputs": [],
   "source": [
    "HgAngles = np.array([HgYellow1, HgYellow2, HgGreen, HgBlue, HgViolet])"
   ]
  },
  {
   "cell_type": "code",
   "execution_count": 20,
   "metadata": {
    "collapsed": true
   },
   "outputs": [],
   "source": [
    "Hgu = np.array([uncertainty(entry) for entry in HgAngles])"
   ]
  },
  {
   "cell_type": "code",
   "execution_count": 21,
   "metadata": {
    "collapsed": false
   },
   "outputs": [
    {
     "data": {
      "text/plain": [
       "array([  3.96934974e-09,   3.96350052e-09,   3.85804052e-09,\n",
       "         3.67229008e-09,   3.47203893e-09])"
      ]
     },
     "execution_count": 21,
     "metadata": {},
     "output_type": "execute_result"
    }
   ],
   "source": [
    "Hgu"
   ]
  },
  {
   "cell_type": "code",
   "execution_count": 22,
   "metadata": {
    "collapsed": false
   },
   "outputs": [
    {
     "data": {
      "text/plain": [
       "array([ 0.95377463,  0.95377463,  1.15030967,  1.15030967,  1.05256815])"
      ]
     },
     "execution_count": 22,
     "metadata": {},
     "output_type": "execute_result"
    }
   ],
   "source": [
    "HgWaveStd = np.array([\n",
    "        wavelength(HgYellow1Std),\n",
    "        wavelength(HgYellow2Std),\n",
    "        wavelength(HgGreenStd),\n",
    "        wavelength(HgBlueStd),\n",
    "        wavelength(HgVioletStd)\n",
    "    ])\n",
    "\n",
    "HgWaveStd = HgWaveStd*1e9 #Observed Hydrogen spectrum in nm\n",
    "HgWaveStd"
   ]
  },
  {
   "cell_type": "markdown",
   "metadata": {},
   "source": [
    "### Results"
   ]
  },
  {
   "cell_type": "code",
   "execution_count": 23,
   "metadata": {
    "collapsed": true
   },
   "outputs": [],
   "source": [
    "from IPython.display import Latex"
   ]
  },
  {
   "cell_type": "markdown",
   "metadata": {},
   "source": [
    "## Hydrogen"
   ]
  },
  {
   "cell_type": "code",
   "execution_count": 24,
   "metadata": {
    "collapsed": false
   },
   "outputs": [
    {
     "name": "stdout",
     "output_type": "stream",
     "text": [
      "HRed = 648.2 +/-1.0 (nm)\n",
      "HTeal = 481.0 +/-1.2 (nm)\n",
      "HViolet = 428.4 +/-1.1 (nm)\n"
     ]
    }
   ],
   "source": [
    "print('HRed = %.1f +/-%.1f (nm)' % (HWave[0],HWaveStd[0]))\n",
    "print('HTeal = %.1f +/-%.1f (nm)' % (HWave[1],HWaveStd[1]))\n",
    "print('HViolet = %.1f +/-%.1f (nm)' % (HWave[2],HWaveStd[2]))"
   ]
  },
  {
   "cell_type": "markdown",
   "metadata": {},
   "source": [
    "## Mercury"
   ]
  },
  {
   "cell_type": "code",
   "execution_count": 25,
   "metadata": {
    "collapsed": false
   },
   "outputs": [
    {
     "name": "stdout",
     "output_type": "stream",
     "text": [
      "HgYellow1 = 571.9 +/-1.0 (nm)\n",
      "HgYellow2 = 570.2 +/-1.0 (nm)\n",
      "HgGreen = 540.1 +/-1.2 (nm)\n",
      "HgBlue = 487.2 +/-1.2 (nm)\n",
      "HgViolet = 430.3 +/-1.1 (nm)\n"
     ]
    }
   ],
   "source": [
    "print('HgYellow1 = %.1f +/-%.1f (nm)' % (HgWave[0],HgWaveStd[0]))\n",
    "print('HgYellow2 = %.1f +/-%.1f (nm)' % (HgWave[1],HgWaveStd[1]))\n",
    "print('HgGreen = %.1f +/-%.1f (nm)' % (HgWave[2],HgWaveStd[2]))\n",
    "print('HgBlue = %.1f +/-%.1f (nm)' % (HgWave[3],HgWaveStd[3]))\n",
    "print('HgViolet = %.1f +/-%.1f (nm)' % (HgWave[4],HgWaveStd[4]))"
   ]
  },
  {
   "cell_type": "markdown",
   "metadata": {},
   "source": [
    "## Hydrogen Analysis"
   ]
  },
  {
   "cell_type": "code",
   "execution_count": 26,
   "metadata": {
    "collapsed": true
   },
   "outputs": [],
   "source": [
    "h = 6.6261*1e-34 #Plancks constant Js\n",
    "e = 1.6022*1e-19 #Electron Charge C\n",
    "c = 2.9989*1e8 #Light Speed m/s\n",
    "\n",
    "hc_ev = h*c/e\n",
    "\n",
    "E_r = 13.60 #Ionization energy. eV\n",
    "\n",
    "def HSpectrum(n):\n",
    "    q = 1/(1/4 - 1/(n**2))\n",
    "    return (hc_ev*q/E_r)*1e9 #Emitted wavelength in nm"
   ]
  },
  {
   "cell_type": "code",
   "execution_count": 27,
   "metadata": {
    "collapsed": false
   },
   "outputs": [
    {
     "data": {
      "text/plain": [
       "656.5938805098868"
      ]
     },
     "execution_count": 27,
     "metadata": {},
     "output_type": "execute_result"
    }
   ],
   "source": [
    "HSpectrum(3)"
   ]
  },
  {
   "cell_type": "code",
   "execution_count": 28,
   "metadata": {
    "collapsed": false
   },
   "outputs": [
    {
     "data": {
      "text/plain": [
       "486.3658374147311"
      ]
     },
     "execution_count": 28,
     "metadata": {},
     "output_type": "execute_result"
    }
   ],
   "source": [
    "HSpectrum(4)"
   ]
  },
  {
   "cell_type": "code",
   "execution_count": 29,
   "metadata": {
    "collapsed": false
   },
   "outputs": [
    {
     "data": {
      "text/plain": [
       "434.2552119774385"
      ]
     },
     "execution_count": 29,
     "metadata": {},
     "output_type": "execute_result"
    }
   ],
   "source": [
    "HSpectrum(5)"
   ]
  },
  {
   "cell_type": "markdown",
   "metadata": {},
   "source": [
    "Then our recorded wavelengths for Hydrogen correspond to $n_o$ = 3, 4, and 5."
   ]
  },
  {
   "cell_type": "markdown",
   "metadata": {},
   "source": [
    "### Plot the Rydberg Equation to Find Measured $E_r$"
   ]
  },
  {
   "cell_type": "code",
   "execution_count": 30,
   "metadata": {
    "collapsed": false
   },
   "outputs": [],
   "source": [
    "nH = np.array([3,4,5])\n",
    "q_array = np.array([1/(1/4 - 1/(entry**2)) for entry in nH])"
   ]
  },
  {
   "cell_type": "code",
   "execution_count": 31,
   "metadata": {
    "collapsed": false
   },
   "outputs": [
    {
     "name": "stderr",
     "output_type": "stream",
     "text": [
      "C:\\Anaconda3\\lib\\site-packages\\matplotlib\\collections.py:590: FutureWarning: elementwise comparison failed; returning scalar instead, but in the future will perform elementwise comparison\n",
      "  if self._edgecolors == str('face'):\n"
     ]
    },
    {
     "data": {
      "image/png": "[encoded data removed]",
      "text/plain": [
       "<matplotlib.figure.Figure at 0x945b6d8>"
      ]
     },
     "metadata": {},
     "output_type": "display_data"
    }
   ],
   "source": [
    "plt.figure(figsize=(12,6))\n",
    "plt.errorbar(q_array,HWave,HWaveStd,linestyle = '',marker = 'o');\n",
    "plt.xlabel('$q = (1/4 - 1/n^2)^{-1}$',size=20);\n",
    "plt.ylabel('$\\lambda = (hc/E_r)q$  (nm)', size = 20);\n",
    "plt.xticks(size=12);\n",
    "plt.yticks(size=12);\n",
    "plt.xlim(4,8);\n",
    "plt.ylim(300,800);"
   ]
  },
  {
   "cell_type": "code",
   "execution_count": 32,
   "metadata": {
    "collapsed": true
   },
   "outputs": [],
   "source": [
    "def myfun(x,m):\n",
    "    ans = m*x  # this is y, \"the function to be fit\"\n",
    "    return ans"
   ]
  },
  {
   "cell_type": "code",
   "execution_count": 33,
   "metadata": {
    "collapsed": false
   },
   "outputs": [],
   "source": [
    "p0 = [1240/13.6]"
   ]
  },
  {
   "cell_type": "code",
   "execution_count": 34,
   "metadata": {
    "collapsed": false
   },
   "outputs": [
    {
     "name": "stdout",
     "output_type": "stream",
     "text": [
      "hc/E_r = 90.06 +/- 0.07 nm\n"
     ]
    }
   ],
   "source": [
    "xlots = np.linspace(-1,7.5,50)  # need lots of data points for smooth curve\n",
    "yfit = np.zeros((len(nH),xlots.size))\n",
    "\n",
    "plsq, pcov = curve_fit(myfun, q_array, HWave, p0, HWaveu)  # curve fit returns p and covariance matrix\n",
    "# these give the parameters and the uncertainties\n",
    "m = plsq[0]\n",
    "em = np.sqrt(pcov[0,0])\n",
    "yfit = myfun(xlots,plsq[0])  # use fit results for a, b, c\n",
    "    \n",
    "print('hc/E_r = %.2f +/- %.2f nm' % (plsq[0], np.sqrt(pcov[0,0])))"
   ]
  },
  {
   "cell_type": "code",
   "execution_count": 35,
   "metadata": {
    "collapsed": false
   },
   "outputs": [
    {
     "name": "stderr",
     "output_type": "stream",
     "text": [
      "C:\\Anaconda3\\lib\\site-packages\\matplotlib\\collections.py:590: FutureWarning: elementwise comparison failed; returning scalar instead, but in the future will perform elementwise comparison\n",
      "  if self._edgecolors == str('face'):\n"
     ]
    },
    {
     "data": {
      "image/png": "[encoded data removed]",
      "text/plain": [
       "<matplotlib.figure.Figure at 0xb0e7cf8>"
      ]
     },
     "metadata": {},
     "output_type": "display_data"
    }
   ],
   "source": [
    "plt.figure(figsize=(14,8))\n",
    "plt.errorbar(q_array,HWave,HWaveStd,linestyle = '',marker = 'o');\n",
    "plt.xlabel('q',size=20);\n",
    "plt.xlabel('$q = (1/4 - 1/n^2)^{-1}$',size=30);\n",
    "plt.ylabel('$\\lambda = (hc/E_r)q$  (nm)', size = 30);\n",
    "plt.text(4, 700, 'Slope = %.2f $\\pm$ %.2f nm' %(m,em), fontsize=30)\n",
    "plt.xticks(size=20);\n",
    "plt.yticks(size=20);\n",
    "plt.xlim(3.75,7.5);\n",
    "plt.ylim(250,800);\n",
    "plt.plot(xlots,yfit);\n",
    "plt.savefig('Rhydberg')"
   ]
  },
  {
   "cell_type": "markdown",
   "metadata": {},
   "source": [
    "### $E_r$ Result"
   ]
  },
  {
   "cell_type": "code",
   "execution_count": 36,
   "metadata": {
    "collapsed": false
   },
   "outputs": [
    {
     "data": {
      "text/plain": [
       "1240.2328854075643"
      ]
     },
     "execution_count": 36,
     "metadata": {},
     "output_type": "execute_result"
    }
   ],
   "source": [
    "hc_ev*1e9"
   ]
  },
  {
   "cell_type": "code",
   "execution_count": 37,
   "metadata": {
    "collapsed": false
   },
   "outputs": [
    {
     "data": {
      "text/plain": [
       "13.771009117973231"
      ]
     },
     "execution_count": 37,
     "metadata": {},
     "output_type": "execute_result"
    }
   ],
   "source": [
    "E_r = hc_ev/m\n",
    "E_r = E_r*1e9 #nm was used in the calculation above. Converting to eV\n",
    "E_r"
   ]
  },
  {
   "cell_type": "code",
   "execution_count": 38,
   "metadata": {
    "collapsed": false
   },
   "outputs": [
    {
     "data": {
      "text/plain": [
       "0.010108168898823043"
      ]
     },
     "execution_count": 38,
     "metadata": {},
     "output_type": "execute_result"
    }
   ],
   "source": [
    "dE_r = (hc_ev/(m**2))*em\n",
    "dE_r = dE_r*1e9 #nm was used in the calculation above. Converting to eV\n",
    "dE_r"
   ]
  },
  {
   "cell_type": "code",
   "execution_count": 39,
   "metadata": {
    "collapsed": false
   },
   "outputs": [
    {
     "name": "stdout",
     "output_type": "stream",
     "text": [
      "E_r = 13.77 +/- 0.01 eV\n"
     ]
    }
   ],
   "source": [
    "print('E_r = %.2f +/- %.2f eV' % (E_r, dE_r))"
   ]
  },
  {
   "cell_type": "markdown",
   "metadata": {},
   "source": [
    "### Mercury Analysis"
   ]
  },
  {
   "cell_type": "code",
   "execution_count": 40,
   "metadata": {
    "collapsed": true
   },
   "outputs": [],
   "source": [
    "def energy(wavelength):\n",
    "    return hc_ev/wavelength"
   ]
  },
  {
   "cell_type": "code",
   "execution_count": 41,
   "metadata": {
    "collapsed": false
   },
   "outputs": [
    {
     "data": {
      "text/plain": [
       "array([ 571.90297688,  570.2312162 ,  540.11467581,  487.18323363,\n",
       "        430.28018857])"
      ]
     },
     "execution_count": 41,
     "metadata": {},
     "output_type": "execute_result"
    }
   ],
   "source": [
    "HgWave"
   ]
  },
  {
   "cell_type": "code",
   "execution_count": 42,
   "metadata": {
    "collapsed": false
   },
   "outputs": [
    {
     "data": {
      "text/plain": [
       "array([ 2.16860715,  2.17496491,  2.29623993,  2.54572161,  2.88238436])"
      ]
     },
     "execution_count": 42,
     "metadata": {},
     "output_type": "execute_result"
    }
   ],
   "source": [
    "HgEnergies = np.array([energy(entry)*1e9 for entry in HgWave]) #In eV\n",
    "HgEnergies"
   ]
  },
  {
   "cell_type": "code",
   "execution_count": null,
   "metadata": {
    "collapsed": true
   },
   "outputs": [],
   "source": []
  }
 ],
 "metadata": {
  "anaconda-cloud": {},
  "kernelspec": {
   "display_name": "Python 3",
   "language": "python",
   "name": "python3"
  },
  "language_info": {
   "codemirror_mode": {
    "name": "ipython",
    "version": 3
   },
   "file_extension": ".py",
   "mimetype": "text/x-python",
   "name": "python",
   "nbconvert_exporter": "python",
   "pygments_lexer": "ipython3",
   "version": "3.5.1"
  }
 },
 "nbformat": 4,
 "nbformat_minor": 0
}
