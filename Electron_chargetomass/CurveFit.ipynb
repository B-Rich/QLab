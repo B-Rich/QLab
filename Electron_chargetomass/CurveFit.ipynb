{
 "cells": [
  {
   "cell_type": "markdown",
   "metadata": {},
   "source": [
    "# 340-Plotting and Fitting Data\n",
    "This is the same set of data and fitting function as in the \"Intro to Matlab\" document.\n",
    "\n",
    "## Data and error bars"
   ]
  },
  {
   "cell_type": "code",
   "execution_count": 1,
   "metadata": {
    "collapsed": false
   },
   "outputs": [
    {
     "name": "stdout",
     "output_type": "stream",
     "text": [
      "Populating the interactive namespace from numpy and matplotlib\n"
     ]
    }
   ],
   "source": [
    "%pylab inline"
   ]
  },
  {
   "cell_type": "code",
   "execution_count": 2,
   "metadata": {
    "collapsed": false,
    "scrolled": true
   },
   "outputs": [
    {
     "data": {
      "image/png": "[encoded data removed]",
      "text/plain": [
       "<matplotlib.figure.Figure at 0x1067f6f50>"
      ]
     },
     "metadata": {},
     "output_type": "display_data"
    }
   ],
   "source": [
    "# mathematical routines are expecting 'array'\n",
    "x = array([-10, -9, -8, -7, -6, -5, -4, -3, 0]);\n",
    "y = array([2.65, 2.10, 1.90, 1.40, 1.00, 0.80, 0.60, 0.30, 0.00]);\n",
    "ey = array([0.1, 0.1, 0.1, 0.1, 0.05, 0.05, 0.05, 0.05, 0.2]);\n",
    "# Plot the data with error bars\t\t\n",
    "errorbar(x,y,ey,linestyle = '',marker = 'o') # no connecting line, circle\n",
    "# Don’t forget axes labels\n",
    "xlabel('x (mm)')\n",
    "ylabel('y (mm)')\n",
    "axis([-12,0.5,-0.5,3])\n",
    "grid(True)"
   ]
  },
  {
   "cell_type": "markdown",
   "metadata": {},
   "source": [
    "## Fitting function to the data\n",
    "\n",
    "For physical reasons we expect our data is described by a circle.  \n",
    "The equation of a circle with radius $a$ centered at $(x,y)=(b,c)$ is given by\n",
    "$$(x-b)^2+(y-c)^2 = a^2$$\n",
    "Let's rewrite this in terms of $y$,\n",
    "$$y=-\\sqrt{a^2-(x-b)^2}+c$$\n",
    "We define the function and then want to find the best estimates for $a, b, c$ consistent with our data."
   ]
  },
  {
   "cell_type": "code",
   "execution_count": 3,
   "metadata": {
    "collapsed": true
   },
   "outputs": [],
   "source": [
    "def myfun(x,a,b,c):\n",
    "    ans = -sqrt(a**2-(x-b)**2)+c  # this is y, \"the function to be fit\"\n",
    "    return ans"
   ]
  },
  {
   "cell_type": "markdown",
   "metadata": {},
   "source": [
    "Here are the initial guesses for the parameters $a$, $b$, and $c$ to pass to the fitting function."
   ]
  },
  {
   "cell_type": "code",
   "execution_count": 4,
   "metadata": {
    "collapsed": false
   },
   "outputs": [],
   "source": [
    "p0 = [15, 0, 15]"
   ]
  },
  {
   "cell_type": "markdown",
   "metadata": {},
   "source": [
    "The 'curve_fit' function gets the best y by adjusting the parameters 'p'."
   ]
  },
  {
   "cell_type": "code",
   "execution_count": 5,
   "metadata": {
    "collapsed": false
   },
   "outputs": [
    {
     "name": "stdout",
     "output_type": "stream",
     "text": [
      "a = 26.754 +/- 5.227\n",
      "b = 1.767 +/- 1.550\n",
      "c = 26.666 +/- 5.019\n"
     ]
    }
   ],
   "source": [
    "from scipy.optimize import curve_fit  # import the curve fitting function\n",
    "plsq, pcov = curve_fit(myfun, x, y, p0, ey)  # curve fit returns p and covariance matrix\n",
    "# these give the parameters and the uncertainties\n",
    "print('a = %.3f +/- %.3f' % (plsq[0], sqrt(pcov[0,0])))\n",
    "print('b = %.3f +/- %.3f' % (plsq[1], sqrt(pcov[1,1])))\n",
    "print('c = %.3f +/- %.3f' % (plsq[2], sqrt(pcov[2,2])))"
   ]
  },
  {
   "cell_type": "markdown",
   "metadata": {},
   "source": [
    "Now we use the fitted parameters in our function to compare with the data."
   ]
  },
  {
   "cell_type": "code",
   "execution_count": 6,
   "metadata": {
    "collapsed": false
   },
   "outputs": [],
   "source": [
    "xlots = linspace(-11,0.5)  # need lots of data points for smooth curve\n",
    "yfit = myfun(xlots,plsq[0],plsq[1],plsq[2])  # use fit results for a, b, c"
   ]
  },
  {
   "cell_type": "code",
   "execution_count": 7,
   "metadata": {
    "collapsed": false
   },
   "outputs": [
    {
     "data": {
      "image/png": "[encoded data removed]",
      "text/plain": [
       "<matplotlib.figure.Figure at 0x1068be690>"
      ]
     },
     "metadata": {},
     "output_type": "display_data"
    }
   ],
   "source": [
    "errorbar(x,y,ey,linestyle = '',marker = 'o')\n",
    "xlabel('x (mm)')\n",
    "ylabel('y (mm)')\n",
    "plot(xlots,yfit)\n",
    "title('Least-squares fit to data')\n",
    "legend(['data','Fit'])\n",
    "axis([-12,0.5,-0.5,3])\n",
    "grid(True)"
   ]
  }
 ],
 "metadata": {
  "kernelspec": {
   "display_name": "Python 3",
   "language": "python",
   "name": "python3"
  },
  "language_info": {
   "codemirror_mode": {
    "name": "ipython",
    "version": 3
   },
   "file_extension": ".py",
   "mimetype": "text/x-python",
   "name": "python",
   "nbconvert_exporter": "python",
   "pygments_lexer": "ipython3",
   "version": "3.4.4"
  }
 },
 "nbformat": 4,
 "nbformat_minor": 0
}
