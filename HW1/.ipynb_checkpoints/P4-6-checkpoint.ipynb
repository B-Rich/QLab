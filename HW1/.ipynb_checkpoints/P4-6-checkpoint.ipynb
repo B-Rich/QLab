{
 "cells": [
  {
   "cell_type": "code",
   "execution_count": 2,
   "metadata": {
    "collapsed": true
   },
   "outputs": [],
   "source": [
    "import numpy as np"
   ]
  },
  {
   "cell_type": "markdown",
   "metadata": {},
   "source": [
    "### Load"
   ]
  },
  {
   "cell_type": "code",
   "execution_count": 4,
   "metadata": {
    "collapsed": false
   },
   "outputs": [
    {
     "data": {
      "text/plain": [
       "array([ 10.,  13.,   8.,  15.,   8.,  13.,  14.,  13.,  19.,   8.,  13.,\n",
       "        13.,   7.,   8.,   6.,   8.,  11.,  12.,   8.,   7.])"
      ]
     },
     "execution_count": 4,
     "metadata": {},
     "output_type": "execute_result"
    }
   ],
   "source": [
    "x = np.loadtxt('Problem4-6.txt')\n",
    "x"
   ]
  },
  {
   "cell_type": "markdown",
   "metadata": {},
   "source": [
    "### Mean"
   ]
  },
  {
   "cell_type": "code",
   "execution_count": 6,
   "metadata": {
    "collapsed": false
   },
   "outputs": [
    {
     "name": "stdout",
     "output_type": "stream",
     "text": [
      "xbest = 10.700\n"
     ]
    }
   ],
   "source": [
    "xbest = sum(x)/len(x)\n",
    "print(\"xbest = %.3f\" % xbest)"
   ]
  },
  {
   "cell_type": "markdown",
   "metadata": {},
   "source": [
    "### Deviation"
   ]
  },
  {
   "cell_type": "code",
   "execution_count": 35,
   "metadata": {
    "collapsed": false
   },
   "outputs": [
    {
     "data": {
      "text/plain": [
       "array([-0.7,  2.3, -2.7,  4.3, -2.7,  2.3,  3.3,  2.3,  8.3, -2.7,  2.3,\n",
       "        2.3, -3.7, -2.7, -4.7, -2.7,  0.3,  1.3, -2.7, -3.7])"
      ]
     },
     "execution_count": 35,
     "metadata": {},
     "output_type": "execute_result"
    }
   ],
   "source": [
    "deviation = np.array([(entry - xbest) for entry in x])\n",
    "deviation"
   ]
  },
  {
   "cell_type": "markdown",
   "metadata": {},
   "source": [
    "### Squared Deviation"
   ]
  },
  {
   "cell_type": "code",
   "execution_count": 8,
   "metadata": {
    "collapsed": false
   },
   "outputs": [
    {
     "data": {
      "text/plain": [
       "array([  0.49,   5.29,   7.29,  18.49,   7.29,   5.29,  10.89,   5.29,\n",
       "        68.89,   7.29,   5.29,   5.29,  13.69,   7.29,  22.09,   7.29,\n",
       "         0.09,   1.69,   7.29,  13.69])"
      ]
     },
     "execution_count": 8,
     "metadata": {},
     "output_type": "execute_result"
    }
   ],
   "source": [
    "deviation2 = np.array([(entry-xbest)**2 for entry in x])\n",
    "deviation2"
   ]
  },
  {
   "cell_type": "markdown",
   "metadata": {},
   "source": [
    "### Standard Deviation"
   ]
  },
  {
   "cell_type": "code",
   "execution_count": 9,
   "metadata": {
    "collapsed": false
   },
   "outputs": [
    {
     "name": "stdout",
     "output_type": "stream",
     "text": [
      "std = 3.404\n"
     ]
    }
   ],
   "source": [
    "std = np.sqrt((1/(len(x)-1))*np.sum(deviation2))\n",
    "print(\"std = %.3f\" % std)"
   ]
  },
  {
   "cell_type": "markdown",
   "metadata": {},
   "source": [
    "### Deviation of the Mean"
   ]
  },
  {
   "cell_type": "code",
   "execution_count": 10,
   "metadata": {
    "collapsed": false
   },
   "outputs": [
    {
     "name": "stdout",
     "output_type": "stream",
     "text": [
      "stdotm = 0.761\n"
     ]
    }
   ],
   "source": [
    "stdotm = std/np.sqrt(len(x))\n",
    "print(\"stdotm = %.3f\" % stdotm)"
   ]
  },
  {
   "cell_type": "markdown",
   "metadata": {},
   "source": [
    "### Built-in Results"
   ]
  },
  {
   "cell_type": "code",
   "execution_count": 11,
   "metadata": {
    "collapsed": false
   },
   "outputs": [
    {
     "name": "stdout",
     "output_type": "stream",
     "text": [
      "xmean = 10.700\n"
     ]
    }
   ],
   "source": [
    "xmean = np.mean(x)\n",
    "print(\"xmean = %.3f\" % xmean)"
   ]
  },
  {
   "cell_type": "code",
   "execution_count": 12,
   "metadata": {
    "collapsed": false
   },
   "outputs": [
    {
     "name": "stdout",
     "output_type": "stream",
     "text": [
      "xstd = 3.404\n"
     ]
    }
   ],
   "source": [
    "xstd = np.std(x,ddof=1)\n",
    "print(\"xstd = %.3f\" % xstd)"
   ]
  },
  {
   "cell_type": "markdown",
   "metadata": {},
   "source": [
    "Numpy's calculations agree with the results above."
   ]
  }
 ],
 "metadata": {
  "kernelspec": {
   "display_name": "Python 3",
   "language": "python",
   "name": "python3"
  },
  "language_info": {
   "codemirror_mode": {
    "name": "ipython",
    "version": 3
   },
   "file_extension": ".py",
   "mimetype": "text/x-python",
   "name": "python",
   "nbconvert_exporter": "python",
   "pygments_lexer": "ipython3",
   "version": "3.4.4"
  }
 },
 "nbformat": 4,
 "nbformat_minor": 0
}
