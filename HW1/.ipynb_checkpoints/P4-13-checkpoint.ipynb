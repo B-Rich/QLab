{
 "cells": [
  {
   "cell_type": "code",
   "execution_count": 2,
   "metadata": {
    "collapsed": true
   },
   "outputs": [],
   "source": [
    "import numpy as np"
   ]
  },
  {
   "cell_type": "markdown",
   "metadata": {},
   "source": [
    "### Load"
   ]
  },
  {
   "cell_type": "code",
   "execution_count": 3,
   "metadata": {
    "collapsed": false
   },
   "outputs": [
    {
     "data": {
      "text/plain": [
       "array([ 8.16,  8.14,  8.12,  8.16,  8.18,  8.1 ,  8.18,  8.18,  8.18,\n",
       "        8.24,  8.16,  8.14,  8.17,  8.18,  8.21,  8.12,  8.12,  8.17,\n",
       "        8.06,  8.1 ,  8.12,  8.1 ,  8.14,  8.09,  8.16,  8.21,  8.14,\n",
       "        8.16,  8.13])"
      ]
     },
     "execution_count": 3,
     "metadata": {},
     "output_type": "execute_result"
    }
   ],
   "source": [
    "x = np.loadtxt('Problem4-13.txt')\n",
    "x"
   ]
  },
  {
   "cell_type": "markdown",
   "metadata": {},
   "source": [
    "### Mean"
   ]
  },
  {
   "cell_type": "code",
   "execution_count": 4,
   "metadata": {
    "collapsed": false
   },
   "outputs": [
    {
     "name": "stdout",
     "output_type": "stream",
     "text": [
      "xbest = 8.149\n"
     ]
    }
   ],
   "source": [
    "xbest = sum(x)/len(x)\n",
    "print(\"xbest = %.3f\" % xbest)"
   ]
  },
  {
   "cell_type": "markdown",
   "metadata": {},
   "source": [
    "### Deviation"
   ]
  },
  {
   "cell_type": "code",
   "execution_count": 5,
   "metadata": {
    "collapsed": false
   },
   "outputs": [
    {
     "data": {
      "text/plain": [
       "array([ 0.01103448, -0.00896552, -0.02896552,  0.01103448,  0.03103448,\n",
       "       -0.04896552,  0.03103448,  0.03103448,  0.03103448,  0.09103448,\n",
       "        0.01103448, -0.00896552,  0.02103448,  0.03103448,  0.06103448,\n",
       "       -0.02896552, -0.02896552,  0.02103448, -0.08896552, -0.04896552,\n",
       "       -0.02896552, -0.04896552, -0.00896552, -0.05896552,  0.01103448,\n",
       "        0.06103448, -0.00896552,  0.01103448, -0.01896552])"
      ]
     },
     "execution_count": 5,
     "metadata": {},
     "output_type": "execute_result"
    }
   ],
   "source": [
    "deviation = np.array([(entry - xbest) for entry in x])\n",
    "deviation"
   ]
  },
  {
   "cell_type": "markdown",
   "metadata": {},
   "source": [
    "### Squared Deviation"
   ]
  },
  {
   "cell_type": "code",
   "execution_count": 6,
   "metadata": {
    "collapsed": false
   },
   "outputs": [
    {
     "data": {
      "text/plain": [
       "array([  1.21759810e-04,   8.03804994e-05,   8.39001189e-04,\n",
       "         1.21759810e-04,   9.63139120e-04,   2.39762188e-03,\n",
       "         9.63139120e-04,   9.63139120e-04,   9.63139120e-04,\n",
       "         8.28727705e-03,   1.21759810e-04,   8.03804994e-05,\n",
       "         4.42449465e-04,   9.63139120e-04,   3.72520809e-03,\n",
       "         8.39001189e-04,   8.39001189e-04,   4.42449465e-04,\n",
       "         7.91486326e-03,   2.39762188e-03,   8.39001189e-04,\n",
       "         2.39762188e-03,   8.03804994e-05,   3.47693222e-03,\n",
       "         1.21759810e-04,   3.72520809e-03,   8.03804994e-05,\n",
       "         1.21759810e-04,   3.59690844e-04])"
      ]
     },
     "execution_count": 6,
     "metadata": {},
     "output_type": "execute_result"
    }
   ],
   "source": [
    "deviation2 = np.array([(entry-xbest)**2 for entry in x])\n",
    "deviation2"
   ]
  },
  {
   "cell_type": "markdown",
   "metadata": {},
   "source": [
    "### Standard Deviation"
   ]
  },
  {
   "cell_type": "code",
   "execution_count": 7,
   "metadata": {
    "collapsed": false
   },
   "outputs": [
    {
     "name": "stdout",
     "output_type": "stream",
     "text": [
      "std = 0.040\n"
     ]
    }
   ],
   "source": [
    "std = np.sqrt((1/(len(x)-1))*np.sum(deviation2))\n",
    "print(\"std = %.3f\" % std)"
   ]
  },
  {
   "cell_type": "markdown",
   "metadata": {},
   "source": [
    "### Deviation of the Mean"
   ]
  },
  {
   "cell_type": "code",
   "execution_count": 8,
   "metadata": {
    "collapsed": false
   },
   "outputs": [
    {
     "name": "stdout",
     "output_type": "stream",
     "text": [
      "stdotm = 0.007\n"
     ]
    }
   ],
   "source": [
    "stdotm = std/np.sqrt(len(x))\n",
    "print(\"stdotm = %.3f\" % stdotm)"
   ]
  },
  {
   "cell_type": "markdown",
   "metadata": {},
   "source": [
    "### Built-in Results"
   ]
  },
  {
   "cell_type": "code",
   "execution_count": 9,
   "metadata": {
    "collapsed": false
   },
   "outputs": [
    {
     "name": "stdout",
     "output_type": "stream",
     "text": [
      "xmean = 8.149\n"
     ]
    }
   ],
   "source": [
    "xmean = np.mean(x)\n",
    "print(\"xmean = %.3f\" % xmean)"
   ]
  },
  {
   "cell_type": "code",
   "execution_count": 10,
   "metadata": {
    "collapsed": false
   },
   "outputs": [
    {
     "name": "stdout",
     "output_type": "stream",
     "text": [
      "xstd = 0.040\n"
     ]
    }
   ],
   "source": [
    "xstd = np.std(x,ddof=1)\n",
    "print(\"xstd = %.3f\" % xstd)"
   ]
  },
  {
   "cell_type": "markdown",
   "metadata": {},
   "source": [
    "Numpy's calculations agree with the results above."
   ]
  }
 ],
 "metadata": {
  "kernelspec": {
   "display_name": "Python 3",
   "language": "python",
   "name": "python3"
  },
  "language_info": {
   "codemirror_mode": {
    "name": "ipython",
    "version": 3
   },
   "file_extension": ".py",
   "mimetype": "text/x-python",
   "name": "python",
   "nbconvert_exporter": "python",
   "pygments_lexer": "ipython3",
   "version": "3.4.4"
  }
 },
 "nbformat": 4,
 "nbformat_minor": 0
}
