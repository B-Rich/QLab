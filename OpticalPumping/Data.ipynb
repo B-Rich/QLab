{
 "cells": [
  {
   "cell_type": "code",
   "execution_count": null,
   "metadata": {
    "collapsed": true
   },
   "outputs": [],
   "source": [
    "import pandas as pd\n",
    "import numpy as np\n",
    "import matplotlib.pyplot as plt\n",
    "from scipy.optimize import curve_fit  # import the curve fitting function\n",
    "%matplotlib inline"
   ]
  },
  {
   "cell_type": "code",
   "execution_count": null,
   "metadata": {
    "collapsed": true
   },
   "outputs": [],
   "source": [
    "mub = 927.4009*1e-26 #Bohr magneton [J/T]\n",
    "h = 6.62607*1e-34 #Planck's constant [Js]\n",
    "muo = 4*np.pi*1e-7\n",
    "q = 1.60217*1e-19 \n",
    "\n",
    "R = 16.3*1e-2#Coil radius [m]\n",
    "N = 11 #Coil turns"
   ]
  },
  {
   "cell_type": "markdown",
   "metadata": {},
   "source": [
    "# 1) RF Depumping"
   ]
  },
  {
   "cell_type": "code",
   "execution_count": null,
   "metadata": {
    "collapsed": true
   },
   "outputs": [],
   "source": [
    "Rf = np.array([98.335, 48.815, 64.904, 75.932, 87.133, 112.03, 123.30, 137.240, 150.148, 159.998, 169.021])*1e3 #Hz\n",
    "V_Rb87 = np.array([381.1, 268.6, 303.9, 329.2, 355.0, 412, 438, 471, 501, 523, 544])*1e-3 #Resonant dip voltage [V]\n",
    "V_Rb85 = np.array([494, 326.4, 379.0, 416, 455, 542, 581, 629, 674, 709, 740])*1e-3 #Resonant dip voltage [V]\n",
    "dV = 0.4*1e-3 #0.4 mV uncertainty\n",
    "\n",
    "V_Rb87 = V_Rb87 - 163.4*1e-3 #Offset Earth B\n",
    "V_Rb85 = V_Rb85 - 163.4*1e-3 #Offset Earth B\n",
    "\n",
    "\n",
    "\n",
    "Rf = np.sort(Rf)\n",
    "V_Rb87 = np.sort(V_Rb87)\n",
    "V_Rb85 = np.sort(V_Rb85)\n",
    "\n",
    "I_Rb87 = V_Rb87/1; #1 Ohm resistor to coils\n",
    "I_Rb85 = V_Rb85/1; #1 Ohm resistor to coils\n",
    "\n",
    "E_Rf = h*Rf #RF photon energy"
   ]
  },
  {
   "cell_type": "code",
   "execution_count": null,
   "metadata": {
    "collapsed": true
   },
   "outputs": [],
   "source": []
  },
  {
   "cell_type": "code",
   "execution_count": null,
   "metadata": {
    "collapsed": true
   },
   "outputs": [],
   "source": [
    "def BField(I):\n",
    "    return 16*muo*N*I/(np.sqrt(125)*2*R)"
   ]
  },
  {
   "cell_type": "code",
   "execution_count": null,
   "metadata": {
    "collapsed": true
   },
   "outputs": [],
   "source": [
    "B_Rb87 = BField(I_Rb87)\n",
    "B_Rb85 = BField(I_Rb85)"
   ]
  },
  {
   "cell_type": "markdown",
   "metadata": {},
   "source": [
    "### $^{87}$Rb"
   ]
  },
  {
   "cell_type": "code",
   "execution_count": null,
   "metadata": {
    "collapsed": false
   },
   "outputs": [],
   "source": [
    "plt.figure(figsize=(5,3));\n",
    "plt.scatter(mub*B_Rb87,E_Rf);\n",
    "\n",
    "plt.ylabel('RF Energy',fontsize=20);\n",
    "plt.xlabel('$\\mu_BB$',fontsize = 20);\n",
    "plt.xticks(size = 13);\n",
    "plt.yticks(size = 13);\n",
    "plt.xlim(0.5e-28,2.5e-28);\n",
    "plt.ylim(3e-29,1.2e-28);\n",
    "plt.ylim(0,1.2e-28);"
   ]
  },
  {
   "cell_type": "markdown",
   "metadata": {},
   "source": [
    "So when B sweep is zero, "
   ]
  },
  {
   "cell_type": "code",
   "execution_count": null,
   "metadata": {
    "collapsed": false
   },
   "outputs": [],
   "source": [
    "def myfun(mubB,gf):\n",
    "    ans =  gf*mubB#DeltaE for Zeeman\n",
    "    return ans\n",
    "\n",
    "p0 = [0.5] #guess\n",
    "\n",
    "xspace = np.linspace(0.5e-28,2.5e-28) \n",
    "\n",
    "plsq, pcov = curve_fit(myfun, mub*B_Rb87, E_Rf, p0)  # curve fit returns p and covariance matrix\n",
    "# these give the parameters and the uncertainties\n",
    "gf87 = plsq[0]\n",
    "egf87 = np.sqrt(pcov[0,0])\n",
    "\n",
    "\n",
    "yfit = myfun(xspace,plsq[0])  # use fit results for a, b, c\n",
    "\n",
    "plt.figure(figsize=(10,6));\n",
    "\n",
    "\n",
    "plt.scatter(mub*B_Rb87,E_Rf, marker='.',label='Data');\n",
    "plt.plot(xspace,yfit,label='Fit')\n",
    "\n",
    "plt.legend(loc='lower right')\n",
    "plt.xlabel('$\\mu_BB$ $[J]$',fontsize=20);\n",
    "plt.ylabel('RF Energy $[J]$',fontsize = 20);\n",
    "plt.text(0.6e-28,1e-28,'$g_f = %.4f \\pm %.4f$' % (plsq[0], np.sqrt(pcov[0,0])),size=20)\n",
    "plt.xticks(size = 13);\n",
    "plt.errorbar(mub*B_Rb87,E_Rf,xerr = mub*16*muo*N*dV/(np.sqrt(125)*2*R),fmt='none');\n",
    "plt.xlim(0.5e-28,2.5e-28);\n",
    "plt.ylim(3e-29,1.2e-28);\n",
    "plt.yticks(size = 13);\n",
    "plt.savefig('Lande87.png')"
   ]
  },
  {
   "cell_type": "markdown",
   "metadata": {},
   "source": [
    "### $^{85}$Rb"
   ]
  },
  {
   "cell_type": "code",
   "execution_count": null,
   "metadata": {
    "collapsed": false
   },
   "outputs": [],
   "source": [
    "plt.figure(figsize=(5,3));\n",
    "plt.scatter(mub*B_Rb85,E_Rf);\n",
    "\n",
    "plt.ylabel('RF Energy [$J$]',fontsize=20);\n",
    "plt.xlabel('$\\mu_BB$ [$J$]',fontsize = 20);\n",
    "plt.xticks(size = 13);\n",
    "plt.xlim(0.8e-28,3.5e-28);\n",
    "plt.ylim(2e-29,1.22e-28);\n",
    "plt.yticks(size = 13);"
   ]
  },
  {
   "cell_type": "code",
   "execution_count": null,
   "metadata": {
    "collapsed": false
   },
   "outputs": [],
   "source": [
    "def myfun(mubB,gf):\n",
    "    ans =  gf*mubB#DeltaE for Zeeman\n",
    "    return ans\n",
    "\n",
    "p0 = [0.5] #guess\n",
    "\n",
    "xspace = np.linspace(0.8e-28,3.5e-28)\n",
    "\n",
    "plsq, pcov = curve_fit(myfun, mub*B_Rb85, E_Rf, p0)  # curve fit returns p and covariance matrix\n",
    "# these give the parameters and the uncertainties\n",
    "gf85 = plsq[0]\n",
    "egf85 = np.sqrt(pcov[0,0])\n",
    "\n",
    "\n",
    "yfit = myfun(xspace,plsq[0])  # use fit results for a, b, c\n",
    "\n",
    "plt.figure(figsize=(10,6));\n",
    "\n",
    "plt.scatter(mub*B_Rb85,E_Rf,marker='.',label='Data');\n",
    "plt.plot(xspace,yfit,label='Fit')\n",
    "\n",
    "plt.legend(loc='lower right')\n",
    "plt.xlabel('$\\mu_BB$ $[J]$',fontsize=20);\n",
    "plt.ylabel('RF Energy $[J]$',fontsize = 20);\n",
    "plt.text(0.9e-28,1e-28,'$g_f = %.4f \\pm %.4f$' % (plsq[0], np.sqrt(pcov[0,0])),size=20)\n",
    "plt.xticks(size = 13);\n",
    "plt.xlim(0.8e-28,3.5e-28);\n",
    "plt.errorbar(mub*B_Rb85,E_Rf,xerr = mub*16*muo*N*dV/(np.sqrt(125)*2*R),fmt='none');\n",
    "plt.ylim(2e-29,1.22e-28);\n",
    "plt.yticks(size = 13);\n",
    "plt.savefig('Lande85.png')"
   ]
  },
  {
   "cell_type": "markdown",
   "metadata": {},
   "source": [
    "# 2) Dip Angle"
   ]
  },
  {
   "cell_type": "code",
   "execution_count": null,
   "metadata": {
    "collapsed": false
   },
   "outputs": [],
   "source": [
    "V_Vertical = 0.3729 #Volts, cancel Earth's vertical field.\n",
    "I_Vertical = V_Vertical/1 #1 Ohm\n",
    "B_Vertical = BField(I_Vertical)\n",
    "B_Vertical"
   ]
  },
  {
   "cell_type": "code",
   "execution_count": null,
   "metadata": {
    "collapsed": false
   },
   "outputs": [],
   "source": [
    "V_Horizontal = 0.1634 #Volts, cancel Earth's vertical field.\n",
    "I_Horizontal = V_Horizontal/1 #1 Ohm\n",
    "B_Horizontal = BField(I_Horizontal)\n",
    "B_Horizontal"
   ]
  },
  {
   "cell_type": "code",
   "execution_count": null,
   "metadata": {
    "collapsed": false
   },
   "outputs": [],
   "source": [
    "BMag = np.sqrt(B_Horizontal**2 + B_Vertical**2)\n",
    "BMag"
   ]
  },
  {
   "cell_type": "code",
   "execution_count": null,
   "metadata": {
    "collapsed": false
   },
   "outputs": [],
   "source": [
    "theta = np.arctan(B_Vertical/B_Horizontal)\n",
    "theta*180/np.pi #Dip Angle in degrees of earth magnetic field"
   ]
  },
  {
   "cell_type": "markdown",
   "metadata": {},
   "source": [
    "Measured inside 72.5 degrees. Lobby 83 degrees."
   ]
  },
  {
   "cell_type": "markdown",
   "metadata": {},
   "source": [
    "# 3) Optical Pumping Time"
   ]
  },
  {
   "cell_type": "markdown",
   "metadata": {},
   "source": [
    "RF = 156.806 Khz"
   ]
  },
  {
   "cell_type": "code",
   "execution_count": null,
   "metadata": {
    "collapsed": false
   },
   "outputs": [],
   "source": [
    "Scope = np.loadtxt('PumpingTime.csv',delimiter=',')\n",
    "Time = Scope[:,0]\n",
    "V1 = Scope[:,1]\n",
    "V2 = Scope[:,2]\n",
    "\n",
    "offset = abs(V2[480])"
   ]
  },
  {
   "cell_type": "code",
   "execution_count": null,
   "metadata": {
    "collapsed": false
   },
   "outputs": [],
   "source": [
    "plt.figure(figsize=(10,6));\n",
    "plt.scatter(Time,V1 + offset,marker='.',color='red',label = 'RF Amplitude');\n",
    "plt.scatter(Time,V2 + offset,marker='.',color='blue',label = 'Detector');\n",
    "#plt.scatter(Time[480:1375],V2[480:1375] + offset,marker='.',color='black',label = 'Detector');\n",
    "plt.legend(loc='best')\n",
    "\n",
    "plt.xlabel('Time',fontsize=20);\n",
    "plt.ylabel('Voltage',fontsize = 20);\n",
    "plt.xticks(size = 13);\n",
    "plt.xlim(-2.58e-2,8.21e-2);\n",
    "plt.ylim(-1.5+offset,1.5+offset);\n",
    "plt.yticks(size = 13);"
   ]
  },
  {
   "cell_type": "code",
   "execution_count": null,
   "metadata": {
    "collapsed": false
   },
   "outputs": [],
   "source": [
    "def myfun(t,Vo,tau):\n",
    "    ans =  Vo*(1-np.exp(-t/tau))#Charging Capacitor\n",
    "    return ans\n",
    "\n",
    "p0 = [0.3, 0.01] #guess\n",
    "\n",
    "xspace = np.linspace(Time[480],Time[1375])\n",
    "\n",
    "plsq, pcov = curve_fit(myfun, Time[480:1375], V2[480:1375] + offset, p0)  # curve fit returns p and covariance matrix\n",
    "# these give the parameters and the uncertainties\n",
    "Vo = plsq[0]\n",
    "eVo = np.sqrt(pcov[0,0])\n",
    "\n",
    "tau = plsq[1]\n",
    "etau = np.sqrt(pcov[1,1])\n",
    "\n",
    "\n",
    "yfit = myfun(xspace,plsq[0],plsq[1])  # use fit results for a, b, c\n",
    "\n",
    "plt.figure(figsize=(10,6));\n",
    "\n",
    "#plt.scatter(Time[480:1375],V2[480:1375]+offset,marker='.',color='black',label = 'Detector');\n",
    "plt.plot(xspace,yfit,label='Fit',color='black',marker='o')\n",
    "\n",
    "\n",
    "plt.scatter(Time,V1 + offset,marker='.',color='red',label = 'RF Amplitude');\n",
    "plt.scatter(Time,V2 + offset,marker='.',color='blue',label = 'Detector');\n",
    "#plt.scatter(Time[480:1375],V2[480:1375] + offset,marker='.',color='black',label = 'Detector');\n",
    "plt.legend(loc='best')\n",
    "\n",
    "plt.xlabel('Time',fontsize=20);\n",
    "plt.ylabel('Voltage',fontsize = 20);\n",
    "plt.xticks(size = 13);\n",
    "plt.xlim(-2.58e-2,8.21e-2);\n",
    "plt.ylim(-1.5+offset,1.5+offset);\n",
    "plt.yticks(size = 13);\n",
    "\n",
    "\n",
    "\n",
    "plt.text(-0.02,1,'$V_o = %.4f \\pm %.4f$' % (plsq[0], np.sqrt(pcov[0,0])),size=13)\n",
    "plt.text(-0.02,0.87,'$tau = %.5f \\pm %.5f$' % (plsq[1], np.sqrt(pcov[1,1])),size=13)\n",
    "plt.savefig('TimeConstant.png')"
   ]
  },
  {
   "cell_type": "markdown",
   "metadata": {},
   "source": [
    "# 4) Rapid Field Switching"
   ]
  },
  {
   "cell_type": "markdown",
   "metadata": {},
   "source": [
    "### $^{87}$Rb"
   ]
  },
  {
   "cell_type": "code",
   "execution_count": null,
   "metadata": {
    "collapsed": true
   },
   "outputs": [],
   "source": [
    "T87 = np.array([3.4, 2.4, 2.2, 1.9, 4.5, 2.8])*1e-3 #Period in seconds\n",
    "RFAmp87 = np.array([.602, .840, .920, 1.01, .480, .720]) #Read from oscope Volts\n",
    "BRF87 = RFAmp87/50"
   ]
  },
  {
   "cell_type": "code",
   "execution_count": null,
   "metadata": {
    "collapsed": false
   },
   "outputs": [],
   "source": [
    "plt.figure(figsize=(5,3));\n",
    "plt.scatter(BRF87,1/T87);\n",
    "\n",
    "plt.xlabel('$B_{RF}$',fontsize=20);\n",
    "plt.ylabel('$1/T$   $s^{-1}$',fontsize = 20);\n",
    "plt.xticks(size = 13);\n",
    "#plt.xlim(2.5e-4,7e-4);\n",
    "plt.xlim(0.008,0.023);\n",
    "plt.yticks(size = 13);\n",
    "#plt.savefig('Sample')"
   ]
  },
  {
   "cell_type": "code",
   "execution_count": null,
   "metadata": {
    "collapsed": false
   },
   "outputs": [],
   "source": [
    "def myfun(B_RF,k):\n",
    "    ans =  B_RF*k#DeltaE for Zeeman\n",
    "    return ans\n",
    "\n",
    "p0 = [500] #guess\n",
    "\n",
    "xspace87 = np.linspace(0.008,0.023)\n",
    "\n",
    "plsq, pcov = curve_fit(myfun, BRF87, 1/T87, p0)  # curve fit returns p and covariance matrix\n",
    "# these give the parameters and the uncertainties\n",
    "k87 = plsq[0]\n",
    "ek87 = np.sqrt(pcov[0,0])\n",
    "\n",
    "\n",
    "yfit87 = myfun(xspace87,plsq[0])  # use fit results for a, b, c\n",
    "\n",
    "plt.figure(figsize=(10,6));\n",
    "\n",
    "plt.scatter(BRF87,1/T87,label = 'RB87 Data');\n",
    "plt.plot(xspace87,yfit87,label='Fit')\n",
    "\n",
    "plt.legend(loc='lower right')\n",
    "plt.xlabel('$B_{RF}$',fontsize=20);\n",
    "plt.ylabel('$1/T$   $s^{-1}$',fontsize = 20);\n",
    "plt.text(0.009,500,'$Slope = %.00f \\pm %.00f$' % (plsq[0], np.sqrt(pcov[0,0])),size=13)\n",
    "plt.xticks(size = 13);\n",
    "plt.xlim(0.008,0.023);\n",
    "#plt.ylim(2e-29,1.22e-28);\n",
    "#plt.errorbar(mub*B_Rb85,E_Rf,xerr = mub*16*muo*N*dV/(np.sqrt(125)*2*R),fmt='none');\n",
    "\n",
    "plt.yticks(size = 13);\n",
    "#plt.savefig('Lande85.png')"
   ]
  },
  {
   "cell_type": "markdown",
   "metadata": {},
   "source": [
    "### $^{85}$Rb"
   ]
  },
  {
   "cell_type": "code",
   "execution_count": null,
   "metadata": {
    "collapsed": true
   },
   "outputs": [],
   "source": [
    "T85 = np.array([4.3, 3.5, 3.3, 2.8, 2.7])*1e-3 #Period in seconds\n",
    "RFAmp85 = np.array([.720, .820, .920, 1.01, 1.11]) #Read from oscope Volts\n",
    "BRF85 = RFAmp85/50"
   ]
  },
  {
   "cell_type": "code",
   "execution_count": null,
   "metadata": {
    "collapsed": false
   },
   "outputs": [],
   "source": [
    "plt.figure(figsize=(5,3));\n",
    "plt.scatter(BRF85,1/T85);\n",
    "\n",
    "plt.xlabel('$B_{RF}$',fontsize=20);\n",
    "plt.ylabel('$1/T$   $s^{-1}$',fontsize = 20);\n",
    "plt.xticks(size = 13);\n",
    "#plt.xlim(2.5e-4,7e-4);\n",
    "plt.xlim(0.013,0.023);\n",
    "plt.yticks(size = 13);\n",
    "#plt.savefig('Sample')"
   ]
  },
  {
   "cell_type": "code",
   "execution_count": null,
   "metadata": {
    "collapsed": false
   },
   "outputs": [],
   "source": [
    "def myfun(B_RF,k):\n",
    "    ans =  B_RF*k#DeltaE for Zeeman\n",
    "    return ans\n",
    "\n",
    "p0 = [500] #guess\n",
    "\n",
    "xspace85 = np.linspace(0.013,0.023)\n",
    "\n",
    "plsq, pcov = curve_fit(myfun, BRF85, 1/T85, p0)  # curve fit returns p and covariance matrix\n",
    "# these give the parameters and the uncertainties\n",
    "k85 = plsq[0]\n",
    "ek85 = np.sqrt(pcov[0,0])\n",
    "\n",
    "\n",
    "yfit85 = myfun(xspace85,plsq[0])  # use fit results for a, b, c\n",
    "\n",
    "plt.figure(figsize=(10,6));\n",
    "\n",
    "plt.scatter(BRF85,1/T85,label = 'RB85 Data');\n",
    "plt.plot(xspace85,yfit85,label='Fit')\n",
    "\n",
    "plt.legend(loc='lower right')\n",
    "plt.xlabel('$B_{RF}$',fontsize=20);\n",
    "plt.ylabel('$1/T$   $s^{-1}$',fontsize = 20);\n",
    "plt.text(0.0135,350,'$Slope = %.00f \\pm %.00f$' % (plsq[0], np.sqrt(pcov[0,0])),size=13)\n",
    "plt.xticks(size = 13);\n",
    "plt.xlim(0.013,0.023);\n",
    "#plt.ylim(2e-29,1.22e-28);\n",
    "#plt.errorbar(mub*B_Rb85,E_Rf,xerr = mub*16*muo*N*dV/(np.sqrt(125)*2*R),fmt='none');\n",
    "\n",
    "plt.yticks(size = 13);\n",
    "#plt.savefig('Lande85.png')"
   ]
  },
  {
   "cell_type": "markdown",
   "metadata": {},
   "source": [
    "Pretty large uncertainty here, rushed measurements"
   ]
  },
  {
   "cell_type": "markdown",
   "metadata": {},
   "source": [
    "###  Together"
   ]
  },
  {
   "cell_type": "code",
   "execution_count": null,
   "metadata": {
    "collapsed": false
   },
   "outputs": [],
   "source": [
    "plt.figure(figsize=(10,6));\n",
    "plt.scatter(BRF85,1/T85,color='blue',label='RB85 Data');\n",
    "plt.scatter(BRF87,1/T87,color='red',label='RB87 Data');\n",
    "\n",
    "plt.plot(xspace87,yfit87,label='RB87 Fit',color='red')\n",
    "plt.plot(xspace85,yfit85,label='RB85 Fit',color='blue')\n",
    "\n",
    "plt.legend(loc='best')\n",
    "\n",
    "plt.text(0.0085,425,'RB87 Slope = $25000 \\pm 300$',size=13)\n",
    "plt.text(0.0085,400,'RB85 Slope = $16900 \\pm 300$',size=13)\n",
    "\n",
    "\n",
    "plt.xlabel('$B_{RF}$',fontsize=20);\n",
    "plt.ylabel('$1/T$   $s^{-1}$',fontsize = 20);\n",
    "plt.xticks(size = 13);\n",
    "plt.xlim(0.008,0.023);\n",
    "plt.yticks(size = 13);\n",
    "plt.savefig('SlopeCompare')"
   ]
  },
  {
   "cell_type": "code",
   "execution_count": null,
   "metadata": {
    "collapsed": false
   },
   "outputs": [],
   "source": [
    "k87/k85"
   ]
  },
  {
   "cell_type": "code",
   "execution_count": null,
   "metadata": {
    "collapsed": false
   },
   "outputs": [],
   "source": [
    "0.5/0.3"
   ]
  },
  {
   "cell_type": "code",
   "execution_count": null,
   "metadata": {
    "collapsed": false
   },
   "outputs": [],
   "source": [
    "gf87/gf85"
   ]
  }
 ],
 "metadata": {
  "anaconda-cloud": {},
  "kernelspec": {
   "display_name": "Python [default]",
   "language": "python",
   "name": "python3"
  },
  "language_info": {
   "codemirror_mode": {
    "name": "ipython",
    "version": 3
   },
   "file_extension": ".py",
   "mimetype": "text/x-python",
   "name": "python",
   "nbconvert_exporter": "python",
   "pygments_lexer": "ipython3",
   "version": "3.5.2"
  }
 },
 "nbformat": 4,
 "nbformat_minor": 1
}
