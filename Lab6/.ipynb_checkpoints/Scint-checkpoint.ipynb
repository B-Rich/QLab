{
 "cells": [
  {
   "cell_type": "code",
   "execution_count": 95,
   "metadata": {
    "collapsed": true
   },
   "outputs": [],
   "source": [
    "import pandas as pd\n",
    "import numpy as np\n",
    "import matplotlib.pyplot as plt\n",
    "from scipy.optimize import curve_fit  # import the curve fitting function\n",
    "%matplotlib inline"
   ]
  },
  {
   "cell_type": "code",
   "execution_count": 96,
   "metadata": {
    "collapsed": true
   },
   "outputs": [],
   "source": [
    "CS137Peaks = np.array([416.77])\n",
    "CS137Energy = np.array([662]) #KeV"
   ]
  },
  {
   "cell_type": "code",
   "execution_count": 97,
   "metadata": {
    "collapsed": true
   },
   "outputs": [],
   "source": [
    "BA133Peaks = np.array([224.5,189.14,55.23])\n",
    "BA133Energy = np.array([356,303,81])"
   ]
  },
  {
   "cell_type": "code",
   "execution_count": 98,
   "metadata": {
    "collapsed": true
   },
   "outputs": [],
   "source": [
    "CO60Peaks = np.array([809.59,714.21])\n",
    "CO60Energy = np.array([1333,1173])"
   ]
  },
  {
   "cell_type": "code",
   "execution_count": 99,
   "metadata": {
    "collapsed": true
   },
   "outputs": [],
   "source": [
    "Peaks = np.hstack([CS137Peaks,BA133Peaks,CO60Peaks])"
   ]
  },
  {
   "cell_type": "code",
   "execution_count": 100,
   "metadata": {
    "collapsed": false
   },
   "outputs": [
    {
     "data": {
      "text/plain": [
       "array([ 416.77,  224.5 ,  189.14,   55.23,  809.59,  714.21])"
      ]
     },
     "execution_count": 100,
     "metadata": {},
     "output_type": "execute_result"
    }
   ],
   "source": [
    "Peaks"
   ]
  },
  {
   "cell_type": "code",
   "execution_count": 101,
   "metadata": {
    "collapsed": true
   },
   "outputs": [],
   "source": [
    "Energy = np.hstack([CS137Energy,BA133Energy,CO60Energy])"
   ]
  },
  {
   "cell_type": "code",
   "execution_count": 102,
   "metadata": {
    "collapsed": false
   },
   "outputs": [
    {
     "data": {
      "text/plain": [
       "array([ 662,  356,  303,   81, 1333, 1173])"
      ]
     },
     "execution_count": 102,
     "metadata": {},
     "output_type": "execute_result"
    }
   ],
   "source": [
    "Energy"
   ]
  },
  {
   "cell_type": "code",
   "execution_count": 103,
   "metadata": {
    "collapsed": true
   },
   "outputs": [],
   "source": [
    "UnknownPeaks = np.array([786.45,323.39,123.85])"
   ]
  },
  {
   "cell_type": "code",
   "execution_count": 104,
   "metadata": {
    "collapsed": false
   },
   "outputs": [
    {
     "data": {
      "text/plain": [
       "(array([    0.,   200.,   400.,   600.,   800.,  1000.,  1200.,  1400.]),\n",
       " <a list of 8 Text yticklabel objects>)"
      ]
     },
     "execution_count": 104,
     "metadata": {},
     "output_type": "execute_result"
    },
    {
     "name": "stderr",
     "output_type": "stream",
     "text": [
      "C:\\Anaconda3\\lib\\site-packages\\matplotlib\\collections.py:590: FutureWarning: elementwise comparison failed; returning scalar instead, but in the future will perform elementwise comparison\n",
      "  if self._edgecolors == str('face'):\n"
     ]
    },
    {
     "data": {
      "image/png": "[encoded data removed]",
      "text/plain": [
       "<matplotlib.figure.Figure at 0xbcf72e8>"
      ]
     },
     "metadata": {},
     "output_type": "display_data"
    }
   ],
   "source": [
    "plt.figure(figsize=(10,6));\n",
    "plt.scatter(Peaks,Energy);\n",
    "\n",
    "plt.xlabel('MCA Number',fontsize=20);\n",
    "plt.ylabel('Energy (keV)',fontsize = 20);\n",
    "plt.xticks(size = 13);\n",
    "plt.yticks(size = 13);\n",
    "#plt.savefig('Sample')"
   ]
  },
  {
   "cell_type": "code",
   "execution_count": 105,
   "metadata": {
    "collapsed": true
   },
   "outputs": [],
   "source": [
    "def myfun(N,a,b,c):\n",
    "    ans = a + b*N + c*N**2  # this is y, \"the function to be fit\"\n",
    "    return ans"
   ]
  },
  {
   "cell_type": "code",
   "execution_count": 106,
   "metadata": {
    "collapsed": true
   },
   "outputs": [],
   "source": [
    "p0 = [-2,1,0]"
   ]
  },
  {
   "cell_type": "code",
   "execution_count": 107,
   "metadata": {
    "collapsed": false
   },
   "outputs": [
    {
     "name": "stdout",
     "output_type": "stream",
     "text": [
      "a = -2.3237904 +/- 6.9284232\n",
      "b = 1.5636096 +/- 0.0420454\n",
      "c = 0.0001082 +/- 0.0000461\n"
     ]
    }
   ],
   "source": [
    "xlots = np.linspace(0,910)  # need lots of data points for smooth curve\n",
    "yfit = np.zeros((len(Peaks),xlots.size))\n",
    "\n",
    "plsq, pcov = curve_fit(myfun, Peaks, Energy, p0)  # curve fit returns p and covariance matrix\n",
    "# these give the parameters and the uncertainties\n",
    "a = plsq[0]\n",
    "ea = np.sqrt(pcov[0,0])\n",
    "b = plsq[1]\n",
    "eb = np.sqrt(pcov[1,1])\n",
    "c = plsq[2]\n",
    "ec = np.sqrt(pcov[2,2])\n",
    "\n",
    "yfit = myfun(xlots,plsq[0],plsq[1],plsq[2])  # use fit results for a, b, c\n",
    "    \n",
    "print('a = %.7f +/- %.7f' % (plsq[0], np.sqrt(pcov[0,0])))\n",
    "print('b = %.7f +/- %.7f' % (plsq[1], np.sqrt(pcov[1,1])))\n",
    "print('c = %.7f +/- %.7f' % (plsq[2], np.sqrt(pcov[2,2])))"
   ]
  },
  {
   "cell_type": "markdown",
   "metadata": {},
   "source": [
    "### 1"
   ]
  },
  {
   "cell_type": "code",
   "execution_count": 109,
   "metadata": {
    "collapsed": false
   },
   "outputs": [
    {
     "name": "stderr",
     "output_type": "stream",
     "text": [
      "C:\\Anaconda3\\lib\\site-packages\\matplotlib\\collections.py:590: FutureWarning: elementwise comparison failed; returning scalar instead, but in the future will perform elementwise comparison\n",
      "  if self._edgecolors == str('face'):\n"
     ]
    },
    {
     "data": {
      "image/png": "[encoded data removed]",
      "text/plain": [
       "<matplotlib.figure.Figure at 0x1453cc0>"
      ]
     },
     "metadata": {},
     "output_type": "display_data"
    }
   ],
   "source": [
    "plt.figure(figsize=(10,6));\n",
    "plt.scatter(Peaks,Energy);\n",
    "plt.xlim(0,850)\n",
    "plt.ylim(0,1600)\n",
    "plt.xlabel('x (mm)');\n",
    "plt.ylabel('y (mm)');\n",
    "plt.plot(xlots,yfit);\n",
    "plt.legend(['data','Fit'],loc='lower right');\n",
    "plt.text(20,1400,'a = %.0f +/- %.0f keV' % (plsq[0], np.sqrt(pcov[0,0])),size=17)\n",
    "plt.text(20,1250,'b = %.2f +/- %.2f keV MCA$^{-1}$' % (plsq[1], np.sqrt(pcov[1,1])),size=17)\n",
    "plt.text(20,1100,'c = (%.2f +/- %.2f)$\\cdot 10^{-3}$ keV MCA$^{-2}$' % (plsq[2]*1e3, np.sqrt(pcov[2,2])*1e3),size=17)\n",
    "plt.xlabel('MCA Number',fontsize=20);\n",
    "plt.ylabel('Energy (keV)',fontsize = 20);\n",
    "plt.xticks(size = 13);\n",
    "plt.yticks(size = 13);\n",
    "plt.savefig('Linear')"
   ]
  },
  {
   "cell_type": "markdown",
   "metadata": {},
   "source": [
    "### 2"
   ]
  },
  {
   "cell_type": "code",
   "execution_count": 71,
   "metadata": {
    "collapsed": true
   },
   "outputs": [],
   "source": [
    "E_calc = np.array([myfun(entry,a,b,c) for entry in Peaks])"
   ]
  },
  {
   "cell_type": "code",
   "execution_count": 72,
   "metadata": {
    "collapsed": false
   },
   "outputs": [
    {
     "data": {
      "text/plain": [
       "3.6514411763655139"
      ]
     },
     "execution_count": 72,
     "metadata": {},
     "output_type": "execute_result"
    }
   ],
   "source": [
    "delta_E = np.mean(np.array([abs(E_calc[i] - Energy[i]) for i in np.arange(len(E_calc))]))\n",
    "delta_E"
   ]
  },
  {
   "cell_type": "markdown",
   "metadata": {},
   "source": [
    "### 3"
   ]
  },
  {
   "cell_type": "code",
   "execution_count": 73,
   "metadata": {
    "collapsed": false
   },
   "outputs": [
    {
     "data": {
      "text/plain": [
       "662"
      ]
     },
     "execution_count": 73,
     "metadata": {},
     "output_type": "execute_result"
    }
   ],
   "source": [
    "CS137Energy[0]"
   ]
  },
  {
   "cell_type": "code",
   "execution_count": 74,
   "metadata": {
    "collapsed": false
   },
   "outputs": [
    {
     "data": {
      "text/plain": [
       "668.131030809398"
      ]
     },
     "execution_count": 74,
     "metadata": {},
     "output_type": "execute_result"
    }
   ],
   "source": [
    "E_calc[0]"
   ]
  },
  {
   "cell_type": "code",
   "execution_count": 75,
   "metadata": {
    "collapsed": false
   },
   "outputs": [
    {
     "data": {
      "text/plain": [
       "37.176875180458865"
      ]
     },
     "execution_count": 75,
     "metadata": {},
     "output_type": "execute_result"
    }
   ],
   "source": [
    "myfun(416.77+22.48/2,a,b,c) - myfun(416.77-22.48/2,a,b,c)"
   ]
  },
  {
   "cell_type": "code",
   "execution_count": 76,
   "metadata": {
    "collapsed": false
   },
   "outputs": [
    {
     "data": {
      "text/plain": [
       "461.84675487365394"
      ]
     },
     "execution_count": 76,
     "metadata": {},
     "output_type": "execute_result"
    }
   ],
   "source": [
    "myfun(291,a,b,c)"
   ]
  },
  {
   "cell_type": "code",
   "execution_count": 77,
   "metadata": {
    "collapsed": false
   },
   "outputs": [
    {
     "data": {
      "text/plain": [
       "203.17151562419369"
      ]
     },
     "execution_count": 77,
     "metadata": {},
     "output_type": "execute_result"
    }
   ],
   "source": [
    "myfun(130.25,a,b,c)"
   ]
  },
  {
   "cell_type": "markdown",
   "metadata": {},
   "source": [
    "### 6"
   ]
  },
  {
   "cell_type": "code",
   "execution_count": 78,
   "metadata": {
    "collapsed": true
   },
   "outputs": [],
   "source": [
    "#All in channels\n",
    "CSfwhm = np.array([22.48])\n",
    "\n",
    "BAfwhm = np.array([17.03,14,6.2])\n",
    "\n",
    "COfwhm = np.array([32.1, 30.71])"
   ]
  },
  {
   "cell_type": "code",
   "execution_count": 79,
   "metadata": {
    "collapsed": false
   },
   "outputs": [],
   "source": [
    "fwhmChannels = np.hstack([CSfwhm,BAfwhm,COfwhm])"
   ]
  },
  {
   "cell_type": "code",
   "execution_count": 80,
   "metadata": {
    "collapsed": false
   },
   "outputs": [],
   "source": [
    "fwhmEnergy = np.array([abs(myfun(Peaks[i] + fwhmChannels[i]/2,a,b,c)\n",
    "                           - myfun(Peaks[i] - fwhmChannels[i]/2,a,b,c)) for i in np.arange(len(Peaks))])"
   ]
  },
  {
   "cell_type": "code",
   "execution_count": 81,
   "metadata": {
    "collapsed": false
   },
   "outputs": [
    {
     "data": {
      "text/plain": [
       "array([ 37.17687518,  27.45540851,  22.46340688,   9.76846181,\n",
       "        55.81419842,  52.76362264])"
      ]
     },
     "execution_count": 81,
     "metadata": {},
     "output_type": "execute_result"
    }
   ],
   "source": [
    "fwhmEnergy"
   ]
  },
  {
   "cell_type": "code",
   "execution_count": 82,
   "metadata": {
    "collapsed": true
   },
   "outputs": [],
   "source": [
    "resolution = np.array([fwhmEnergy[i]/myfun(Peaks[i],a,b,c) for i in np.arange(len(Peaks))])"
   ]
  },
  {
   "cell_type": "code",
   "execution_count": 83,
   "metadata": {
    "collapsed": false
   },
   "outputs": [],
   "source": [
    "EPeaks = myfun(Peaks,a,b,c)"
   ]
  },
  {
   "cell_type": "code",
   "execution_count": 84,
   "metadata": {
    "collapsed": false
   },
   "outputs": [
    {
     "data": {
      "text/plain": [
       "(array([ 0.02,  0.04,  0.06,  0.08,  0.1 ,  0.12,  0.14]),\n",
       " <a list of 7 Text yticklabel objects>)"
      ]
     },
     "execution_count": 84,
     "metadata": {},
     "output_type": "execute_result"
    },
    {
     "name": "stderr",
     "output_type": "stream",
     "text": [
      "C:\\Anaconda3\\lib\\site-packages\\matplotlib\\collections.py:590: FutureWarning: elementwise comparison failed; returning scalar instead, but in the future will perform elementwise comparison\n",
      "  if self._edgecolors == str('face'):\n"
     ]
    },
    {
     "data": {
      "image/png": "[encoded data removed]",
      "text/plain": [
       "<matplotlib.figure.Figure at 0x122fb38>"
      ]
     },
     "metadata": {},
     "output_type": "display_data"
    }
   ],
   "source": [
    "plt.figure(figsize=(10,6));\n",
    "plt.scatter(EPeaks,resolution);\n",
    "\n",
    "plt.xlabel('Channel',fontsize=20);\n",
    "plt.ylabel('Resolution (keV)',fontsize = 20);\n",
    "plt.xticks(size = 13);\n",
    "plt.yticks(size = 13);\n",
    "#plt.savefig('Sample')"
   ]
  },
  {
   "cell_type": "markdown",
   "metadata": {},
   "source": [
    "### 7"
   ]
  },
  {
   "cell_type": "code",
   "execution_count": 85,
   "metadata": {
    "collapsed": true
   },
   "outputs": [],
   "source": [
    "def myfun2(E,a,x):\n",
    "    ans = a*E**x  # this is y, \"the function to be fit\"\n",
    "    return ans"
   ]
  },
  {
   "cell_type": "code",
   "execution_count": 86,
   "metadata": {
    "collapsed": true
   },
   "outputs": [],
   "source": [
    "p02 = [.7,-1/2]"
   ]
  },
  {
   "cell_type": "code",
   "execution_count": 87,
   "metadata": {
    "collapsed": false
   },
   "outputs": [
    {
     "data": {
      "text/plain": [
       "array([  668.13103081,   354.15848584,   297.28708713,    84.36433394,\n",
       "        1334.45896011,  1169.60010483])"
      ]
     },
     "execution_count": 87,
     "metadata": {},
     "output_type": "execute_result"
    }
   ],
   "source": [
    "EPeaks"
   ]
  },
  {
   "cell_type": "code",
   "execution_count": 88,
   "metadata": {
    "collapsed": false
   },
   "outputs": [
    {
     "name": "stdout",
     "output_type": "stream",
     "text": [
      "a = 0.5579101 +/- 0.0663007\n",
      "x = -0.3511851 +/- 0.0214736\n"
     ]
    }
   ],
   "source": [
    "xlots2 = np.linspace(0,1400)  # need lots of data points for smooth curve\n",
    "yfit2 = np.zeros((len(Peaks),xlots.size))\n",
    "\n",
    "plsq, pcov = curve_fit(myfun2, EPeaks, resolution, p02)  # curve fit returns p and covariance matrix\n",
    "# these give the parameters and the uncertainties\n",
    "aa = plsq[0]\n",
    "eaa = np.sqrt(pcov[0,0])\n",
    "x = plsq[1]\n",
    "ex = np.sqrt(pcov[1,1])\n",
    "\n",
    "\n",
    "yfit2 = myfun2(xlots2,plsq[0],plsq[1])  # use fit results for a, b, c\n",
    "    \n",
    "print('a = %.7f +/- %.7f' % (plsq[0], np.sqrt(pcov[0,0])))\n",
    "print('x = %.7f +/- %.7f' % (plsq[1], np.sqrt(pcov[1,1])))"
   ]
  },
  {
   "cell_type": "code",
   "execution_count": 93,
   "metadata": {
    "collapsed": false
   },
   "outputs": [
    {
     "name": "stderr",
     "output_type": "stream",
     "text": [
      "C:\\Anaconda3\\lib\\site-packages\\matplotlib\\collections.py:590: FutureWarning: elementwise comparison failed; returning scalar instead, but in the future will perform elementwise comparison\n",
      "  if self._edgecolors == str('face'):\n"
     ]
    },
    {
     "data": {
      "image/png": "[encoded data removed]",
      "text/plain": [
       "<matplotlib.figure.Figure at 0x17dc0b8>"
      ]
     },
     "metadata": {},
     "output_type": "display_data"
    }
   ],
   "source": [
    "plt.figure(figsize=(10,6));\n",
    "plt.scatter(EPeaks,resolution);\n",
    "plt.xlim(0,1400)\n",
    "plt.ylim(0,.2)\n",
    "plt.xlabel('x (mm)');\n",
    "plt.ylabel('y (mm)');\n",
    "plt.plot(xlots2,yfit2);\n",
    "plt.legend(['fit','data'],loc='best');\n",
    "plt.text(400,.14,'a = %.2f +/- %.2f' % (plsq[0], np.sqrt(pcov[0,0])),size=17)\n",
    "plt.text(400,.12,'x = %.2f +/- %.2f' % (plsq[1], np.sqrt(pcov[1,1])),size=17)\n",
    "plt.xlabel('Energy (keV)',fontsize=20);\n",
    "plt.ylabel('Resolution',fontsize = 20);\n",
    "\n",
    "plt.xticks(size = 13);\n",
    "plt.yticks(size = 13);\n",
    "plt.savefig('Resolution')"
   ]
  },
  {
   "cell_type": "markdown",
   "metadata": {},
   "source": [
    "### 8"
   ]
  },
  {
   "cell_type": "code",
   "execution_count": 90,
   "metadata": {
    "collapsed": false
   },
   "outputs": [
    {
     "data": {
      "text/plain": [
       "1294.281973868"
      ]
     },
     "execution_count": 90,
     "metadata": {},
     "output_type": "execute_result"
    }
   ],
   "source": [
    "myfun(786.45,a,b,c)"
   ]
  },
  {
   "cell_type": "code",
   "execution_count": 91,
   "metadata": {
    "collapsed": false
   },
   "outputs": [
    {
     "data": {
      "text/plain": [
       "514.6447100556918"
      ]
     },
     "execution_count": 91,
     "metadata": {},
     "output_type": "execute_result"
    }
   ],
   "source": [
    "myfun(323.39,a,b,c)"
   ]
  },
  {
   "cell_type": "code",
   "execution_count": 92,
   "metadata": {
    "collapsed": false
   },
   "outputs": [
    {
     "data": {
      "text/plain": [
       "192.98849977507311"
      ]
     },
     "execution_count": 92,
     "metadata": {},
     "output_type": "execute_result"
    }
   ],
   "source": [
    "myfun(123.85,a,b,c)"
   ]
  }
 ],
 "metadata": {
  "kernelspec": {
   "display_name": "Python 3",
   "language": "python",
   "name": "python3"
  },
  "language_info": {
   "codemirror_mode": {
    "name": "ipython",
    "version": 3
   },
   "file_extension": ".py",
   "mimetype": "text/x-python",
   "name": "python",
   "nbconvert_exporter": "python",
   "pygments_lexer": "ipython3",
   "version": "3.4.4"
  }
 },
 "nbformat": 4,
 "nbformat_minor": 0
}
