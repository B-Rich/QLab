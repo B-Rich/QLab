{
 "cells": [
  {
   "cell_type": "code",
   "execution_count": 46,
   "metadata": {
    "collapsed": true
   },
   "outputs": [],
   "source": [
    "import pandas as pd\n",
    "import numpy as np\n",
    "import matplotlib.pyplot as plt\n",
    "from scipy.optimize import curve_fit  # import the curve fitting function\n",
    "%matplotlib inline"
   ]
  },
  {
   "cell_type": "markdown",
   "metadata": {},
   "source": [
    "# Indium-116m"
   ]
  },
  {
   "cell_type": "code",
   "execution_count": 47,
   "metadata": {
    "collapsed": true
   },
   "outputs": [],
   "source": [
    "t = 60 #One minute"
   ]
  },
  {
   "cell_type": "code",
   "execution_count": 48,
   "metadata": {
    "collapsed": true
   },
   "outputs": [],
   "source": [
    "Cbkd = 22 #Average background count\n",
    "dCbkd = 1 #uncertainty"
   ]
  },
  {
   "cell_type": "code",
   "execution_count": 49,
   "metadata": {
    "collapsed": true
   },
   "outputs": [],
   "source": [
    "Ctot = np.array([2184,1887,1782,1465,1278,1076,990,874,785,678,595,507,458])"
   ]
  },
  {
   "cell_type": "code",
   "execution_count": 50,
   "metadata": {
    "collapsed": false
   },
   "outputs": [
    {
     "data": {
      "text/plain": [
       "array([2162, 1865, 1760, 1443, 1256, 1054,  968,  852,  763,  656,  573,\n",
       "        485,  436])"
      ]
     },
     "execution_count": 50,
     "metadata": {},
     "output_type": "execute_result"
    }
   ],
   "source": [
    "Cnet = Ctot - Cbkd\n",
    "Cnet"
   ]
  },
  {
   "cell_type": "code",
   "execution_count": 51,
   "metadata": {
    "collapsed": false
   },
   "outputs": [
    {
     "data": {
      "text/plain": [
       "0.36666666666666664"
      ]
     },
     "execution_count": 51,
     "metadata": {},
     "output_type": "execute_result"
    }
   ],
   "source": [
    "Rbkd = Cbkd/t\n",
    "Rbkd"
   ]
  },
  {
   "cell_type": "code",
   "execution_count": 52,
   "metadata": {
    "collapsed": false
   },
   "outputs": [
    {
     "data": {
      "text/plain": [
       "0.078173595997057158"
      ]
     },
     "execution_count": 52,
     "metadata": {},
     "output_type": "execute_result"
    }
   ],
   "source": [
    "dRbkd = np.sqrt(Cbkd)/t\n",
    "dRbkd"
   ]
  },
  {
   "cell_type": "code",
   "execution_count": 53,
   "metadata": {
    "collapsed": false
   },
   "outputs": [
    {
     "data": {
      "text/plain": [
       "array([ 36.4       ,  31.45      ,  29.7       ,  24.41666667,\n",
       "        21.3       ,  17.93333333,  16.5       ,  14.56666667,\n",
       "        13.08333333,  11.3       ,   9.91666667,   8.45      ,   7.63333333])"
      ]
     },
     "execution_count": 53,
     "metadata": {},
     "output_type": "execute_result"
    }
   ],
   "source": [
    "R = np.array([entry/t for entry in Ctot])\n",
    "R"
   ]
  },
  {
   "cell_type": "code",
   "execution_count": 54,
   "metadata": {
    "collapsed": false
   },
   "outputs": [
    {
     "data": {
      "text/plain": [
       "array([ 0.7749552 ,  0.71976076,  0.6992059 ,  0.633114  ,  0.59066817,\n",
       "        0.54108944,  0.51854497,  0.48648398,  0.46037424,  0.42687495,\n",
       "        0.39895697,  0.36704526,  0.34801022])"
      ]
     },
     "execution_count": 54,
     "metadata": {},
     "output_type": "execute_result"
    }
   ],
   "source": [
    "dR = np.array([np.sqrt(entry)/t for entry in Cnet])\n",
    "dR"
   ]
  },
  {
   "cell_type": "code",
   "execution_count": 55,
   "metadata": {
    "collapsed": false
   },
   "outputs": [
    {
     "data": {
      "text/plain": [
       "array([ 36.03333333,  31.08333333,  29.33333333,  24.05      ,\n",
       "        20.93333333,  17.56666667,  16.13333333,  14.2       ,\n",
       "        12.71666667,  10.93333333,   9.55      ,   8.08333333,   7.26666667])"
      ]
     },
     "execution_count": 55,
     "metadata": {},
     "output_type": "execute_result"
    }
   ],
   "source": [
    "Rnet = np.array([entry - Rbkd for entry in R])\n",
    "Rnet"
   ]
  },
  {
   "cell_type": "code",
   "execution_count": 56,
   "metadata": {
    "collapsed": false
   },
   "outputs": [
    {
     "data": {
      "text/plain": [
       "array([ 0.7788881 ,  0.72399355,  0.70356236,  0.63792197,  0.59581876,\n",
       "        0.54670732,  0.52440442,  0.49272485,  0.46696419,  0.43397389,\n",
       "        0.4065437 ,  0.37527767,  0.35668224])"
      ]
     },
     "execution_count": 56,
     "metadata": {},
     "output_type": "execute_result"
    }
   ],
   "source": [
    "dRnet = np.sqrt(dR**2 + dRbkd**2)\n",
    "dRnet"
   ]
  },
  {
   "cell_type": "code",
   "execution_count": 57,
   "metadata": {
    "collapsed": false
   },
   "outputs": [
    {
     "data": {
      "text/plain": [
       "array([ 46.73328578,  43.43961326,  42.21374184,  38.27531842,\n",
       "        35.74912586,  32.80243893,  31.46426545,  29.563491  ,\n",
       "        28.01785145,  26.03843313,  24.39262184,  22.5166605 ,  21.40093456])"
      ]
     },
     "execution_count": 57,
     "metadata": {},
     "output_type": "execute_result"
    }
   ],
   "source": [
    "dCnet = dRnet*t\n",
    "dCnet"
   ]
  },
  {
   "cell_type": "markdown",
   "metadata": {},
   "source": [
    "### #1"
   ]
  },
  {
   "cell_type": "code",
   "execution_count": 58,
   "metadata": {
    "collapsed": false
   },
   "outputs": [
    {
     "data": {
      "text/plain": [
       "array([2162, 1865, 1760, 1443, 1256, 1054,  968,  852,  763,  656,  573,\n",
       "        485,  436])"
      ]
     },
     "execution_count": 58,
     "metadata": {},
     "output_type": "execute_result"
    }
   ],
   "source": [
    "Cnet"
   ]
  },
  {
   "cell_type": "code",
   "execution_count": 59,
   "metadata": {
    "collapsed": false
   },
   "outputs": [
    {
     "data": {
      "text/plain": [
       "array([ 46.73328578,  43.43961326,  42.21374184,  38.27531842,\n",
       "        35.74912586,  32.80243893,  31.46426545,  29.563491  ,\n",
       "        28.01785145,  26.03843313,  24.39262184,  22.5166605 ,  21.40093456])"
      ]
     },
     "execution_count": 59,
     "metadata": {},
     "output_type": "execute_result"
    }
   ],
   "source": [
    "dCnet"
   ]
  },
  {
   "cell_type": "code",
   "execution_count": 60,
   "metadata": {
    "collapsed": true
   },
   "outputs": [],
   "source": [
    "T = np.array([0,10,20,30,40,50,60,70,80,90,100,110,120])"
   ]
  },
  {
   "cell_type": "code",
   "execution_count": 81,
   "metadata": {
    "collapsed": false
   },
   "outputs": [
    {
     "data": {
      "image/png": "[encoded data removed]",
      "text/plain": [
       "<matplotlib.figure.Figure at 0x1666fccafd0>"
      ]
     },
     "metadata": {},
     "output_type": "display_data"
    }
   ],
   "source": [
    "plt.figure(figsize=(9,4))\n",
    "plt.errorbar(T, Cnet, yerr=dCnet,ls=\"None\",marker='.');\n",
    "plt.xlim(0,125);\n",
    "plt.xlabel('Time Elapsed (minutes)',size=20);\n",
    "plt.ylabel('Decay Counts',size=20);\n",
    "plt.xticks(size = 13);\n",
    "plt.yticks(size = 13);"
   ]
  },
  {
   "cell_type": "markdown",
   "metadata": {},
   "source": [
    "### #2"
   ]
  },
  {
   "cell_type": "code",
   "execution_count": 83,
   "metadata": {
    "collapsed": true
   },
   "outputs": [],
   "source": [
    "y = np.array([np.log(entry) for entry in Cnet])\n",
    "dy = np.array([1/np.sqrt(entry) for entry in Cnet])"
   ]
  },
  {
   "cell_type": "code",
   "execution_count": 85,
   "metadata": {
    "collapsed": false
   },
   "outputs": [
    {
     "data": {
      "text/plain": [
       "array([ 0.02150662,  0.02315584,  0.02383656,  0.02632491,  0.02821663,\n",
       "        0.03080206,  0.03214122,  0.03425944,  0.03620243,  0.03904344,\n",
       "        0.0417756 ,  0.04540766,  0.04789131])"
      ]
     },
     "execution_count": 85,
     "metadata": {},
     "output_type": "execute_result"
    }
   ],
   "source": [
    "dy #All positive"
   ]
  },
  {
   "cell_type": "markdown",
   "metadata": {},
   "source": [
    "### #3"
   ]
  },
  {
   "cell_type": "code",
   "execution_count": 88,
   "metadata": {
    "collapsed": true
   },
   "outputs": [],
   "source": [
    "def myfun(t,C_o,tau):\n",
    "    ans = np.log(C_o) - t/tau  # this is y, \"the function to be fit\"\n",
    "    return ans"
   ]
  },
  {
   "cell_type": "code",
   "execution_count": 89,
   "metadata": {
    "collapsed": true
   },
   "outputs": [],
   "source": [
    "p0 = [2200,60]"
   ]
  },
  {
   "cell_type": "code",
   "execution_count": 95,
   "metadata": {
    "collapsed": false
   },
   "outputs": [
    {
     "name": "stdout",
     "output_type": "stream",
     "text": [
      "C_o = 2174 +/- 28\n",
      "tau = 74.5 +/- 1.3\n"
     ]
    }
   ],
   "source": [
    "xlots = np.linspace(0,120)  # need lots of data points for smooth curve\n",
    "yfit = np.zeros((len(T),xlots.size))\n",
    "\n",
    "plsq, pcov = curve_fit(myfun, T, y, p0,dy)  # curve fit returns p and covariance matrix\n",
    "# these give the parameters and the uncertainties\n",
    "C_o = plsq[0]\n",
    "eC_o = np.sqrt(pcov[0,0])\n",
    "tau = plsq[1]\n",
    "etau = np.sqrt(pcov[1,1])\n",
    "\n",
    "\n",
    "yfit = myfun(xlots,plsq[0],plsq[1])  # use fit results for a, b, c\n",
    "    \n",
    "print('C_o = %.0f +/- %.0f' % (plsq[0], np.sqrt(pcov[0,0])))\n",
    "print('tau = %.1f +/- %.1f' % (plsq[1], np.sqrt(pcov[1,1])))"
   ]
  },
  {
   "cell_type": "code",
   "execution_count": 103,
   "metadata": {
    "collapsed": false
   },
   "outputs": [
    {
     "data": {
      "image/png": "[encoded data removed]",
      "text/plain": [
       "<matplotlib.figure.Figure at 0x1666e026048>"
      ]
     },
     "metadata": {},
     "output_type": "display_data"
    }
   ],
   "source": [
    "plt.figure(figsize=(9,4))\n",
    "plt.errorbar(T, y, yerr=dy,ls=\"None\",marker='.');\n",
    "plt.xlim(0,120);\n",
    "plt.ylim(5.5,8.1)\n",
    "plt.xlabel('Time Elapsed (minutes)',size=20);\n",
    "plt.ylabel('Ln(Decay Counts)',size=20);\n",
    "plt.xticks(size = 13);\n",
    "plt.yticks(size = 13);\n",
    "plt.plot(xlots,yfit);"
   ]
  },
  {
   "cell_type": "markdown",
   "metadata": {},
   "source": [
    "### #4"
   ]
  },
  {
   "cell_type": "code",
   "execution_count": 104,
   "metadata": {
    "collapsed": false
   },
   "outputs": [
    {
     "data": {
      "text/plain": [
       "51.612089523116637"
      ]
     },
     "execution_count": 104,
     "metadata": {},
     "output_type": "execute_result"
    }
   ],
   "source": [
    "Thalf = tau*np.log(2)\n",
    "Thalf"
   ]
  },
  {
   "cell_type": "code",
   "execution_count": 106,
   "metadata": {
    "collapsed": false
   },
   "outputs": [
    {
     "data": {
      "text/plain": [
       "0.90956843016693822"
      ]
     },
     "execution_count": 106,
     "metadata": {},
     "output_type": "execute_result"
    }
   ],
   "source": [
    "dThalf = etau*np.log(2)\n",
    "dThalf"
   ]
  },
  {
   "cell_type": "markdown",
   "metadata": {},
   "source": [
    "From wiki, the half life of Indium-116m is 54.29 minutes"
   ]
  },
  {
   "cell_type": "code",
   "execution_count": null,
   "metadata": {
    "collapsed": true
   },
   "outputs": [],
   "source": []
  }
 ],
 "metadata": {
  "anaconda-cloud": {},
  "kernelspec": {
   "display_name": "Python [default]",
   "language": "python",
   "name": "python3"
  },
  "language_info": {
   "codemirror_mode": {
    "name": "ipython",
    "version": 3
   },
   "file_extension": ".py",
   "mimetype": "text/x-python",
   "name": "python",
   "nbconvert_exporter": "python",
   "pygments_lexer": "ipython3",
   "version": "3.5.2"
  }
 },
 "nbformat": 4,
 "nbformat_minor": 1
}
