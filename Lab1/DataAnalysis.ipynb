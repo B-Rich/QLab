{
 "cells": [
  {
   "cell_type": "code",
   "execution_count": 151,
   "metadata": {
    "collapsed": true
   },
   "outputs": [],
   "source": [
    "import pandas as pd\n",
    "import numpy as np\n",
    "import matplotlib.pyplot as plt\n",
    "from scipy.optimize import curve_fit  # import the curve fitting function\n",
    "%matplotlib inline"
   ]
  },
  {
   "cell_type": "markdown",
   "metadata": {},
   "source": [
    "## Read/Sort Data"
   ]
  },
  {
   "cell_type": "code",
   "execution_count": 210,
   "metadata": {
    "collapsed": false
   },
   "outputs": [],
   "source": [
    "df = pd.read_excel('Data.xlsx', sheetname=None)"
   ]
  },
  {
   "cell_type": "code",
   "execution_count": 211,
   "metadata": {
    "collapsed": false
   },
   "outputs": [
    {
     "data": {
      "text/html": [
       "<div>\n",
       "<table border=\"1\" class=\"dataframe\">\n",
       "  <thead>\n",
       "    <tr style=\"text-align: right;\">\n",
       "      <th></th>\n",
       "      <th>x(cm)</th>\n",
       "      <th>positive y(tic)</th>\n",
       "      <th>negative y(tic)</th>\n",
       "      <th>uncertainty +/- (tic)</th>\n",
       "      <th>offset (tic)</th>\n",
       "      <th>tic length (m)</th>\n",
       "      <th>current (A)</th>\n",
       "      <th>current uncertainty (A)</th>\n",
       "      <th>voltage (V)</th>\n",
       "      <th>voltage uncertainty (V)</th>\n",
       "    </tr>\n",
       "  </thead>\n",
       "  <tbody>\n",
       "    <tr>\n",
       "      <th>0</th>\n",
       "      <td>2</td>\n",
       "      <td>0.625</td>\n",
       "      <td>-1.00</td>\n",
       "      <td>0.25</td>\n",
       "      <td>-0.25</td>\n",
       "      <td>0.002</td>\n",
       "      <td>0.31</td>\n",
       "      <td>0.01</td>\n",
       "      <td>1000</td>\n",
       "      <td>1</td>\n",
       "    </tr>\n",
       "    <tr>\n",
       "      <th>1</th>\n",
       "      <td>4</td>\n",
       "      <td>1.875</td>\n",
       "      <td>-2.50</td>\n",
       "      <td>0.25</td>\n",
       "      <td>-0.25</td>\n",
       "      <td>NaN</td>\n",
       "      <td>NaN</td>\n",
       "      <td>NaN</td>\n",
       "      <td>NaN</td>\n",
       "      <td>NaN</td>\n",
       "    </tr>\n",
       "    <tr>\n",
       "      <th>2</th>\n",
       "      <td>6</td>\n",
       "      <td>4.000</td>\n",
       "      <td>-4.50</td>\n",
       "      <td>0.25</td>\n",
       "      <td>-0.25</td>\n",
       "      <td>NaN</td>\n",
       "      <td>NaN</td>\n",
       "      <td>NaN</td>\n",
       "      <td>NaN</td>\n",
       "      <td>NaN</td>\n",
       "    </tr>\n",
       "    <tr>\n",
       "      <th>3</th>\n",
       "      <td>8</td>\n",
       "      <td>6.500</td>\n",
       "      <td>-7.25</td>\n",
       "      <td>0.25</td>\n",
       "      <td>-0.25</td>\n",
       "      <td>NaN</td>\n",
       "      <td>NaN</td>\n",
       "      <td>NaN</td>\n",
       "      <td>NaN</td>\n",
       "      <td>NaN</td>\n",
       "    </tr>\n",
       "    <tr>\n",
       "      <th>4</th>\n",
       "      <td>10</td>\n",
       "      <td>10.000</td>\n",
       "      <td>-10.50</td>\n",
       "      <td>0.50</td>\n",
       "      <td>0.00</td>\n",
       "      <td>NaN</td>\n",
       "      <td>NaN</td>\n",
       "      <td>NaN</td>\n",
       "      <td>NaN</td>\n",
       "      <td>NaN</td>\n",
       "    </tr>\n",
       "  </tbody>\n",
       "</table>\n",
       "</div>"
      ],
      "text/plain": [
       "   x(cm)  positive y(tic)  negative y(tic)  uncertainty +/- (tic)  \\\n",
       "0      2            0.625            -1.00                   0.25   \n",
       "1      4            1.875            -2.50                   0.25   \n",
       "2      6            4.000            -4.50                   0.25   \n",
       "3      8            6.500            -7.25                   0.25   \n",
       "4     10           10.000           -10.50                   0.50   \n",
       "\n",
       "   offset (tic)  tic length (m)  current (A)  current uncertainty (A)  \\\n",
       "0         -0.25           0.002         0.31                     0.01   \n",
       "1         -0.25             NaN          NaN                      NaN   \n",
       "2         -0.25             NaN          NaN                      NaN   \n",
       "3         -0.25             NaN          NaN                      NaN   \n",
       "4          0.00             NaN          NaN                      NaN   \n",
       "\n",
       "   voltage (V)  voltage uncertainty (V)  \n",
       "0         1000                        1  \n",
       "1          NaN                      NaN  \n",
       "2          NaN                      NaN  \n",
       "3          NaN                      NaN  \n",
       "4          NaN                      NaN  "
      ]
     },
     "execution_count": 211,
     "metadata": {},
     "output_type": "execute_result"
    }
   ],
   "source": [
    "df['1000V']"
   ]
  },
  {
   "cell_type": "code",
   "execution_count": 212,
   "metadata": {
    "collapsed": false
   },
   "outputs": [],
   "source": [
    "keys = ['1000V','1500V','2000V','2500V','3000V']"
   ]
  },
  {
   "cell_type": "code",
   "execution_count": 213,
   "metadata": {
    "collapsed": false
   },
   "outputs": [],
   "source": [
    "xpoints = np.array([df[key]['x(cm)'] for key in keys]) #Same x points at all voltages\n",
    "\n",
    "#Convert x (cm) to meters\n",
    "xpoints = xpoints*1e-2\n",
    "\n",
    "tic_length = df['1000V']['tic length (m)'][0] #Length of ticks on paper\n",
    "\n",
    "y_uncertainty = np.array(df['1000V']['uncertainty +/- (tic)']) #Eyeball measurement\n",
    "\n",
    "#convert y_uncertainty from ticks to meters\n",
    "y_uncertainty = y_uncertainty*tic_length\n",
    "\n",
    "i_uncertainty = df['1000V']['current uncertainty (A)'][0]\n",
    "v_uncertainty = df['1000V']['voltage uncertainty (V)'][0]\n",
    "\n",
    "\n",
    "offsets = np.array([df[key]['offset (tic)'] for key in keys]) #At V=0, the beam wasn't quite through y = 0.\n",
    "#Convert ticks to meters\n",
    "offsets = offsets*tic_length\n"
   ]
  },
  {
   "cell_type": "code",
   "execution_count": 214,
   "metadata": {
    "collapsed": true
   },
   "outputs": [],
   "source": [
    "y_up = np.array([df[key]['positive y(tic)'] for key in keys]) #Upward deflection in ticks.\n",
    "y_down = np.array([df[key]['negative y(tic)'] for key in keys])#Downward\n",
    "\n",
    "#Convert ticks to meters\n",
    "y_up = y_up*tic_length\n",
    "y_down = y_down*tic_length\n",
    "\n",
    "#Correct for offset\n",
    "y_up = y_up - offsets\n",
    "y_down = y_down - offsets\n",
    "\n",
    "#Average to account for alignment\n",
    "ypoints = (1/2)*(y_up + abs(y_down))\n",
    "\n",
    "currents = np.array([df[key]['current (A)'][0] for key in keys]) #Amps\n",
    "voltages = np.array([df[key]['voltage (V)'][0] for key in keys], dtype=int) #Voltes"
   ]
  },
  {
   "cell_type": "markdown",
   "metadata": {},
   "source": [
    "## Plot Data"
   ]
  },
  {
   "cell_type": "code",
   "execution_count": 215,
   "metadata": {
    "collapsed": false
   },
   "outputs": [
    {
     "name": "stderr",
     "output_type": "stream",
     "text": [
      "C:\\Anaconda3\\lib\\site-packages\\matplotlib\\collections.py:590: FutureWarning: elementwise comparison failed; returning scalar instead, but in the future will perform elementwise comparison\n",
      "  if self._edgecolors == str('face'):\n"
     ]
    },
    {
     "data": {
      "image/png": "[encoded data removed]",
      "text/plain": [
       "<matplotlib.figure.Figure at 0x5fff898>"
      ]
     },
     "metadata": {},
     "output_type": "display_data"
    }
   ],
   "source": [
    "plt.errorbar(xpoints[1],ypoints[1],y_uncertainty[1],linestyle = '',marker = 'o');\n",
    "plt.xlabel('x (cm)');\n",
    "plt.ylabel('y deflection (cm)');\n",
    "plt.xlim(0,.12);"
   ]
  },
  {
   "cell_type": "markdown",
   "metadata": {
    "collapsed": true
   },
   "source": [
    "## Curve fit to find the radius of curvature\n",
    "\n",
    "The electron is deflected radially by the field.  \n",
    "The equation of a circle with radius $a$ centered at $(x,y)=(b,c)$ is given by\n",
    "$$(x-b)^2+(y-c)^2 = a^2$$\n",
    "Let's rewrite this in terms of $y$,\n",
    "$$y=-\\sqrt{a^2-(x-b)^2}+c$$\n",
    "We define the function and then want to find the best estimates for $a, b, c$ consistent with our data."
   ]
  },
  {
   "cell_type": "code",
   "execution_count": 216,
   "metadata": {
    "collapsed": true
   },
   "outputs": [],
   "source": [
    "def myfun(x,a,b,c):\n",
    "    ans = -np.sqrt(a**2-(x-b)**2)+c  # this is y, \"the function to be fit\"\n",
    "    return ans"
   ]
  },
  {
   "cell_type": "code",
   "execution_count": 217,
   "metadata": {
    "collapsed": true
   },
   "outputs": [],
   "source": [
    "p0 = [.15, 0, .15]"
   ]
  },
  {
   "cell_type": "code",
   "execution_count": 218,
   "metadata": {
    "collapsed": true
   },
   "outputs": [],
   "source": [
    "#Initialize arrays to hold a,b,c for all data\n",
    "a = np.zeros(len(xpoints)) #Radius\n",
    "ea = np.zeros(len(xpoints)) #uncertainty\n",
    "b = np.zeros(len(xpoints)) #x shift\n",
    "eb = np.zeros(len(xpoints))\n",
    "c = np.zeros(len(xpoints)) #y shift\n",
    "ec = np.zeros(len(xpoints))"
   ]
  },
  {
   "cell_type": "code",
   "execution_count": 219,
   "metadata": {
    "collapsed": false
   },
   "outputs": [
    {
     "name": "stdout",
     "output_type": "stream",
     "text": [
      "a = 0.320 +/- 0.022\n",
      "b = -0.012 +/- 0.005\n",
      "c = 0.320 +/- 0.021\n"
     ]
    }
   ],
   "source": [
    "xlots = np.linspace(.5e-2,11e-2)  # need lots of data points for smooth curve\n",
    "yfit = np.zeros((len(xpoints),xlots.size))\n",
    "\n",
    "for i in np.arange(0,len(xpoints)): \n",
    "    plsq, pcov = curve_fit(myfun, xpoints[i], ypoints[i], p0, y_uncertainty[i])  # curve fit returns p and covariance matrix\n",
    "    # these give the parameters and the uncertainties\n",
    "    a[i] = plsq[0]\n",
    "    ea[i] = np.sqrt(pcov[0,0])\n",
    "    b[i] = plsq[1]\n",
    "    eb[i] = np.sqrt(pcov[1,1])\n",
    "    c[i] = plsq[2]\n",
    "    ec[i] = np.sqrt(pcov[2,2])\n",
    "    yfit[i] = myfun(xlots,plsq[0],plsq[1],plsq[2])  # use fit results for a, b, c\n",
    "    \n",
    "print('a = %.3f +/- %.3f' % (plsq[0], np.sqrt(pcov[0,0])))\n",
    "print('b = %.3f +/- %.3f' % (plsq[1], np.sqrt(pcov[1,1])))\n",
    "print('c = %.3f +/- %.3f' % (plsq[2], np.sqrt(pcov[2,2])))"
   ]
  },
  {
   "cell_type": "markdown",
   "metadata": {},
   "source": [
    "Now we use the fitted parameters in our function to compare with the data."
   ]
  },
  {
   "cell_type": "markdown",
   "metadata": {},
   "source": [
    "## Least Squares Fit"
   ]
  },
  {
   "cell_type": "code",
   "execution_count": 220,
   "metadata": {
    "collapsed": false
   },
   "outputs": [
    {
     "name": "stderr",
     "output_type": "stream",
     "text": [
      "C:\\Anaconda3\\lib\\site-packages\\matplotlib\\collections.py:590: FutureWarning: elementwise comparison failed; returning scalar instead, but in the future will perform elementwise comparison\n",
      "  if self._edgecolors == str('face'):\n"
     ]
    },
    {
     "data": {
      "image/png": "[encoded data removed]",
      "text/plain": [
       "<matplotlib.figure.Figure at 0xb4efb38>"
      ]
     },
     "metadata": {},
     "output_type": "display_data"
    }
   ],
   "source": [
    "plt.errorbar(xpoints[1],ypoints[1],y_uncertainty[1],linestyle = '',marker = 'o');\n",
    "plt.xlabel('x (mm)');\n",
    "plt.ylabel('y (mm)');\n",
    "plt.plot(xlots,yfit[1]);\n",
    "plt.title('Least-squares fit to data');\n",
    "plt.legend(['data','Fit'],loc='best');"
   ]
  },
  {
   "cell_type": "markdown",
   "metadata": {},
   "source": [
    "## Calculating e/m"
   ]
  },
  {
   "cell_type": "markdown",
   "metadata": {},
   "source": [
    "From the Lorentz force law,\n",
    "\n",
    "\\begin{equation*}\n",
    "\\frac{e}{m} = \\frac{2V_a}{B^2 r^2} \n",
    "\\end{equation*}\n",
    "\n",
    "and the magnetic field of a Helmholtz coil,\n",
    "\\begin{equation*}\n",
    "B = \\frac{16 {\\mu}_o N I}{\\sqrt{125}D} \n",
    "\\end{equation*}\n",
    "\n",
    "we calculate the charge per mass in terms of measured quantities,\n",
    "\\begin{equation*}\n",
    "\\frac{e}{m} = \\frac{125}{128}\\frac{V_a D^2}{{{\\mu}_o}^2 N^2 I^2 r^2} \n",
    "\\end{equation*}"
   ]
  },
  {
   "cell_type": "code",
   "execution_count": 237,
   "metadata": {
    "collapsed": false
   },
   "outputs": [],
   "source": [
    "mu_o = 4*np.pi*1e-7\n",
    "D = 21.3*1e-2\n",
    "D_uncertainty = 1e-3\n",
    "N=124\n",
    "\n",
    "acceptedvalue = 1.76*1e11 #C/kg\n",
    "\n",
    "eperm = np.array([(125/128)*voltages[i]*(D**2)/( (mu_o**2)*(N**2)*(currents[i]**2)*(a[i]**2) ) for i in np.arange(0,len(xpoints))])"
   ]
  },
  {
   "cell_type": "markdown",
   "metadata": {},
   "source": [
    "## Plot vs Accepted Value"
   ]
  },
  {
   "cell_type": "code",
   "execution_count": 235,
   "metadata": {
    "collapsed": false
   },
   "outputs": [
    {
     "name": "stderr",
     "output_type": "stream",
     "text": [
      "C:\\Anaconda3\\lib\\site-packages\\matplotlib\\collections.py:590: FutureWarning: elementwise comparison failed; returning scalar instead, but in the future will perform elementwise comparison\n",
      "  if self._edgecolors == str('face'):\n"
     ]
    },
    {
     "data": {
      "image/png": "[encoded data removed]",
      "text/plain": [
       "<matplotlib.figure.Figure at 0x5d290b8>"
      ]
     },
     "metadata": {},
     "output_type": "display_data"
    }
   ],
   "source": [
    "plt.scatter(np.arange(0,len(xpoints)),eperm);\n",
    "xplaces = np.linspace(-.5,5.5,50);\n",
    "plt.plot(xplaces,np.array([acceptedvalue]*len(xplaces)));\n",
    "plt.xlim(-.5,4.5);\n",
    "plt.legend(['Accepted Value','Measured Value'],loc='lower left');\n",
    "plt.ylabel('Charge to Mass Ratio (C/kg)');\n",
    "plt.xlabel('Accelerating Voltage')\n",
    "labels = np.array([(str(entry)+'V') for entry in voltages]);\n",
    "plt.xticks(np.arange(0,len(xpoints)), labels, rotation='vertical');"
   ]
  },
  {
   "cell_type": "markdown",
   "metadata": {},
   "source": [
    "## Uncertainty"
   ]
  },
  {
   "cell_type": "code",
   "execution_count": 254,
   "metadata": {
    "collapsed": false
   },
   "outputs": [
    {
     "data": {
      "text/plain": [
       "15270897668.044897"
      ]
     },
     "execution_count": 254,
     "metadata": {},
     "output_type": "execute_result"
    }
   ],
   "source": [
    "std = np.std(eperm)\n",
    "std"
   ]
  },
  {
   "cell_type": "code",
   "execution_count": 301,
   "metadata": {
    "collapsed": false
   },
   "outputs": [],
   "source": [
    "u = (np.array([np.sqrt(np.sqrt( (v_uncertainty/voltages[i])**2 + 4*(i_uncertainty/currents[i])**2 + 4*(ea[0]/a[0])**2 + \n",
    "                                  4*(D_uncertainty/D)))*eperm[i] for i in np.arange(0,len(voltages))]))\n",
    "avg_u = np.mean(u)"
   ]
  },
  {
   "cell_type": "code",
   "execution_count": 302,
   "metadata": {
    "collapsed": true
   },
   "outputs": [],
   "source": [
    "mean_std = avg_u/np.sqrt(len(xpoints))"
   ]
  },
  {
   "cell_type": "markdown",
   "metadata": {},
   "source": [
    "## Results"
   ]
  },
  {
   "cell_type": "code",
   "execution_count": 303,
   "metadata": {
    "collapsed": false
   },
   "outputs": [
    {
     "name": "stderr",
     "output_type": "stream",
     "text": [
      "C:\\Anaconda3\\lib\\site-packages\\matplotlib\\collections.py:590: FutureWarning: elementwise comparison failed; returning scalar instead, but in the future will perform elementwise comparison\n",
      "  if self._edgecolors == str('face'):\n"
     ]
    },
    {
     "data": {
      "image/png": "[encoded data removed]",
      "text/plain": [
       "<matplotlib.figure.Figure at 0xb3c4dd8>"
      ]
     },
     "metadata": {},
     "output_type": "display_data"
    }
   ],
   "source": [
    "plt.figure(figsize=(10,6));\n",
    "plt.errorbar(np.arange(0,len(xpoints)),eperm,u, linestyle = '',marker = 'o');\n",
    "xplaces = np.linspace(-1,5.5,50);\n",
    "plt.plot(xplaces,np.array([acceptedvalue]*len(xplaces)));\n",
    "plt.xlim(-1,5);\n",
    "plt.ylim(0,2.8*1e11)\n",
    "plt.legend(['Measured Values','Accepted Value'],loc='lower left');\n",
    "plt.ylabel('Charge to Mass Ratio (C/kg)');\n",
    "plt.xlabel('Accelerating Voltage')\n",
    "labels = np.array([(str(entry)+'V') for entry in voltages]);\n",
    "plt.xticks(np.arange(0,len(xpoints)), labels, rotation='vertical');"
   ]
  },
  {
   "cell_type": "code",
   "execution_count": 304,
   "metadata": {
    "collapsed": false
   },
   "outputs": [
    {
     "data": {
      "text/plain": [
       "164819847874.82666"
      ]
     },
     "execution_count": 304,
     "metadata": {},
     "output_type": "execute_result"
    }
   ],
   "source": [
    "np.mean(eperm)"
   ]
  },
  {
   "cell_type": "code",
   "execution_count": 305,
   "metadata": {
    "collapsed": false
   },
   "outputs": [
    {
     "data": {
      "text/plain": [
       "28677000225.926479"
      ]
     },
     "execution_count": 305,
     "metadata": {},
     "output_type": "execute_result"
    }
   ],
   "source": [
    "mean_std"
   ]
  },
  {
   "cell_type": "markdown",
   "metadata": {},
   "source": [
    "## Final Value"
   ]
  },
  {
   "cell_type": "code",
   "execution_count": 330,
   "metadata": {
    "collapsed": false
   },
   "outputs": [
    {
     "name": "stdout",
     "output_type": "stream",
     "text": [
      "e/m = (1.648 +/- 0.287)x100000000000.0 C/kg\n"
     ]
    }
   ],
   "source": [
    "print('e/m = (%.3f +/- %.3f)x%s C/kg' % (np.mean(eperm)/1e11, mean_std/1e11,1e11))"
   ]
  },
  {
   "cell_type": "code",
   "execution_count": 332,
   "metadata": {
    "collapsed": false
   },
   "outputs": [
    {
     "data": {
      "text/plain": [
       "1.76"
      ]
     },
     "execution_count": 332,
     "metadata": {},
     "output_type": "execute_result"
    }
   ],
   "source": [
    "acceptedvalue/1e11"
   ]
  },
  {
   "cell_type": "code",
   "execution_count": null,
   "metadata": {
    "collapsed": true
   },
   "outputs": [],
   "source": []
  }
 ],
 "metadata": {
  "kernelspec": {
   "display_name": "Python 3",
   "language": "python",
   "name": "python3"
  },
  "language_info": {
   "codemirror_mode": {
    "name": "ipython",
    "version": 3
   },
   "file_extension": ".py",
   "mimetype": "text/x-python",
   "name": "python",
   "nbconvert_exporter": "python",
   "pygments_lexer": "ipython3",
   "version": "3.4.4"
  }
 },
 "nbformat": 4,
 "nbformat_minor": 0
}
